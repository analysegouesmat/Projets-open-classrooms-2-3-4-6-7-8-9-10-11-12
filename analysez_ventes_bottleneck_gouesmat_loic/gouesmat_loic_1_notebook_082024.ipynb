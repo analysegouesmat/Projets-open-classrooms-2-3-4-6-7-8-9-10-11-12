{
 "cells": [
  {
   "cell_type": "markdown",
   "id": "97dccc01",
   "metadata": {},
   "source": [
    "<div style=\"display: flex; background-color: RGB(255,114,0);\" >\n",
    "<h1 style=\"margin: auto; padding: 30px; \">ANALYSE DU STOCK ET DES VENTES DU SITE BOTTLENECK</h1>\n",
    "</div>"
   ]
  },
  {
   "cell_type": "markdown",
   "id": "4d0d1bb8",
   "metadata": {},
   "source": [
    "# OBJECTIF DE CE NOTEBOOK\n",
    "\n",
    "Bienvenue dans l'outil plébiscité par les analystes de données Jupyter.\n",
    "\n",
    "Il s'agit d'un outil permettant de mixer et d'alterner codes, textes et graphique.\n",
    "\n",
    "Cet outil est formidable pour plusieurs raisons:\n",
    "\n",
    "+ il permet de tester des lignes de codes au fur et à mesure de votre rédaction, de constater immédiatement le résultat d'un instruction, de la corriger si nécessaire.\n",
    "+ De rédiger du texte pour expliquer l'approche suivie ou les résultats d'une analyse et de le mettre en forme grâce à du code html ou plus simple avec **Markdown**\n",
    "+ d'agrémenter de graphiques\n",
    "\n",
    "Pour vous aider dans vos premiers pas à l'usage de Jupyter et de Python, nous avons rédigé ce notebook en vous indiquant les instructions à suivre.\n",
    "\n",
    "Il vous suffit pour cela de saisir le code Python répondant à l'instruction donnée.\n",
    "\n",
    "Vous verrez de temps à autre le code Python répondant à une instruction donnée mais cela est fait pour vous aider à comprendre la nature du travail qui vous est demandée.\n",
    "\n",
    "Et garder à l'esprit, qu'il n'y a pas de solution unique pour résoudre un problème et qu'il y a autant de résolutions de problèmes que de développeurs ;)...\n",
    "\n"
   ]
  },
  {
   "cell_type": "markdown",
   "id": "b85efb87",
   "metadata": {},
   "source": [
    "<div style=\"background-color: RGB(51,165,182);\" >\n",
    "<h2 style=\"margin: auto; padding: 20px; color:#fff; \">Etape 1 - Importation des librairies et chargement des fichiers</h2>\n",
    "</div>"
   ]
  },
  {
   "cell_type": "markdown",
   "id": "b5449401",
   "metadata": {},
   "source": [
    "<div style=\"border: 1px solid RGB(51,165,182);\" >\n",
    "<h3 style=\"margin: auto; padding: 20px; color: RGB(51,165,182); \">1.1 - Importation des librairies</h3>\n",
    "</div>"
   ]
  },
  {
   "cell_type": "code",
   "execution_count": 78,
   "id": "e6ef06ec",
   "metadata": {},
   "outputs": [],
   "source": [
    "#Importation de la librairie Pandas\n",
    "import pandas as pd\n",
    "\n",
    "#Importation de la librairie plotly express \n",
    "import plotly.express as px \n",
    "\n",
    "#Importation de la librairie Numpy\n",
    "import numpy as np\n",
    "\n",
    "#importation de seaborn\n",
    "import seaborn as sns\n",
    "\n",
    "#importation de matplotlib\n",
    "import matplotlib.pyplot as plt\n",
    "\n",
    "#Importation de scipy\n",
    "import scipy.stats as stats"
   ]
  },
  {
   "cell_type": "code",
   "execution_count": 79,
   "id": "0a718067",
   "metadata": {},
   "outputs": [
    {
     "name": "stdout",
     "output_type": "stream",
     "text": [
      "la liste des noms des colonnes du dataframe df_ex :  ['col1' 'col2' 'col3']\n"
     ]
    }
   ],
   "source": [
    "#Trouver dans Google l'instruction permettant d'afficher toutes les colonnes d'un dataframe\n",
    "#Saisir, dans Google, les mots clés \"display all columns dataframe Pandas\", par exemple.\n",
    "#Dans les résultats de la recherche, privilégiez les solutions provenants de Stack Overflow ou Medium\n",
    "\n",
    "#création d'un dataframe exemple.\n",
    "exemple= pd.DataFrame ({'col1' : ['a','b','xcd'],\n",
    "                        'col2' : [12,1835,1],\n",
    "                        'col3' : [1,1,'aaa']})\n",
    "\n",
    "print(\"la liste des noms des colonnes du dataframe df_ex : \", exemple.columns.values)"
   ]
  },
  {
   "cell_type": "markdown",
   "id": "f4918299",
   "metadata": {},
   "source": [
    "<div style=\"border: 1px solid RGB(51,165,182);\" >\n",
    "<h3 style=\"margin: auto; padding: 20px; color: RGB(51,165,182); \">1.2 - Chargements des fichiers</h3>\n",
    "</div>"
   ]
  },
  {
   "cell_type": "code",
   "execution_count": 80,
   "id": "9642cf03",
   "metadata": {},
   "outputs": [],
   "source": [
    "#les fichiers excel on été convertis en csv au préalable.\n",
    "#Importation du fichier web.csv\n",
    "df_web = pd.read_csv(\"web.csv\", delimiter=';') # préciser que le délimiteur est ; et non pas , car la virgule est utilisée pour les chiffres en france plutot qu'un point.\n",
    "#Importation du fichier erp.csv\n",
    "df_erp = pd.read_csv(\"erp.csv\", delimiter=';') #erp = entrerise ressources planning.\n",
    "#importation du fichier liaison.csv\n",
    "df_liaison = pd.read_csv(\"liaison.csv\", delimiter=';')"
   ]
  },
  {
   "cell_type": "markdown",
   "id": "605f7056",
   "metadata": {},
   "source": [
    "<div style=\"background-color: RGB(51,165,182);\" >\n",
    "<h2 style=\"margin: auto; padding: 20px; color:#fff; \">Etape 2 - Analyse exploratoire des fichiers</h2>\n",
    "</div>"
   ]
  },
  {
   "cell_type": "markdown",
   "id": "47d3a649",
   "metadata": {},
   "source": [
    "<div style=\"border: 1px solid RGB(51,165,182);\" >\n",
    "<h3 style=\"margin: auto; padding: 20px; color: RGB(51,165,182); \">2.1 - Analyse exploratoire du fichier erp.xlsx</h3>\n",
    "</div>"
   ]
  },
  {
   "cell_type": "code",
   "execution_count": 81,
   "id": "094ef206",
   "metadata": {},
   "outputs": [
    {
     "name": "stdout",
     "output_type": "stream",
     "text": [
      "Le tableau comporte 825 observation(s) ou article(s)\n",
      "Le tableau comporte 6 colonne(s)\n"
     ]
    }
   ],
   "source": [
    "#Afficher les dimensions du dataset\n",
    "print(\"Le tableau comporte {} observation(s) ou article(s)\".format(df_erp.shape[0]))\n",
    "print(\"Le tableau comporte {} colonne(s)\".format(df_erp.shape[1]))\n"
   ]
  },
  {
   "cell_type": "code",
   "execution_count": 82,
   "id": "182441f0",
   "metadata": {},
   "outputs": [
    {
     "name": "stdout",
     "output_type": "stream",
     "text": [
      "Le tableau df_erp comporte 6 colonne(s)\n",
      "--------------------------------------------------\n",
      "La nature des colonnes sont :  product_id         int64\n",
      "onsale_web         int64\n",
      "price             object\n",
      "stock_quantity     int64\n",
      "stock_status      object\n",
      "purchase_price    object\n",
      "dtype: object\n",
      "--------------------------------------------------\n",
      "Somme des valeurs dans la colonne 'product_id' : 825\n",
      "Somme des valeurs dans la colonne 'onsale_web' : 825\n",
      "Somme des valeurs dans la colonne 'price' : 825\n",
      "Somme des valeurs dans la colonne 'stock_quantity' : 825\n",
      "Somme des valeurs dans la colonne 'stock_status' : 825\n",
      "Somme des valeurs dans la colonne 'purchase_price' : 825\n"
     ]
    }
   ],
   "source": [
    "#Consulter le nombre de colonnes\n",
    "print(\"Le tableau df_erp comporte {} colonne(s)\".format(df_erp.shape[1]))\n",
    "print(\"--------------------------------------------------\")\n",
    "#La nature des données dans chacune des colonnes\n",
    "print(\"La nature des colonnes sont : \", df_erp.dtypes)\n",
    "print(\"--------------------------------------------------\")\n",
    "#Le nombre de valeurs présentes dans chacune des colonnes\n",
    "for colonne in df_erp.columns :\n",
    "    values_sum = df_erp[colonne].count()\n",
    "    print(f\"Somme des valeurs dans la colonne '{colonne}' : {values_sum}\")\n"
   ]
  },
  {
   "cell_type": "code",
   "execution_count": 83,
   "id": "db102a4a",
   "metadata": {},
   "outputs": [
    {
     "name": "stdout",
     "output_type": "stream",
     "text": [
      "Ci-dessous le nombre de valeurs ayant des duplicatas par colonnes :  \n",
      "\n",
      " product_id        0\n",
      "onsale_web        0\n",
      "price             0\n",
      "stock_quantity    0\n",
      "stock_status      0\n",
      "purchase_price    0\n",
      "dtype: int64\n"
     ]
    }
   ],
   "source": [
    "#Vérifier si il y a les lignes en doublons dans la colonne product_id\n",
    "duplicatas = df_erp[df_erp.duplicated]\n",
    "\n",
    "print(\"Ci-dessous le nombre de valeurs ayant des duplicatas par colonnes : \",\"\\n\\n\",duplicatas.count())"
   ]
  },
  {
   "cell_type": "code",
   "execution_count": 84,
   "id": "d443d4ff",
   "metadata": {},
   "outputs": [
    {
     "name": "stdout",
     "output_type": "stream",
     "text": [
      "Valeurs distinctes de la colonne stock_status :  ['instock' 'outofstock']\n",
      "\n",
      "\n",
      "La colonne stock_status semble être en lien avec la colonne stock_quantity\n",
      " 0     89\n",
      " 3      1\n",
      "-10     1\n",
      "-1      1\n",
      "Name: count, dtype: int64 \n",
      "\n",
      "Bien que certaines valeurs semblent étrange ou érronnées.\n"
     ]
    }
   ],
   "source": [
    "#Afficher les valeurs distinctes de la colonne stock_status\n",
    "#À quelle(s) autre(s) colonne(s) sont-elles liées ?\n",
    "print(\"Valeurs distinctes de la colonne stock_status : \",df_erp.stock_status.unique())\n",
    "\n",
    "valeurs = df_erp.loc[df_erp['stock_status'] == 'outofstock', 'stock_quantity']\n",
    "print(\"\\n\\nLa colonne stock_status semble être en lien avec la colonne\",valeurs.value_counts(),\"\\n\\nBien que certaines valeurs semblent étrange ou érronnées.\")\n",
    "\n",
    "\n"
   ]
  },
  {
   "cell_type": "code",
   "execution_count": 85,
   "id": "68088943",
   "metadata": {},
   "outputs": [
    {
     "data": {
      "text/html": [
       "<div>\n",
       "<style scoped>\n",
       "    .dataframe tbody tr th:only-of-type {\n",
       "        vertical-align: middle;\n",
       "    }\n",
       "\n",
       "    .dataframe tbody tr th {\n",
       "        vertical-align: top;\n",
       "    }\n",
       "\n",
       "    .dataframe thead th {\n",
       "        text-align: right;\n",
       "    }\n",
       "</style>\n",
       "<table border=\"1\" class=\"dataframe\">\n",
       "  <thead>\n",
       "    <tr style=\"text-align: right;\">\n",
       "      <th></th>\n",
       "      <th>product_id</th>\n",
       "      <th>onsale_web</th>\n",
       "      <th>price</th>\n",
       "      <th>stock_quantity</th>\n",
       "      <th>stock_status</th>\n",
       "      <th>purchase_price</th>\n",
       "      <th>stock_status2</th>\n",
       "    </tr>\n",
       "  </thead>\n",
       "  <tbody>\n",
       "    <tr>\n",
       "      <th>0</th>\n",
       "      <td>3847</td>\n",
       "      <td>1</td>\n",
       "      <td>24,2</td>\n",
       "      <td>16</td>\n",
       "      <td>instock</td>\n",
       "      <td>12,88</td>\n",
       "      <td>instock</td>\n",
       "    </tr>\n",
       "    <tr>\n",
       "      <th>1</th>\n",
       "      <td>3849</td>\n",
       "      <td>1</td>\n",
       "      <td>34,3</td>\n",
       "      <td>10</td>\n",
       "      <td>instock</td>\n",
       "      <td>17,54</td>\n",
       "      <td>instock</td>\n",
       "    </tr>\n",
       "    <tr>\n",
       "      <th>2</th>\n",
       "      <td>3850</td>\n",
       "      <td>1</td>\n",
       "      <td>20,8</td>\n",
       "      <td>0</td>\n",
       "      <td>outofstock</td>\n",
       "      <td>10,64</td>\n",
       "      <td>outofstock</td>\n",
       "    </tr>\n",
       "    <tr>\n",
       "      <th>3</th>\n",
       "      <td>4032</td>\n",
       "      <td>1</td>\n",
       "      <td>14,1</td>\n",
       "      <td>26</td>\n",
       "      <td>instock</td>\n",
       "      <td>6,92</td>\n",
       "      <td>instock</td>\n",
       "    </tr>\n",
       "    <tr>\n",
       "      <th>4</th>\n",
       "      <td>4039</td>\n",
       "      <td>1</td>\n",
       "      <td>46</td>\n",
       "      <td>3</td>\n",
       "      <td>outofstock</td>\n",
       "      <td>23,77</td>\n",
       "      <td>instock</td>\n",
       "    </tr>\n",
       "  </tbody>\n",
       "</table>\n",
       "</div>"
      ],
      "text/plain": [
       "   product_id  onsale_web price  stock_quantity stock_status purchase_price  \\\n",
       "0        3847           1  24,2              16      instock          12,88   \n",
       "1        3849           1  34,3              10      instock          17,54   \n",
       "2        3850           1  20,8               0   outofstock          10,64   \n",
       "3        4032           1  14,1              26      instock           6,92   \n",
       "4        4039           1    46               3   outofstock          23,77   \n",
       "\n",
       "  stock_status2  \n",
       "0       instock  \n",
       "1       instock  \n",
       "2    outofstock  \n",
       "3       instock  \n",
       "4       instock  "
      ]
     },
     "execution_count": 85,
     "metadata": {},
     "output_type": "execute_result"
    }
   ],
   "source": [
    "#Création d'une colonne \"stock_status_2\n",
    "#La valeur de cette deuxième colonne sera fonction de la valeur dans la colonne \"stock_quantity\"\n",
    "#si la valeur de la colonne \"stock_quantity\" est nulle renseigner \"outofstock\" sinon mettre \"instock\"\n",
    "df_erp['stock_status2'] = df_erp['stock_quantity'].apply(lambda x: 'instock' if x != 0 else 'outofstock')#la fonction lambda est affecté à une variable.\n",
    "df_erp.head()\n"
   ]
  },
  {
   "cell_type": "code",
   "execution_count": 86,
   "id": "90a1c8ae",
   "metadata": {},
   "outputs": [
    {
     "data": {
      "text/plain": [
       "0       True\n",
       "1       True\n",
       "2       True\n",
       "3       True\n",
       "4      False\n",
       "       ...  \n",
       "820     True\n",
       "821     True\n",
       "822     True\n",
       "823     True\n",
       "824     True\n",
       "Length: 825, dtype: bool"
      ]
     },
     "execution_count": 86,
     "metadata": {},
     "output_type": "execute_result"
    }
   ],
   "source": [
    "#Vérifions que les 2 colonnes sont identiques:\n",
    "#Les 2 colonnes sont strictement identiques si les valeurs de chaque ligne sont strictement identiques 2 à 2\n",
    "#La comparaison de 2 colonnes peut se réaliser simplement avec l'instruction ci-dessous:\n",
    "#Le résultat est l'affichage de True ou False pour chacune des lignes du dataset\n",
    "#C'est un bon début, mais difficile à exploiter\n",
    "\n",
    "\n",
    "df_erp['stock_status'] == df_erp['stock_status2']\n"
   ]
  },
  {
   "cell_type": "code",
   "execution_count": 87,
   "id": "ebe3650a",
   "metadata": {},
   "outputs": [
    {
     "name": "stdout",
     "output_type": "stream",
     "text": [
      "La somme des valeurs booléennes converties est : 821 \n",
      "Nombre de valeurs différentes : 4\n"
     ]
    }
   ],
   "source": [
    "#Mais il est possible de synthétiser ce résultat en effectuant la somme de cette colonne:\n",
    "#True vaut 1 et False 0\n",
    "#Nous devrions obtenir la somme de 824 qui correspond au nombre de lignes dans ce dataset\n",
    "\n",
    "\n",
    "comp=df_erp['stock_status'] == df_erp['stock_status2']\n",
    "somme = comp.astype(int).sum()\n",
    "\n",
    "print(\"La somme des valeurs booléennes converties est :\",  somme , \"\\nNombre de valeurs différentes :\", 825 - somme )\n"
   ]
  },
  {
   "cell_type": "code",
   "execution_count": 88,
   "id": "1ca6060a",
   "metadata": {},
   "outputs": [
    {
     "name": "stdout",
     "output_type": "stream",
     "text": [
      "visualisation des lignes différentes entre stock_status et stock_status2 : \n"
     ]
    },
    {
     "data": {
      "text/html": [
       "<div>\n",
       "<style scoped>\n",
       "    .dataframe tbody tr th:only-of-type {\n",
       "        vertical-align: middle;\n",
       "    }\n",
       "\n",
       "    .dataframe tbody tr th {\n",
       "        vertical-align: top;\n",
       "    }\n",
       "\n",
       "    .dataframe thead th {\n",
       "        text-align: right;\n",
       "    }\n",
       "</style>\n",
       "<table border=\"1\" class=\"dataframe\">\n",
       "  <thead>\n",
       "    <tr style=\"text-align: right;\">\n",
       "      <th></th>\n",
       "      <th>product_id</th>\n",
       "      <th>onsale_web</th>\n",
       "      <th>price</th>\n",
       "      <th>stock_quantity</th>\n",
       "      <th>stock_status</th>\n",
       "      <th>purchase_price</th>\n",
       "      <th>stock_status2</th>\n",
       "    </tr>\n",
       "  </thead>\n",
       "  <tbody>\n",
       "    <tr>\n",
       "      <th>4</th>\n",
       "      <td>4039</td>\n",
       "      <td>1</td>\n",
       "      <td>46</td>\n",
       "      <td>3</td>\n",
       "      <td>outofstock</td>\n",
       "      <td>23,77</td>\n",
       "      <td>instock</td>\n",
       "    </tr>\n",
       "    <tr>\n",
       "      <th>398</th>\n",
       "      <td>4885</td>\n",
       "      <td>1</td>\n",
       "      <td>18,7</td>\n",
       "      <td>0</td>\n",
       "      <td>instock</td>\n",
       "      <td>9,66</td>\n",
       "      <td>outofstock</td>\n",
       "    </tr>\n",
       "    <tr>\n",
       "      <th>449</th>\n",
       "      <td>4973</td>\n",
       "      <td>0</td>\n",
       "      <td>10</td>\n",
       "      <td>-10</td>\n",
       "      <td>outofstock</td>\n",
       "      <td>4,96</td>\n",
       "      <td>instock</td>\n",
       "    </tr>\n",
       "    <tr>\n",
       "      <th>573</th>\n",
       "      <td>5700</td>\n",
       "      <td>1</td>\n",
       "      <td>44,5</td>\n",
       "      <td>-1</td>\n",
       "      <td>outofstock</td>\n",
       "      <td>22,3</td>\n",
       "      <td>instock</td>\n",
       "    </tr>\n",
       "  </tbody>\n",
       "</table>\n",
       "</div>"
      ],
      "text/plain": [
       "     product_id  onsale_web price  stock_quantity stock_status purchase_price  \\\n",
       "4          4039           1    46               3   outofstock          23,77   \n",
       "398        4885           1  18,7               0      instock           9,66   \n",
       "449        4973           0    10             -10   outofstock           4,96   \n",
       "573        5700           1  44,5              -1   outofstock           22,3   \n",
       "\n",
       "    stock_status2  \n",
       "4         instock  \n",
       "398    outofstock  \n",
       "449       instock  \n",
       "573       instock  "
      ]
     },
     "execution_count": 88,
     "metadata": {},
     "output_type": "execute_result"
    }
   ],
   "source": [
    "#Si les colonnes ne sont absolument pas identiques ligne à ligne alors identifier la ligne en écart\n",
    "##Dans ce cas je vous ce lien pour apprendre à réaliser des filtres dans Pandas:\n",
    "##https://bitbucket.org/hrojas/learn-pandas/src/master/\n",
    "##Lesson 3\n",
    "print('visualisation des lignes différentes entre stock_status et stock_status2 : ')\n",
    "df_erp[(df_erp.stock_status)!=(df_erp.stock_status2)]"
   ]
  },
  {
   "cell_type": "code",
   "execution_count": 89,
   "id": "ce1b9704",
   "metadata": {},
   "outputs": [
    {
     "data": {
      "text/html": [
       "<div>\n",
       "<style scoped>\n",
       "    .dataframe tbody tr th:only-of-type {\n",
       "        vertical-align: middle;\n",
       "    }\n",
       "\n",
       "    .dataframe tbody tr th {\n",
       "        vertical-align: top;\n",
       "    }\n",
       "\n",
       "    .dataframe thead th {\n",
       "        text-align: right;\n",
       "    }\n",
       "</style>\n",
       "<table border=\"1\" class=\"dataframe\">\n",
       "  <thead>\n",
       "    <tr style=\"text-align: right;\">\n",
       "      <th></th>\n",
       "      <th>product_id</th>\n",
       "      <th>onsale_web</th>\n",
       "      <th>price</th>\n",
       "      <th>stock_quantity</th>\n",
       "      <th>stock_status</th>\n",
       "      <th>purchase_price</th>\n",
       "      <th>stock_status2</th>\n",
       "    </tr>\n",
       "  </thead>\n",
       "  <tbody>\n",
       "  </tbody>\n",
       "</table>\n",
       "</div>"
      ],
      "text/plain": [
       "Empty DataFrame\n",
       "Columns: [product_id, onsale_web, price, stock_quantity, stock_status, purchase_price, stock_status2]\n",
       "Index: []"
      ]
     },
     "execution_count": 89,
     "metadata": {},
     "output_type": "execute_result"
    }
   ],
   "source": [
    "#Corriger la ou les données incohérentes\n",
    "df_erp['stock_quantity'] = df_erp['stock_quantity'].clip(lower=0) #clip est une fonction qui permet de modifier les valeurs d'un df en établissant des barrières.\n",
    "df_erp.loc[4,\"stock_status\"]=\"instock\"\n",
    "df_erp.loc[398,\"stock_status\"]=\"outofstock\"\n",
    "#Verification en utilisant le même code que plus haut pour afficher les problemes\n",
    "df_erp['stock_status2'] = df_erp['stock_quantity'].apply(lambda x: 'instock' if x != 0 else 'outofstock')\n",
    "\n",
    "df_erp[(df_erp.stock_status)!=(df_erp.stock_status2)]"
   ]
  },
  {
   "cell_type": "code",
   "execution_count": 90,
   "id": "de938a56",
   "metadata": {},
   "outputs": [
    {
     "name": "stdout",
     "output_type": "stream",
     "text": [
      "On supprime stock_status2\n"
     ]
    },
    {
     "data": {
      "text/html": [
       "<div>\n",
       "<style scoped>\n",
       "    .dataframe tbody tr th:only-of-type {\n",
       "        vertical-align: middle;\n",
       "    }\n",
       "\n",
       "    .dataframe tbody tr th {\n",
       "        vertical-align: top;\n",
       "    }\n",
       "\n",
       "    .dataframe thead th {\n",
       "        text-align: right;\n",
       "    }\n",
       "</style>\n",
       "<table border=\"1\" class=\"dataframe\">\n",
       "  <thead>\n",
       "    <tr style=\"text-align: right;\">\n",
       "      <th></th>\n",
       "      <th>product_id</th>\n",
       "      <th>onsale_web</th>\n",
       "      <th>price</th>\n",
       "      <th>stock_quantity</th>\n",
       "      <th>stock_status</th>\n",
       "      <th>purchase_price</th>\n",
       "    </tr>\n",
       "  </thead>\n",
       "  <tbody>\n",
       "    <tr>\n",
       "      <th>0</th>\n",
       "      <td>3847</td>\n",
       "      <td>1</td>\n",
       "      <td>24,2</td>\n",
       "      <td>16</td>\n",
       "      <td>instock</td>\n",
       "      <td>12,88</td>\n",
       "    </tr>\n",
       "    <tr>\n",
       "      <th>1</th>\n",
       "      <td>3849</td>\n",
       "      <td>1</td>\n",
       "      <td>34,3</td>\n",
       "      <td>10</td>\n",
       "      <td>instock</td>\n",
       "      <td>17,54</td>\n",
       "    </tr>\n",
       "    <tr>\n",
       "      <th>2</th>\n",
       "      <td>3850</td>\n",
       "      <td>1</td>\n",
       "      <td>20,8</td>\n",
       "      <td>0</td>\n",
       "      <td>outofstock</td>\n",
       "      <td>10,64</td>\n",
       "    </tr>\n",
       "    <tr>\n",
       "      <th>3</th>\n",
       "      <td>4032</td>\n",
       "      <td>1</td>\n",
       "      <td>14,1</td>\n",
       "      <td>26</td>\n",
       "      <td>instock</td>\n",
       "      <td>6,92</td>\n",
       "    </tr>\n",
       "    <tr>\n",
       "      <th>4</th>\n",
       "      <td>4039</td>\n",
       "      <td>1</td>\n",
       "      <td>46</td>\n",
       "      <td>3</td>\n",
       "      <td>instock</td>\n",
       "      <td>23,77</td>\n",
       "    </tr>\n",
       "  </tbody>\n",
       "</table>\n",
       "</div>"
      ],
      "text/plain": [
       "   product_id  onsale_web price  stock_quantity stock_status purchase_price\n",
       "0        3847           1  24,2              16      instock          12,88\n",
       "1        3849           1  34,3              10      instock          17,54\n",
       "2        3850           1  20,8               0   outofstock          10,64\n",
       "3        4032           1  14,1              26      instock           6,92\n",
       "4        4039           1    46               3      instock          23,77"
      ]
     },
     "execution_count": 90,
     "metadata": {},
     "output_type": "execute_result"
    }
   ],
   "source": [
    "df_erp.drop(columns=[\"stock_status2\"],inplace=True)\n",
    "print('On supprime stock_status2')\n",
    "df_erp.head()"
   ]
  },
  {
   "cell_type": "markdown",
   "id": "08bd4b08",
   "metadata": {},
   "source": [
    "<div style=\"border: 1px solid RGB(51,165,182);\" >\n",
    "<h3 style=\"margin: auto; padding: 20px; color: RGB(51,165,182); \">2.1.1 - Analyse exploratoire de chaque variable du fichier erp.xlsx</h3>\n",
    "</div>"
   ]
  },
  {
   "cell_type": "markdown",
   "id": "3476df40",
   "metadata": {},
   "source": [
    "<div style=\"border: 1px solid RGB(51,165,182);\" >\n",
    "<h3 style=\"margin: auto; padding: 20px; color: RGB(51,165,182); \">2.1.1.1 - Analyse de la variable PRIX</h3>\n",
    "</div>"
   ]
  },
  {
   "cell_type": "code",
   "execution_count": 91,
   "id": "a7fc3384",
   "metadata": {},
   "outputs": [
    {
     "name": "stdout",
     "output_type": "stream",
     "text": [
      "nombre de lignes ayant des données nulles :  0\n",
      "\n",
      "-------------------------------------\n",
      "\n",
      "lignes présentant des valeurs négative : \n"
     ]
    },
    {
     "data": {
      "text/html": [
       "<div>\n",
       "<style scoped>\n",
       "    .dataframe tbody tr th:only-of-type {\n",
       "        vertical-align: middle;\n",
       "    }\n",
       "\n",
       "    .dataframe tbody tr th {\n",
       "        vertical-align: top;\n",
       "    }\n",
       "\n",
       "    .dataframe thead th {\n",
       "        text-align: right;\n",
       "    }\n",
       "</style>\n",
       "<table border=\"1\" class=\"dataframe\">\n",
       "  <thead>\n",
       "    <tr style=\"text-align: right;\">\n",
       "      <th></th>\n",
       "      <th>product_id</th>\n",
       "      <th>onsale_web</th>\n",
       "      <th>price</th>\n",
       "      <th>stock_quantity</th>\n",
       "      <th>stock_status</th>\n",
       "      <th>purchase_price</th>\n",
       "    </tr>\n",
       "  </thead>\n",
       "  <tbody>\n",
       "    <tr>\n",
       "      <th>151</th>\n",
       "      <td>4233</td>\n",
       "      <td>0</td>\n",
       "      <td>-20.0</td>\n",
       "      <td>0</td>\n",
       "      <td>outofstock</td>\n",
       "      <td>10,33</td>\n",
       "    </tr>\n",
       "    <tr>\n",
       "      <th>469</th>\n",
       "      <td>5017</td>\n",
       "      <td>0</td>\n",
       "      <td>-8.0</td>\n",
       "      <td>0</td>\n",
       "      <td>outofstock</td>\n",
       "      <td>4,34</td>\n",
       "    </tr>\n",
       "    <tr>\n",
       "      <th>739</th>\n",
       "      <td>6594</td>\n",
       "      <td>0</td>\n",
       "      <td>-9.1</td>\n",
       "      <td>19</td>\n",
       "      <td>instock</td>\n",
       "      <td>4,61</td>\n",
       "    </tr>\n",
       "  </tbody>\n",
       "</table>\n",
       "</div>"
      ],
      "text/plain": [
       "     product_id  onsale_web  price  stock_quantity stock_status purchase_price\n",
       "151        4233           0  -20.0               0   outofstock          10,33\n",
       "469        5017           0   -8.0               0   outofstock           4,34\n",
       "739        6594           0   -9.1              19      instock           4,61"
      ]
     },
     "execution_count": 91,
     "metadata": {},
     "output_type": "execute_result"
    }
   ],
   "source": [
    "###############\n",
    "## LES PRIX  ##\n",
    "###############\n",
    "\n",
    "#Vérification des prix: Y a t-il des prix non renseignés, négatif ou nul?\n",
    "\n",
    "df_erp[\"price\"] = df_erp[\"price\"].str.replace(\",\", \".\") #changer le séparateur pour pouvoir convertir en numeric\n",
    "df_erp[\"price\"] = pd.to_numeric(df_erp[\"price\"]) #convertir en numeric\n",
    "\n",
    "print(\"nombre de lignes ayant des données nulles : \",df_erp['price'].isnull().sum()) #voir si il y a des NULL\n",
    "print('\\n-------------------------------------')\n",
    "print('\\nlignes présentant des valeurs négative : ')\n",
    "lignes_negative=df_erp[df_erp['price']<0]\n",
    "lignes_negative\n",
    "\n",
    "\n"
   ]
  },
  {
   "cell_type": "code",
   "execution_count": 92,
   "id": "86d5cf20",
   "metadata": {},
   "outputs": [
    {
     "name": "stdout",
     "output_type": "stream",
     "text": [
      "\n",
      "Nombres d'article avec un prix non renseigné: 0\n",
      "\n",
      "-------------------------------------\n",
      "\n",
      "Prix minimum de la colonne :  -20.0\n",
      "\n",
      "-------------------------------------\n",
      "\n",
      "Prix maximum de la colonne :  225.0\n",
      "\n",
      "-------------------------------------\n",
      "\n",
      "lignes présentant des valeurs négative :  \n",
      " 151   -20.0\n",
      "469    -8.0\n",
      "739    -9.1\n",
      "Name: price, dtype: float64\n",
      "\n",
      "les valeurs négatives sont sans doutes une erreur de saisie.\n"
     ]
    }
   ],
   "source": [
    "#Afficher le ou les prix non renseignés dans la colonne \"price\"\n",
    "valeurs_null=df_erp['price'].isnull().sum()\n",
    "print(\"\\nNombres d'article avec un prix non renseigné: {}\".format(valeurs_null)) #Saisir l'instruction manquante dans la fonction format\n",
    "print('\\n-------------------------------------')\n",
    "#Afficher le prix minimum de la colonne \"price\"\n",
    "print('\\nPrix minimum de la colonne : ',df_erp['price'].min())\n",
    "print('\\n-------------------------------------')\n",
    "#Afficher le prix maximum de la colonne \"price\"\n",
    "print('\\nPrix maximum de la colonne : ',df_erp['price'].max())\n",
    "#Affichier les prix inférieurs à 0 (qu'est ce qu'il faut en faire ?)\n",
    "print('\\n-------------------------------------')\n",
    "lignes_negative=df_erp[df_erp['price']<0]\n",
    "print('\\nlignes présentant des valeurs négative : ','\\n',lignes_negative['price'])\n",
    "print('\\nles valeurs négatives sont sans doutes une erreur de saisie.')\n",
    "\n",
    "#df_erp.loc[151,\"price\"]=20.0\n",
    "#df_erp.loc[469,\"price\"]=8.0\n",
    "#df_erp.loc[739,\"price\"]=9.1\n",
    "#print(\"\\nlignes négatives converties en positif :\",\"\\n\",df_erp.loc[[151, 469, 739],'price'])\n"
   ]
  },
  {
   "cell_type": "code",
   "execution_count": 93,
   "id": "b1786543",
   "metadata": {},
   "outputs": [
    {
     "data": {
      "text/html": [
       "<div>\n",
       "<style scoped>\n",
       "    .dataframe tbody tr th:only-of-type {\n",
       "        vertical-align: middle;\n",
       "    }\n",
       "\n",
       "    .dataframe tbody tr th {\n",
       "        vertical-align: top;\n",
       "    }\n",
       "\n",
       "    .dataframe thead th {\n",
       "        text-align: right;\n",
       "    }\n",
       "</style>\n",
       "<table border=\"1\" class=\"dataframe\">\n",
       "  <thead>\n",
       "    <tr style=\"text-align: right;\">\n",
       "      <th></th>\n",
       "      <th>product_id</th>\n",
       "      <th>onsale_web</th>\n",
       "      <th>price</th>\n",
       "      <th>stock_quantity</th>\n",
       "      <th>stock_status</th>\n",
       "      <th>purchase_price</th>\n",
       "    </tr>\n",
       "  </thead>\n",
       "  <tbody>\n",
       "    <tr>\n",
       "      <th>151</th>\n",
       "      <td>4233</td>\n",
       "      <td>0</td>\n",
       "      <td>-20.0</td>\n",
       "      <td>0</td>\n",
       "      <td>outofstock</td>\n",
       "      <td>10,33</td>\n",
       "    </tr>\n",
       "    <tr>\n",
       "      <th>469</th>\n",
       "      <td>5017</td>\n",
       "      <td>0</td>\n",
       "      <td>-8.0</td>\n",
       "      <td>0</td>\n",
       "      <td>outofstock</td>\n",
       "      <td>4,34</td>\n",
       "    </tr>\n",
       "    <tr>\n",
       "      <th>739</th>\n",
       "      <td>6594</td>\n",
       "      <td>0</td>\n",
       "      <td>-9.1</td>\n",
       "      <td>19</td>\n",
       "      <td>instock</td>\n",
       "      <td>4,61</td>\n",
       "    </tr>\n",
       "  </tbody>\n",
       "</table>\n",
       "</div>"
      ],
      "text/plain": [
       "     product_id  onsale_web  price  stock_quantity stock_status purchase_price\n",
       "151        4233           0  -20.0               0   outofstock          10,33\n",
       "469        5017           0   -8.0               0   outofstock           4,34\n",
       "739        6594           0   -9.1              19      instock           4,61"
      ]
     },
     "execution_count": 93,
     "metadata": {},
     "output_type": "execute_result"
    }
   ],
   "source": [
    "negative=df_erp[df_erp['price']<0]\n",
    "negative"
   ]
  },
  {
   "cell_type": "markdown",
   "id": "c5fce58c",
   "metadata": {},
   "source": [
    "<div style=\"border: 1px solid RGB(51,165,182);\" >\n",
    "<h3 style=\"margin: auto; padding: 20px; color: RGB(51,165,182); \">2.1.1.2 - Analyse de la variable STOCK</h3>\n",
    "</div>"
   ]
  },
  {
   "cell_type": "code",
   "execution_count": 94,
   "id": "3d14c4a0",
   "metadata": {},
   "outputs": [
    {
     "name": "stdout",
     "output_type": "stream",
     "text": [
      "type de la colonne stock quantity:  int64 \n",
      "nombre de lignes nulles :  0 \n",
      "nombre de valeurs négative :  19\n",
      "quantité minimum :  0\n",
      "quantité maximum :  145\n",
      "----------------------------------------------------\n",
      "les valeurs inférieur à 0 on déjà été corrigé précédement et on été tranformé en 0.\n"
     ]
    }
   ],
   "source": [
    "#######################\n",
    "### stock_quantity  ###\n",
    "#######################\n",
    "\n",
    "#Vérification de la colonne stock quantity\n",
    "lignes_negative=df_erp[df_erp['price']<0]\n",
    "print('type de la colonne stock quantity: ',df_erp['stock_quantity'].dtype,\n",
    "      \"\\nnombre de lignes nulles : \", df_erp['stock_quantity'].isnull().sum(),\n",
    "      \"\\nnombre de valeurs négative : \",lignes_negative['stock_quantity'].sum())\n",
    "#Afficher la quantité minimum de la colonne \"stock_quantity\"\n",
    "print('quantité minimum : ',df_erp['stock_quantity'].min())\n",
    "#Afficher la quantité maximum de la colonne \"stock_quantity\"\n",
    "print('quantité maximum : ',df_erp['stock_quantity'].max())\n",
    "#Affichier les stocks inférieurs à 0 (qu'est ce qu'il faut en faire ?)\n",
    "print('----------------------------------------------------')\n",
    "print('les valeurs inférieur à 0 on déjà été corrigé précédement et on été tranformé en 0.')\n"
   ]
  },
  {
   "cell_type": "markdown",
   "id": "20e8c554",
   "metadata": {},
   "source": [
    "<div style=\"border: 1px solid RGB(51,165,182);\" >\n",
    "<h3 style=\"margin: auto; padding: 20px; color: RGB(51,165,182); \">2.1.1.3 - Analyse de la variable ONSALE_WEB</h3>\n",
    "</div>"
   ]
  },
  {
   "cell_type": "code",
   "execution_count": 95,
   "id": "99b936ca",
   "metadata": {},
   "outputs": [
    {
     "name": "stdout",
     "output_type": "stream",
     "text": [
      "La colonne onsale_web contient des valeurs de type :  int64\n",
      "liste des valeurs unique :  [1 0]\n",
      "Nombre de valeurs manquantes :  0\n",
      "\n",
      "On peu en conclure qu'en fait la colonne onsale_web est in booléen déterminant si un produit est en vente sur le site ou non.\n",
      "1 représentant les produits en vente sur le site et 0 les produit seulement disponible sur place.\n",
      "\n",
      "----------------------------------------------------\n",
      "\n",
      "une bonne idée serais de vérifier si toutes les lignes contenant un 0 sont aussi considéré out of stock dans la colonne stock_status.\n",
      "\n",
      "nombre de lignes ayant pour valeur 0 dans onsale_web :  109\n",
      "\n",
      "nombre de lignes ou onsale_web = 0 et stock_status = outofstock :  44\n",
      "nombre de lignes ou onsale_web = 0 et stock_status = instock :  65\n"
     ]
    }
   ],
   "source": [
    "#Vérification de la colonne onsale_web et des valeurs qu'elle contient? Que signifient-elles?\n",
    "print('La colonne onsale_web contient des valeurs de type : ',df_erp['onsale_web'].dtype)\n",
    "print('liste des valeurs unique : ',df_erp['onsale_web'].unique() )\n",
    "print('Nombre de valeurs manquantes : ',df_erp['onsale_web'].isnull().sum())\n",
    "print(\"\\nOn peu en conclure qu'en fait la colonne onsale_web est in booléen déterminant si un produit est en vente sur le site ou non.\")\n",
    "print('1 représentant les produits en vente sur le site et 0 les produit seulement disponible sur place.')\n",
    "print('\\n----------------------------------------------------')\n",
    "print('\\nune bonne idée serais de vérifier si toutes les lignes contenant un 0 sont aussi considéré out of stock dans la colonne stock_status.')\n",
    "\n",
    "print('\\nnombre de lignes ayant pour valeur 0 dans onsale_web : ',len(df_erp[df_erp['onsale_web']==0]))\n",
    "nb_lines_out = len(df_erp[(df_erp['onsale_web'] == 0) & (df_erp['stock_status'] == 'outofstock')])\n",
    "nb_lines_on = len(df_erp[(df_erp['onsale_web'] == 0) & (df_erp['stock_status'] == 'instock')])\n",
    "print('\\nnombre de lignes ou onsale_web = 0 et stock_status = outofstock : ',nb_lines_out)\n",
    "print('nombre de lignes ou onsale_web = 0 et stock_status = instock : ',nb_lines_on)"
   ]
  },
  {
   "cell_type": "code",
   "execution_count": 96,
   "id": "5a79444d",
   "metadata": {},
   "outputs": [
    {
     "name": "stdout",
     "output_type": "stream",
     "text": [
      "product_id : sert à identifier le produit et à faire la liaison avec les autres tables.\n",
      "onsale_web : sert à déterminer si le produit est en vente en ligne. pourrais être transformé en booléen true/false.\n",
      "price : prix de vente\n",
      "stock_quantity : nombre de produits en stock\n",
      "stock_status : booléen déterminant si le produit est en stock.\n",
      "purchase_price : prix d'achat.\n",
      "\n",
      "La colonne pouvant être supprimée est stock_status puisque nous avons déjà stock_quantity qui détermine si un produit est disponible à la vente ou non.\n"
     ]
    }
   ],
   "source": [
    "#Quelles sont les colonnes à conserver selon vous?\n",
    "print('product_id : sert à identifier le produit et à faire la liaison avec les autres tables.')\n",
    "print('onsale_web : sert à déterminer si le produit est en vente en ligne. pourrais être transformé en booléen true/false.')\n",
    "print('price : prix de vente')\n",
    "print('stock_quantity : nombre de produits en stock')\n",
    "print('stock_status : booléen déterminant si le produit est en stock.')\n",
    "print(\"purchase_price : prix d'achat.\")\n",
    "print(\"\\nLa colonne pouvant être supprimée est stock_status puisque nous avons déjà stock_quantity qui détermine si un produit est disponible à la vente ou non.\")"
   ]
  },
  {
   "cell_type": "markdown",
   "id": "eca4fce9",
   "metadata": {},
   "source": [
    "<div style=\"border: 1px solid RGB(51,165,182);\" >\n",
    "<h3 style=\"margin: auto; padding: 20px; color: RGB(51,165,182); \">2.1.1.4 - Analyse de la variable prix d'achat</h3>\n",
    "</div>"
   ]
  },
  {
   "cell_type": "code",
   "execution_count": 97,
   "id": "6b85ba0d",
   "metadata": {},
   "outputs": [
    {
     "name": "stdout",
     "output_type": "stream",
     "text": [
      "type de la colonne purchase_price:  float64 \n",
      "nombre de lignes nulles :  0 \n",
      "nombre de valeurs négative :  0.0\n",
      "prix minimum :  2.74\n",
      "prix maximum :  137.81\n"
     ]
    }
   ],
   "source": [
    "######################\n",
    "##   prix d'achat   ##\n",
    "######################\n",
    "\n",
    "df_erp[\"purchase_price\"] = df_erp[\"purchase_price\"].str.replace(\",\", \".\") #changer le séparateur pour pouvoir convertir en numeric\n",
    "df_erp[\"purchase_price\"] = pd.to_numeric(df_erp[\"purchase_price\"]) #convertir en numeric\n",
    "\n",
    "#Vérification de la colonne purchase_price : \n",
    "#Afficher le ou les prix non renseignés dans la colonne \"purchase_price\"\n",
    "lignes_negative=df_erp[df_erp['purchase_price']<0]\n",
    "print('type de la colonne purchase_price: ',df_erp['purchase_price'].dtype,\n",
    "      \"\\nnombre de lignes nulles : \", df_erp['purchase_price'].isnull().sum(),\n",
    "      \"\\nnombre de valeurs négative : \",lignes_negative['purchase_price'].sum())\n",
    "\n",
    "#Afficher le prix minimum de la colonne \"purchase_price\"\n",
    "print('prix minimum : ',df_erp['purchase_price'].min())\n",
    "#Afficher le prix maximum de la colonne \"purchase_price\"\n",
    "print('prix maximum : ',df_erp['purchase_price'].max())"
   ]
  },
  {
   "cell_type": "markdown",
   "id": "a550f996",
   "metadata": {},
   "source": [
    "<div style=\"border: 1px solid RGB(51,165,182);\" >\n",
    "<h3 style=\"margin: auto; padding: 20px; color: RGB(51,165,182); \">2.2 - Analyse exploratoire du fichier web.xlsx</h3>\n",
    "</div>\n",
    " "
   ]
  },
  {
   "cell_type": "code",
   "execution_count": 98,
   "id": "bb7e292c",
   "metadata": {},
   "outputs": [
    {
     "name": "stdout",
     "output_type": "stream",
     "text": [
      "Le tableau comporte 1513 observation(s) ou article(s)\n",
      "Le tableau comporte 29 colonne(s)\n"
     ]
    }
   ],
   "source": [
    "#Dimension du dataset\n",
    "#Nombre d'observations\n",
    "#Nombre de caractéristiques\n",
    "print(\"Le tableau comporte {} observation(s) ou article(s)\".format(df_web.shape[0]))\n",
    "print(\"Le tableau comporte {} colonne(s)\".format(df_web.shape[1]))\n",
    "\n"
   ]
  },
  {
   "cell_type": "code",
   "execution_count": 99,
   "id": "0b70a8da",
   "metadata": {},
   "outputs": [
    {
     "name": "stdout",
     "output_type": "stream",
     "text": [
      "Le tableau comporte 29 colonne(s)\n"
     ]
    }
   ],
   "source": [
    "#Consulter le nombre de colonnes\n",
    "print(\"Le tableau comporte {} colonne(s)\".format(df_web.shape[1]))"
   ]
  },
  {
   "cell_type": "code",
   "execution_count": 100,
   "id": "5ef2840d",
   "metadata": {},
   "outputs": [
    {
     "name": "stdout",
     "output_type": "stream",
     "text": [
      "nature des données dans chaque colonne :  \n",
      " sku                       object\n",
      "virtual                    int64\n",
      "downloadable               int64\n",
      "rating_count               int64\n",
      "average_rating           float64\n",
      "total_sales              float64\n",
      "tax_status                object\n",
      "tax_class                float64\n",
      "post_author              float64\n",
      "post_date                 object\n",
      "post_date_gmt             object\n",
      "post_content             float64\n",
      "product_type              object\n",
      "post_title                object\n",
      "post_excerpt              object\n",
      "post_status               object\n",
      "comment_status            object\n",
      "ping_status               object\n",
      "post_password            float64\n",
      "post_name                 object\n",
      "post_modified             object\n",
      "post_modified_gmt         object\n",
      "post_content_filtered    float64\n",
      "post_parent              float64\n",
      "guid                      object\n",
      "menu_order               float64\n",
      "post_type                 object\n",
      "post_mime_type            object\n",
      "comment_count            float64\n",
      "dtype: object\n"
     ]
    }
   ],
   "source": [
    "#La nature des données dans chacune des colonnes\n",
    "print(\"nature des données dans chaque colonne : \",\"\\n\",df_web.dtypes)"
   ]
  },
  {
   "cell_type": "code",
   "execution_count": 101,
   "id": "c6536092",
   "metadata": {},
   "outputs": [
    {
     "name": "stdout",
     "output_type": "stream",
     "text": [
      "nombre de valeurs par colonnes :\n"
     ]
    },
    {
     "data": {
      "text/plain": [
       "sku                      1428\n",
       "virtual                  1513\n",
       "downloadable             1513\n",
       "rating_count             1513\n",
       "average_rating           1430\n",
       "total_sales              1430\n",
       "tax_status                716\n",
       "tax_class                   0\n",
       "post_author              1430\n",
       "post_date                1430\n",
       "post_date_gmt            1430\n",
       "post_content                0\n",
       "product_type             1429\n",
       "post_title               1430\n",
       "post_excerpt              716\n",
       "post_status              1430\n",
       "comment_status           1430\n",
       "ping_status              1430\n",
       "post_password               0\n",
       "post_name                1430\n",
       "post_modified            1430\n",
       "post_modified_gmt        1430\n",
       "post_content_filtered       0\n",
       "post_parent              1430\n",
       "guid                     1430\n",
       "menu_order               1430\n",
       "post_type                1430\n",
       "post_mime_type            714\n",
       "comment_count            1430\n",
       "dtype: int64"
      ]
     },
     "execution_count": 101,
     "metadata": {},
     "output_type": "execute_result"
    }
   ],
   "source": [
    "#Le nombre de valeurs présentes dans chacune des colonnes\n",
    "print('nombre de valeurs par colonnes :')\n",
    "df_web.count()"
   ]
  },
  {
   "cell_type": "code",
   "execution_count": 102,
   "id": "b0d2f149",
   "metadata": {},
   "outputs": [
    {
     "name": "stdout",
     "output_type": "stream",
     "text": [
      "- SKU :  Stock Keeping Unit numéro unique utilisé pour le suivi interne des stocks d'une entrepris\n",
      "- Total_sales : total des ventes\n",
      "- post_date : année ou le produit à été posté. le Greenwich Mean Time n'est sans doutes pas nécéssaire.\n",
      "- product_type : le type du produit.\n",
      "- post_title : le nom du produit.\n",
      "- post_type : définit si le lien est le produit ou l'image du produit.\n",
      "Sera supprimé par la suite mais est nécéssaire pour identifier des doublons pour l'instant.\n"
     ]
    }
   ],
   "source": [
    "#Selon vous, quelles sont les colonnes à conserver ?\n",
    "print(\"- SKU :  Stock Keeping Unit numéro unique utilisé pour le suivi interne des stocks d'une entrepris\")\n",
    "print(\"- Total_sales : total des ventes\")\n",
    "print(\"- post_date : année ou le produit à été posté. le Greenwich Mean Time n'est sans doutes pas nécéssaire.\")\n",
    "print(\"- product_type : le type du produit.\")\n",
    "print(\"- post_title : le nom du produit.\")\n",
    "print(\"- post_type : définit si le lien est le produit ou l'image du produit.\\nSera supprimé par la suite mais est nécéssaire pour identifier des doublons pour l'instant.\")"
   ]
  },
  {
   "cell_type": "code",
   "execution_count": 103,
   "id": "30b2196b",
   "metadata": {},
   "outputs": [
    {
     "data": {
      "text/html": [
       "<div>\n",
       "<style scoped>\n",
       "    .dataframe tbody tr th:only-of-type {\n",
       "        vertical-align: middle;\n",
       "    }\n",
       "\n",
       "    .dataframe tbody tr th {\n",
       "        vertical-align: top;\n",
       "    }\n",
       "\n",
       "    .dataframe thead th {\n",
       "        text-align: right;\n",
       "    }\n",
       "</style>\n",
       "<table border=\"1\" class=\"dataframe\">\n",
       "  <thead>\n",
       "    <tr style=\"text-align: right;\">\n",
       "      <th></th>\n",
       "      <th>sku</th>\n",
       "      <th>total_sales</th>\n",
       "      <th>post_date</th>\n",
       "      <th>product_type</th>\n",
       "      <th>post_title</th>\n",
       "      <th>post_type</th>\n",
       "    </tr>\n",
       "  </thead>\n",
       "  <tbody>\n",
       "    <tr>\n",
       "      <th>0</th>\n",
       "      <td>11862</td>\n",
       "      <td>3.0</td>\n",
       "      <td>2018-02-12 13:46:23</td>\n",
       "      <td>Vin</td>\n",
       "      <td>Gilles Robin Hermitage Rouge 2012</td>\n",
       "      <td>attachment</td>\n",
       "    </tr>\n",
       "    <tr>\n",
       "      <th>1</th>\n",
       "      <td>16057</td>\n",
       "      <td>5.0</td>\n",
       "      <td>2018-04-17 15:29:17</td>\n",
       "      <td>Vin</td>\n",
       "      <td>Domaine Pellé Sancerre Rouge La Croix Au Garde...</td>\n",
       "      <td>attachment</td>\n",
       "    </tr>\n",
       "    <tr>\n",
       "      <th>2</th>\n",
       "      <td>14692</td>\n",
       "      <td>5.0</td>\n",
       "      <td>2019-03-19 10:06:47</td>\n",
       "      <td>Vin</td>\n",
       "      <td>Château Fonréaud Bordeaux Blanc Le Cygne 2016</td>\n",
       "      <td>product</td>\n",
       "    </tr>\n",
       "    <tr>\n",
       "      <th>3</th>\n",
       "      <td>16295</td>\n",
       "      <td>14.0</td>\n",
       "      <td>2018-02-15 14:05:06</td>\n",
       "      <td>Vin</td>\n",
       "      <td>Moulin de Gassac IGP Pays d'Hérault Guilhem Ro...</td>\n",
       "      <td>attachment</td>\n",
       "    </tr>\n",
       "    <tr>\n",
       "      <th>4</th>\n",
       "      <td>15328</td>\n",
       "      <td>2.0</td>\n",
       "      <td>2019-03-27 18:05:09</td>\n",
       "      <td>Vin</td>\n",
       "      <td>Agnès Levet Côte Rôtie Maestria 2017</td>\n",
       "      <td>product</td>\n",
       "    </tr>\n",
       "  </tbody>\n",
       "</table>\n",
       "</div>"
      ],
      "text/plain": [
       "     sku  total_sales            post_date product_type  \\\n",
       "0  11862          3.0  2018-02-12 13:46:23          Vin   \n",
       "1  16057          5.0  2018-04-17 15:29:17          Vin   \n",
       "2  14692          5.0  2019-03-19 10:06:47          Vin   \n",
       "3  16295         14.0  2018-02-15 14:05:06          Vin   \n",
       "4  15328          2.0  2019-03-27 18:05:09          Vin   \n",
       "\n",
       "                                          post_title   post_type  \n",
       "0                  Gilles Robin Hermitage Rouge 2012  attachment  \n",
       "1  Domaine Pellé Sancerre Rouge La Croix Au Garde...  attachment  \n",
       "2      Château Fonréaud Bordeaux Blanc Le Cygne 2016     product  \n",
       "3  Moulin de Gassac IGP Pays d'Hérault Guilhem Ro...  attachment  \n",
       "4               Agnès Levet Côte Rôtie Maestria 2017     product  "
      ]
     },
     "execution_count": 103,
     "metadata": {},
     "output_type": "execute_result"
    }
   ],
   "source": [
    "#Si vous avez défini des colonnes à supprimer, effectuer l'opération\n",
    "list_col=[\"sku\",\"total_sales\",\"post_date\",\"product_type\",\"post_title\",\"post_type\"]\n",
    "df_web=(df_web[list_col])\n",
    "df_web.head()"
   ]
  },
  {
   "cell_type": "code",
   "execution_count": 104,
   "id": "1b965d06",
   "metadata": {},
   "outputs": [
    {
     "name": "stdout",
     "output_type": "stream",
     "text": [
      "liste des valeurs de la colonne sku :  ['11862', '16057', '14692', '16295', '15328', '15471', '16515', '16246', nan, '13572'] et caetera.\n",
      "\n",
      "\n",
      "le type de la colonne sku est :  object\n",
      "il y a 85 éléments nulles dans sku.\n",
      "\n",
      "valeurs les plus courte :  \n",
      " 458     38\n",
      "964     38\n",
      "965     41\n",
      "1127    41\n",
      "Name: sku, dtype: object\n",
      "\n",
      "valeurs les plus longues :  \n",
      " 842     bon-cadeau-25-euros\n",
      "1387    bon-cadeau-25-euros\n",
      "Name: sku, dtype: object\n"
     ]
    }
   ],
   "source": [
    "#Visualisation des valeurs de la colonne sku\n",
    "list_sku=df_web['sku'].tolist()\n",
    "print('liste des valeurs de la colonne sku : ',list_sku[:10],'et caetera.')\n",
    "print()\n",
    "print('\\nle type de la colonne sku est : ',df_web['sku'].dtypes)\n",
    "print('il y a {} éléments nulles dans sku.'.format(df_web['sku'].isnull().sum()))\n",
    "\n",
    "\n",
    "str_len = df_web['sku'].str.len()\n",
    "\n",
    "min_val = (str_len == str_len.min())\n",
    "sku_minimum=df_web['sku'][min_val]\n",
    "\n",
    "max_val = (str_len == str_len.max())\n",
    "sku_maximum=df_web['sku'][max_val]\n",
    "print('\\nvaleurs les plus courte : ',\"\\n\", sku_minimum)\n",
    "print('\\nvaleurs les plus longues : ',\"\\n\", sku_maximum)\n",
    "\n",
    "\n",
    "\n",
    "#Quelles sont les valeurs qui ne semblent pas respecter la règle de codification?\n"
   ]
  },
  {
   "cell_type": "code",
   "execution_count": 105,
   "id": "1226dcfd",
   "metadata": {},
   "outputs": [
    {
     "data": {
      "text/html": [
       "<div>\n",
       "<style scoped>\n",
       "    .dataframe tbody tr th:only-of-type {\n",
       "        vertical-align: middle;\n",
       "    }\n",
       "\n",
       "    .dataframe tbody tr th {\n",
       "        vertical-align: top;\n",
       "    }\n",
       "\n",
       "    .dataframe thead th {\n",
       "        text-align: right;\n",
       "    }\n",
       "</style>\n",
       "<table border=\"1\" class=\"dataframe\">\n",
       "  <thead>\n",
       "    <tr style=\"text-align: right;\">\n",
       "      <th></th>\n",
       "      <th>sku</th>\n",
       "      <th>total_sales</th>\n",
       "      <th>post_date</th>\n",
       "      <th>product_type</th>\n",
       "      <th>post_title</th>\n",
       "      <th>post_type</th>\n",
       "    </tr>\n",
       "  </thead>\n",
       "  <tbody>\n",
       "    <tr>\n",
       "      <th>272</th>\n",
       "      <td>13127-1</td>\n",
       "      <td>4.0</td>\n",
       "      <td>2020-06-09 15:42:04</td>\n",
       "      <td>Vin</td>\n",
       "      <td>Clos du Mont-Olivet Châteauneuf-du-Pape 2007</td>\n",
       "      <td>product</td>\n",
       "    </tr>\n",
       "    <tr>\n",
       "      <th>842</th>\n",
       "      <td>bon-cadeau-25-euros</td>\n",
       "      <td>7.0</td>\n",
       "      <td>2018-06-01 13:53:46</td>\n",
       "      <td>Autre</td>\n",
       "      <td>Bon cadeau de 25€</td>\n",
       "      <td>attachment</td>\n",
       "    </tr>\n",
       "    <tr>\n",
       "      <th>1117</th>\n",
       "      <td>13127-1</td>\n",
       "      <td>4.0</td>\n",
       "      <td>2020-06-09 15:42:04</td>\n",
       "      <td>Vin</td>\n",
       "      <td>Clos du Mont-Olivet Châteauneuf-du-Pape 2007</td>\n",
       "      <td>attachment</td>\n",
       "    </tr>\n",
       "    <tr>\n",
       "      <th>1387</th>\n",
       "      <td>bon-cadeau-25-euros</td>\n",
       "      <td>7.0</td>\n",
       "      <td>2018-06-01 13:53:46</td>\n",
       "      <td>NaN</td>\n",
       "      <td>Bon cadeau de 25€</td>\n",
       "      <td>product</td>\n",
       "    </tr>\n",
       "  </tbody>\n",
       "</table>\n",
       "</div>"
      ],
      "text/plain": [
       "                      sku  total_sales            post_date product_type  \\\n",
       "272               13127-1          4.0  2020-06-09 15:42:04          Vin   \n",
       "842   bon-cadeau-25-euros          7.0  2018-06-01 13:53:46        Autre   \n",
       "1117              13127-1          4.0  2020-06-09 15:42:04          Vin   \n",
       "1387  bon-cadeau-25-euros          7.0  2018-06-01 13:53:46          NaN   \n",
       "\n",
       "                                        post_title   post_type  \n",
       "272   Clos du Mont-Olivet Châteauneuf-du-Pape 2007     product  \n",
       "842                              Bon cadeau de 25€  attachment  \n",
       "1117  Clos du Mont-Olivet Châteauneuf-du-Pape 2007  attachment  \n",
       "1387                             Bon cadeau de 25€     product  "
      ]
     },
     "execution_count": 105,
     "metadata": {},
     "output_type": "execute_result"
    }
   ],
   "source": [
    "#Si vous avez identifié des codes articles ne respectant pas la régle de codification, consultez-les?\n",
    "sku_weird = df_web[df_web['sku'].str.contains('[!@#$%&*()_+=|<>?{}\\\\[\\\\]~-]' or '[a-zA-Z]', na=False,regex=True)]\n",
    "sku_weird\n"
   ]
  },
  {
   "cell_type": "code",
   "execution_count": 106,
   "id": "eb8d31bf",
   "metadata": {},
   "outputs": [
    {
     "data": {
      "text/html": [
       "<div>\n",
       "<style scoped>\n",
       "    .dataframe tbody tr th:only-of-type {\n",
       "        vertical-align: middle;\n",
       "    }\n",
       "\n",
       "    .dataframe tbody tr th {\n",
       "        vertical-align: top;\n",
       "    }\n",
       "\n",
       "    .dataframe thead th {\n",
       "        text-align: right;\n",
       "    }\n",
       "</style>\n",
       "<table border=\"1\" class=\"dataframe\">\n",
       "  <thead>\n",
       "    <tr style=\"text-align: right;\">\n",
       "      <th></th>\n",
       "      <th>sku</th>\n",
       "      <th>total_sales</th>\n",
       "      <th>post_date</th>\n",
       "      <th>product_type</th>\n",
       "      <th>post_title</th>\n",
       "      <th>post_type</th>\n",
       "    </tr>\n",
       "  </thead>\n",
       "  <tbody>\n",
       "    <tr>\n",
       "      <th>8</th>\n",
       "      <td>NaN</td>\n",
       "      <td>NaN</td>\n",
       "      <td>NaN</td>\n",
       "      <td>NaN</td>\n",
       "      <td>NaN</td>\n",
       "      <td>NaN</td>\n",
       "    </tr>\n",
       "    <tr>\n",
       "      <th>20</th>\n",
       "      <td>NaN</td>\n",
       "      <td>NaN</td>\n",
       "      <td>NaN</td>\n",
       "      <td>NaN</td>\n",
       "      <td>NaN</td>\n",
       "      <td>NaN</td>\n",
       "    </tr>\n",
       "    <tr>\n",
       "      <th>30</th>\n",
       "      <td>NaN</td>\n",
       "      <td>NaN</td>\n",
       "      <td>NaN</td>\n",
       "      <td>NaN</td>\n",
       "      <td>NaN</td>\n",
       "      <td>NaN</td>\n",
       "    </tr>\n",
       "    <tr>\n",
       "      <th>37</th>\n",
       "      <td>NaN</td>\n",
       "      <td>NaN</td>\n",
       "      <td>NaN</td>\n",
       "      <td>NaN</td>\n",
       "      <td>NaN</td>\n",
       "      <td>NaN</td>\n",
       "    </tr>\n",
       "    <tr>\n",
       "      <th>41</th>\n",
       "      <td>NaN</td>\n",
       "      <td>NaN</td>\n",
       "      <td>NaN</td>\n",
       "      <td>NaN</td>\n",
       "      <td>NaN</td>\n",
       "      <td>NaN</td>\n",
       "    </tr>\n",
       "    <tr>\n",
       "      <th>...</th>\n",
       "      <td>...</td>\n",
       "      <td>...</td>\n",
       "      <td>...</td>\n",
       "      <td>...</td>\n",
       "      <td>...</td>\n",
       "      <td>...</td>\n",
       "    </tr>\n",
       "    <tr>\n",
       "      <th>1384</th>\n",
       "      <td>NaN</td>\n",
       "      <td>NaN</td>\n",
       "      <td>NaN</td>\n",
       "      <td>NaN</td>\n",
       "      <td>NaN</td>\n",
       "      <td>NaN</td>\n",
       "    </tr>\n",
       "    <tr>\n",
       "      <th>1429</th>\n",
       "      <td>NaN</td>\n",
       "      <td>NaN</td>\n",
       "      <td>NaN</td>\n",
       "      <td>NaN</td>\n",
       "      <td>NaN</td>\n",
       "      <td>NaN</td>\n",
       "    </tr>\n",
       "    <tr>\n",
       "      <th>1432</th>\n",
       "      <td>NaN</td>\n",
       "      <td>NaN</td>\n",
       "      <td>NaN</td>\n",
       "      <td>NaN</td>\n",
       "      <td>NaN</td>\n",
       "      <td>NaN</td>\n",
       "    </tr>\n",
       "    <tr>\n",
       "      <th>1445</th>\n",
       "      <td>NaN</td>\n",
       "      <td>NaN</td>\n",
       "      <td>NaN</td>\n",
       "      <td>NaN</td>\n",
       "      <td>NaN</td>\n",
       "      <td>NaN</td>\n",
       "    </tr>\n",
       "    <tr>\n",
       "      <th>1457</th>\n",
       "      <td>NaN</td>\n",
       "      <td>NaN</td>\n",
       "      <td>NaN</td>\n",
       "      <td>NaN</td>\n",
       "      <td>NaN</td>\n",
       "      <td>NaN</td>\n",
       "    </tr>\n",
       "  </tbody>\n",
       "</table>\n",
       "<p>85 rows × 6 columns</p>\n",
       "</div>"
      ],
      "text/plain": [
       "      sku  total_sales post_date product_type post_title post_type\n",
       "8     NaN          NaN       NaN          NaN        NaN       NaN\n",
       "20    NaN          NaN       NaN          NaN        NaN       NaN\n",
       "30    NaN          NaN       NaN          NaN        NaN       NaN\n",
       "37    NaN          NaN       NaN          NaN        NaN       NaN\n",
       "41    NaN          NaN       NaN          NaN        NaN       NaN\n",
       "...   ...          ...       ...          ...        ...       ...\n",
       "1384  NaN          NaN       NaN          NaN        NaN       NaN\n",
       "1429  NaN          NaN       NaN          NaN        NaN       NaN\n",
       "1432  NaN          NaN       NaN          NaN        NaN       NaN\n",
       "1445  NaN          NaN       NaN          NaN        NaN       NaN\n",
       "1457  NaN          NaN       NaN          NaN        NaN       NaN\n",
       "\n",
       "[85 rows x 6 columns]"
      ]
     },
     "execution_count": 106,
     "metadata": {},
     "output_type": "execute_result"
    }
   ],
   "source": [
    "#Identifier les lignes sans code articles\n",
    "df_null=df_web[df_web['sku'].isnull()]\n",
    "df_null"
   ]
  },
  {
   "cell_type": "code",
   "execution_count": 107,
   "id": "967495da",
   "metadata": {},
   "outputs": [
    {
     "name": "stdout",
     "output_type": "stream",
     "text": [
      "Première version comporte beaucoup de lignes complètement vide.\n",
      "<class 'pandas.core.frame.DataFrame'>\n",
      "Index: 85 entries, 8 to 1457\n",
      "Data columns (total 6 columns):\n",
      " #   Column        Non-Null Count  Dtype  \n",
      "---  ------        --------------  -----  \n",
      " 0   sku           0 non-null      object \n",
      " 1   total_sales   2 non-null      float64\n",
      " 2   post_date     2 non-null      object \n",
      " 3   product_type  2 non-null      object \n",
      " 4   post_title    2 non-null      object \n",
      " 5   post_type     2 non-null      object \n",
      "dtypes: float64(1), object(5)\n",
      "memory usage: 4.6+ KB\n"
     ]
    }
   ],
   "source": [
    "#Pour les codes articles identifiés, réalisé une analyse et définissez l'action à entreprendre\n",
    "df_null=df_web[df_web['sku'].isnull()]\n",
    "print(\"Première version comporte beaucoup de lignes complètement vide.\")\n",
    "df_null.info()\n"
   ]
  },
  {
   "cell_type": "code",
   "execution_count": 108,
   "id": "7d23b240",
   "metadata": {},
   "outputs": [
    {
     "name": "stdout",
     "output_type": "stream",
     "text": [
      "après correction.\n",
      "<class 'pandas.core.frame.DataFrame'>\n",
      "Index: 2 entries, 1084 to 1087\n",
      "Data columns (total 6 columns):\n",
      " #   Column        Non-Null Count  Dtype  \n",
      "---  ------        --------------  -----  \n",
      " 0   sku           0 non-null      object \n",
      " 1   total_sales   2 non-null      float64\n",
      " 2   post_date     2 non-null      object \n",
      " 3   product_type  2 non-null      object \n",
      " 4   post_title    2 non-null      object \n",
      " 5   post_type     2 non-null      object \n",
      "dtypes: float64(1), object(5)\n",
      "memory usage: 112.0+ bytes\n"
     ]
    }
   ],
   "source": [
    "df_web.dropna(how='all', inplace=True) #permet de suprimmer les lignes n'ayant que des valeurs nulles\n",
    "print('après correction.')\n",
    "df_nullnew=df_web[df_web['sku'].isnull()]\n",
    "df_nullnew.info()"
   ]
  },
  {
   "cell_type": "code",
   "execution_count": 109,
   "id": "27bf30de",
   "metadata": {},
   "outputs": [
    {
     "name": "stdout",
     "output_type": "stream",
     "text": [
      "les duplicatas sembles être du à la colonne post_type. chaque produit à deux lignes. \n",
      "Une avec les info produit, et une autre similaire mais avec un lien de l'image du produit\n"
     ]
    },
    {
     "data": {
      "text/html": [
       "<div>\n",
       "<style scoped>\n",
       "    .dataframe tbody tr th:only-of-type {\n",
       "        vertical-align: middle;\n",
       "    }\n",
       "\n",
       "    .dataframe tbody tr th {\n",
       "        vertical-align: top;\n",
       "    }\n",
       "\n",
       "    .dataframe thead th {\n",
       "        text-align: right;\n",
       "    }\n",
       "</style>\n",
       "<table border=\"1\" class=\"dataframe\">\n",
       "  <thead>\n",
       "    <tr style=\"text-align: right;\">\n",
       "      <th></th>\n",
       "      <th>sku</th>\n",
       "      <th>total_sales</th>\n",
       "      <th>post_date</th>\n",
       "      <th>product_type</th>\n",
       "      <th>post_title</th>\n",
       "      <th>post_type</th>\n",
       "    </tr>\n",
       "  </thead>\n",
       "  <tbody>\n",
       "    <tr>\n",
       "      <th>668</th>\n",
       "      <td>10014</td>\n",
       "      <td>10.0</td>\n",
       "      <td>2019-04-04 15:45:23</td>\n",
       "      <td>Gin</td>\n",
       "      <td>Darnley's London Dry Gin Original</td>\n",
       "      <td>product</td>\n",
       "    </tr>\n",
       "    <tr>\n",
       "      <th>1030</th>\n",
       "      <td>10014</td>\n",
       "      <td>10.0</td>\n",
       "      <td>2019-04-04 15:45:23</td>\n",
       "      <td>Gin</td>\n",
       "      <td>Darnley's London Dry Gin Original</td>\n",
       "      <td>attachment</td>\n",
       "    </tr>\n",
       "    <tr>\n",
       "      <th>887</th>\n",
       "      <td>10459</td>\n",
       "      <td>4.0</td>\n",
       "      <td>2018-04-13 15:58:19</td>\n",
       "      <td>Vin</td>\n",
       "      <td>Alphonse Mellot Sancerre Rouge Génération XIX ...</td>\n",
       "      <td>attachment</td>\n",
       "    </tr>\n",
       "    <tr>\n",
       "      <th>748</th>\n",
       "      <td>10459</td>\n",
       "      <td>4.0</td>\n",
       "      <td>2018-04-13 15:58:19</td>\n",
       "      <td>Vin</td>\n",
       "      <td>Alphonse Mellot Sancerre Rouge Génération XIX ...</td>\n",
       "      <td>product</td>\n",
       "    </tr>\n",
       "    <tr>\n",
       "      <th>802</th>\n",
       "      <td>10775</td>\n",
       "      <td>6.0</td>\n",
       "      <td>2018-04-17 21:28:52</td>\n",
       "      <td>Vin</td>\n",
       "      <td>Albert Mann Pinot Gris Vendanges Tardives Alte...</td>\n",
       "      <td>product</td>\n",
       "    </tr>\n",
       "  </tbody>\n",
       "</table>\n",
       "</div>"
      ],
      "text/plain": [
       "        sku  total_sales            post_date product_type  \\\n",
       "668   10014         10.0  2019-04-04 15:45:23          Gin   \n",
       "1030  10014         10.0  2019-04-04 15:45:23          Gin   \n",
       "887   10459          4.0  2018-04-13 15:58:19          Vin   \n",
       "748   10459          4.0  2018-04-13 15:58:19          Vin   \n",
       "802   10775          6.0  2018-04-17 21:28:52          Vin   \n",
       "\n",
       "                                             post_title   post_type  \n",
       "668                   Darnley's London Dry Gin Original     product  \n",
       "1030                  Darnley's London Dry Gin Original  attachment  \n",
       "887   Alphonse Mellot Sancerre Rouge Génération XIX ...  attachment  \n",
       "748   Alphonse Mellot Sancerre Rouge Génération XIX ...     product  \n",
       "802   Albert Mann Pinot Gris Vendanges Tardives Alte...     product  "
      ]
     },
     "execution_count": 109,
     "metadata": {},
     "output_type": "execute_result"
    }
   ],
   "source": [
    "#La clé pour chaque ligne est-elle uniques? ou autrement dit, y a-t-il des doublons?\n",
    "no_null = df_web[~df_web['sku'].isnull()]\n",
    "duplicatas=no_null[no_null['sku'].duplicated(keep=False)]\n",
    "duplicatas=duplicatas.sort_values(by=[\"sku\"])\n",
    "print(\"les duplicatas sembles être du à la colonne post_type. chaque produit à deux lignes. \\nUne avec les info produit, et une autre similaire mais avec un lien de l'image du produit\")\n",
    "duplicatas.head()\n"
   ]
  },
  {
   "cell_type": "code",
   "execution_count": 110,
   "id": "4467f297",
   "metadata": {},
   "outputs": [
    {
     "name": "stdout",
     "output_type": "stream",
     "text": [
      "suppression des boublons.\n"
     ]
    },
    {
     "data": {
      "text/html": [
       "<div>\n",
       "<style scoped>\n",
       "    .dataframe tbody tr th:only-of-type {\n",
       "        vertical-align: middle;\n",
       "    }\n",
       "\n",
       "    .dataframe tbody tr th {\n",
       "        vertical-align: top;\n",
       "    }\n",
       "\n",
       "    .dataframe thead th {\n",
       "        text-align: right;\n",
       "    }\n",
       "</style>\n",
       "<table border=\"1\" class=\"dataframe\">\n",
       "  <thead>\n",
       "    <tr style=\"text-align: right;\">\n",
       "      <th></th>\n",
       "      <th>sku</th>\n",
       "      <th>total_sales</th>\n",
       "      <th>post_date</th>\n",
       "      <th>product_type</th>\n",
       "      <th>post_title</th>\n",
       "      <th>post_type</th>\n",
       "    </tr>\n",
       "  </thead>\n",
       "  <tbody>\n",
       "    <tr>\n",
       "      <th>2</th>\n",
       "      <td>14692</td>\n",
       "      <td>5.0</td>\n",
       "      <td>2019-03-19 10:06:47</td>\n",
       "      <td>Vin</td>\n",
       "      <td>Château Fonréaud Bordeaux Blanc Le Cygne 2016</td>\n",
       "      <td>product</td>\n",
       "    </tr>\n",
       "    <tr>\n",
       "      <th>4</th>\n",
       "      <td>15328</td>\n",
       "      <td>2.0</td>\n",
       "      <td>2019-03-27 18:05:09</td>\n",
       "      <td>Vin</td>\n",
       "      <td>Agnès Levet Côte Rôtie Maestria 2017</td>\n",
       "      <td>product</td>\n",
       "    </tr>\n",
       "    <tr>\n",
       "      <th>6</th>\n",
       "      <td>16515</td>\n",
       "      <td>10.0</td>\n",
       "      <td>2018-06-02 09:31:31</td>\n",
       "      <td>Vin</td>\n",
       "      <td>Château Turcaud Bordeaux Rouge Cuvée Majeure 2018</td>\n",
       "      <td>product</td>\n",
       "    </tr>\n",
       "    <tr>\n",
       "      <th>11</th>\n",
       "      <td>16585</td>\n",
       "      <td>15.0</td>\n",
       "      <td>2018-02-16 14:03:16</td>\n",
       "      <td>Vin</td>\n",
       "      <td>Xavier Frissant Touraine Sauvignon 2019</td>\n",
       "      <td>product</td>\n",
       "    </tr>\n",
       "    <tr>\n",
       "      <th>14</th>\n",
       "      <td>12869</td>\n",
       "      <td>7.0</td>\n",
       "      <td>2019-03-28 14:29:35</td>\n",
       "      <td>Vin</td>\n",
       "      <td>Stéphane Tissot Arbois D.D. 2016</td>\n",
       "      <td>product</td>\n",
       "    </tr>\n",
       "  </tbody>\n",
       "</table>\n",
       "</div>"
      ],
      "text/plain": [
       "      sku  total_sales            post_date product_type  \\\n",
       "2   14692          5.0  2019-03-19 10:06:47          Vin   \n",
       "4   15328          2.0  2019-03-27 18:05:09          Vin   \n",
       "6   16515         10.0  2018-06-02 09:31:31          Vin   \n",
       "11  16585         15.0  2018-02-16 14:03:16          Vin   \n",
       "14  12869          7.0  2019-03-28 14:29:35          Vin   \n",
       "\n",
       "                                           post_title post_type  \n",
       "2       Château Fonréaud Bordeaux Blanc Le Cygne 2016   product  \n",
       "4                Agnès Levet Côte Rôtie Maestria 2017   product  \n",
       "6   Château Turcaud Bordeaux Rouge Cuvée Majeure 2018   product  \n",
       "11            Xavier Frissant Touraine Sauvignon 2019   product  \n",
       "14                   Stéphane Tissot Arbois D.D. 2016   product  "
      ]
     },
     "execution_count": 110,
     "metadata": {},
     "output_type": "execute_result"
    }
   ],
   "source": [
    "\n",
    "indexNames = df_web[df_web[\"post_type\"] == \"attachment\"].index\n",
    "df_web.drop(indexNames, inplace=True)\n",
    "print('suppression des boublons.')\n",
    "df_web.head()"
   ]
  },
  {
   "cell_type": "code",
   "execution_count": 111,
   "id": "335b7019",
   "metadata": {},
   "outputs": [
    {
     "name": "stdout",
     "output_type": "stream",
     "text": [
      "On peut ensuite supprimer la colonne post_type.\n"
     ]
    },
    {
     "data": {
      "text/html": [
       "<div>\n",
       "<style scoped>\n",
       "    .dataframe tbody tr th:only-of-type {\n",
       "        vertical-align: middle;\n",
       "    }\n",
       "\n",
       "    .dataframe tbody tr th {\n",
       "        vertical-align: top;\n",
       "    }\n",
       "\n",
       "    .dataframe thead th {\n",
       "        text-align: right;\n",
       "    }\n",
       "</style>\n",
       "<table border=\"1\" class=\"dataframe\">\n",
       "  <thead>\n",
       "    <tr style=\"text-align: right;\">\n",
       "      <th></th>\n",
       "      <th>sku</th>\n",
       "      <th>total_sales</th>\n",
       "      <th>post_date</th>\n",
       "      <th>product_type</th>\n",
       "      <th>post_title</th>\n",
       "    </tr>\n",
       "  </thead>\n",
       "  <tbody>\n",
       "    <tr>\n",
       "      <th>2</th>\n",
       "      <td>14692</td>\n",
       "      <td>5.0</td>\n",
       "      <td>2019-03-19 10:06:47</td>\n",
       "      <td>Vin</td>\n",
       "      <td>Château Fonréaud Bordeaux Blanc Le Cygne 2016</td>\n",
       "    </tr>\n",
       "    <tr>\n",
       "      <th>4</th>\n",
       "      <td>15328</td>\n",
       "      <td>2.0</td>\n",
       "      <td>2019-03-27 18:05:09</td>\n",
       "      <td>Vin</td>\n",
       "      <td>Agnès Levet Côte Rôtie Maestria 2017</td>\n",
       "    </tr>\n",
       "    <tr>\n",
       "      <th>6</th>\n",
       "      <td>16515</td>\n",
       "      <td>10.0</td>\n",
       "      <td>2018-06-02 09:31:31</td>\n",
       "      <td>Vin</td>\n",
       "      <td>Château Turcaud Bordeaux Rouge Cuvée Majeure 2018</td>\n",
       "    </tr>\n",
       "    <tr>\n",
       "      <th>11</th>\n",
       "      <td>16585</td>\n",
       "      <td>15.0</td>\n",
       "      <td>2018-02-16 14:03:16</td>\n",
       "      <td>Vin</td>\n",
       "      <td>Xavier Frissant Touraine Sauvignon 2019</td>\n",
       "    </tr>\n",
       "    <tr>\n",
       "      <th>14</th>\n",
       "      <td>12869</td>\n",
       "      <td>7.0</td>\n",
       "      <td>2019-03-28 14:29:35</td>\n",
       "      <td>Vin</td>\n",
       "      <td>Stéphane Tissot Arbois D.D. 2016</td>\n",
       "    </tr>\n",
       "  </tbody>\n",
       "</table>\n",
       "</div>"
      ],
      "text/plain": [
       "      sku  total_sales            post_date product_type  \\\n",
       "2   14692          5.0  2019-03-19 10:06:47          Vin   \n",
       "4   15328          2.0  2019-03-27 18:05:09          Vin   \n",
       "6   16515         10.0  2018-06-02 09:31:31          Vin   \n",
       "11  16585         15.0  2018-02-16 14:03:16          Vin   \n",
       "14  12869          7.0  2019-03-28 14:29:35          Vin   \n",
       "\n",
       "                                           post_title  \n",
       "2       Château Fonréaud Bordeaux Blanc Le Cygne 2016  \n",
       "4                Agnès Levet Côte Rôtie Maestria 2017  \n",
       "6   Château Turcaud Bordeaux Rouge Cuvée Majeure 2018  \n",
       "11            Xavier Frissant Touraine Sauvignon 2019  \n",
       "14                   Stéphane Tissot Arbois D.D. 2016  "
      ]
     },
     "execution_count": 111,
     "metadata": {},
     "output_type": "execute_result"
    }
   ],
   "source": [
    "print('On peut ensuite supprimer la colonne post_type.')\n",
    "df_web.drop(columns=[\"post_type\"],inplace=True)\n",
    "df_web.head()"
   ]
  },
  {
   "cell_type": "code",
   "execution_count": 112,
   "id": "8b81d617",
   "metadata": {},
   "outputs": [
    {
     "name": "stdout",
     "output_type": "stream",
     "text": [
      "<class 'pandas.core.frame.DataFrame'>\n",
      "Index: 2 entries, 1084 to 1087\n",
      "Data columns (total 5 columns):\n",
      " #   Column        Non-Null Count  Dtype  \n",
      "---  ------        --------------  -----  \n",
      " 0   sku           0 non-null      object \n",
      " 1   total_sales   2 non-null      float64\n",
      " 2   post_date     2 non-null      object \n",
      " 3   product_type  2 non-null      object \n",
      " 4   post_title    2 non-null      object \n",
      "dtypes: float64(1), object(4)\n",
      "memory usage: 96.0+ bytes\n",
      "\n",
      "A part la colonne sku toutes les autres colonnes contiennent 2 éléments non nulle.\n"
     ]
    }
   ],
   "source": [
    "#Les lignes sans code article semble être toutes non renseignés\n",
    "#Pour s'en assurer réaliser les étapes suivantes:\n",
    "#1 - Créer un dataframe avec uniquement les lignes sans code article\n",
    "df_null=df_web[df_web['sku'].isnull()]\n",
    "#2 - utiliser la fonction df.info() sur ce nouveau dataframe pour observer le nombre de valeur reseigner dans chacune des colonnes\n",
    "df_null.info()\n",
    "#3 - Que constatez-vous?\n",
    "print('\\nA part la colonne sku toutes les autres colonnes contiennent 2 éléments non nulle.')"
   ]
  },
  {
   "cell_type": "code",
   "execution_count": 113,
   "id": "b6657e07",
   "metadata": {},
   "outputs": [
    {
     "name": "stdout",
     "output_type": "stream",
     "text": [
      "nombre de lignes contenant un nombre négatif :\n",
      "total_sales    2\n",
      "dtype: int64\n",
      "\n",
      "visualisation des lignes négatives : \n",
      "       sku  total_sales            post_date product_type  \\\n",
      "1084  NaN        -56.0  2018-08-08 11:23:43          Vin   \n",
      "1087  NaN        -17.0  2018-07-31 12:07:23          Vin   \n",
      "\n",
      "                                           post_title  \n",
      "1084  Pierre Jean Villa Condrieu Jardin Suspendu 2018  \n",
      "1087       Pierre Jean Villa Côte Rôtie Fongeant 2017  \n",
      "\n",
      "Nous constatons que ce sont les deux lignes sans codes articles restant car ayant des informations dans les autres colonnes.\n"
     ]
    }
   ],
   "source": [
    "df_web_numeric = df_web.select_dtypes(include=['float64', 'int64'])\n",
    "\n",
    "compte_negatif = (df_web_numeric < 0).sum()\n",
    "print('nombre de lignes contenant un nombre négatif :')\n",
    "print(compte_negatif)\n",
    "\n",
    "total_sales_negative=df_web[df_web['total_sales']<0]\n",
    "print('\\nvisualisation des lignes négatives : \\n',total_sales_negative)\n",
    "\n",
    "print(\"\\nNous constatons que ce sont les deux lignes sans codes articles restant car ayant des informations dans les autres colonnes.\")"
   ]
  },
  {
   "cell_type": "code",
   "execution_count": 114,
   "id": "ba76d103",
   "metadata": {},
   "outputs": [
    {
     "name": "stdout",
     "output_type": "stream",
     "text": [
      "<class 'pandas.core.frame.DataFrame'>\n",
      "Index: 716 entries, 2 to 1509\n",
      "Data columns (total 5 columns):\n",
      " #   Column        Non-Null Count  Dtype  \n",
      "---  ------        --------------  -----  \n",
      " 0   sku           714 non-null    object \n",
      " 1   total_sales   716 non-null    float64\n",
      " 2   post_date     716 non-null    object \n",
      " 3   product_type  715 non-null    object \n",
      " 4   post_title    716 non-null    object \n",
      "dtypes: float64(1), object(4)\n",
      "memory usage: 33.6+ KB\n",
      "\n",
      "Je supprime les deux lignes nulles et la ligne bon cadeau. pour l'instant\n",
      "<class 'pandas.core.frame.DataFrame'>\n",
      "Index: 713 entries, 2 to 1509\n",
      "Data columns (total 5 columns):\n",
      " #   Column        Non-Null Count  Dtype  \n",
      "---  ------        --------------  -----  \n",
      " 0   sku           713 non-null    object \n",
      " 1   total_sales   713 non-null    float64\n",
      " 2   post_date     713 non-null    object \n",
      " 3   product_type  713 non-null    object \n",
      " 4   post_title    713 non-null    object \n",
      "dtypes: float64(1), object(4)\n",
      "memory usage: 33.4+ KB\n"
     ]
    },
    {
     "data": {
      "text/html": [
       "<div>\n",
       "<style scoped>\n",
       "    .dataframe tbody tr th:only-of-type {\n",
       "        vertical-align: middle;\n",
       "    }\n",
       "\n",
       "    .dataframe tbody tr th {\n",
       "        vertical-align: top;\n",
       "    }\n",
       "\n",
       "    .dataframe thead th {\n",
       "        text-align: right;\n",
       "    }\n",
       "</style>\n",
       "<table border=\"1\" class=\"dataframe\">\n",
       "  <thead>\n",
       "    <tr style=\"text-align: right;\">\n",
       "      <th></th>\n",
       "      <th>sku</th>\n",
       "      <th>total_sales</th>\n",
       "      <th>post_date</th>\n",
       "      <th>product_type</th>\n",
       "      <th>post_title</th>\n",
       "    </tr>\n",
       "  </thead>\n",
       "  <tbody>\n",
       "    <tr>\n",
       "      <th>2</th>\n",
       "      <td>14692</td>\n",
       "      <td>5.0</td>\n",
       "      <td>2019-03-19 10:06:47</td>\n",
       "      <td>Vin</td>\n",
       "      <td>Château Fonréaud Bordeaux Blanc Le Cygne 2016</td>\n",
       "    </tr>\n",
       "    <tr>\n",
       "      <th>4</th>\n",
       "      <td>15328</td>\n",
       "      <td>2.0</td>\n",
       "      <td>2019-03-27 18:05:09</td>\n",
       "      <td>Vin</td>\n",
       "      <td>Agnès Levet Côte Rôtie Maestria 2017</td>\n",
       "    </tr>\n",
       "    <tr>\n",
       "      <th>6</th>\n",
       "      <td>16515</td>\n",
       "      <td>10.0</td>\n",
       "      <td>2018-06-02 09:31:31</td>\n",
       "      <td>Vin</td>\n",
       "      <td>Château Turcaud Bordeaux Rouge Cuvée Majeure 2018</td>\n",
       "    </tr>\n",
       "    <tr>\n",
       "      <th>11</th>\n",
       "      <td>16585</td>\n",
       "      <td>15.0</td>\n",
       "      <td>2018-02-16 14:03:16</td>\n",
       "      <td>Vin</td>\n",
       "      <td>Xavier Frissant Touraine Sauvignon 2019</td>\n",
       "    </tr>\n",
       "    <tr>\n",
       "      <th>14</th>\n",
       "      <td>12869</td>\n",
       "      <td>7.0</td>\n",
       "      <td>2019-03-28 14:29:35</td>\n",
       "      <td>Vin</td>\n",
       "      <td>Stéphane Tissot Arbois D.D. 2016</td>\n",
       "    </tr>\n",
       "    <tr>\n",
       "      <th>...</th>\n",
       "      <td>...</td>\n",
       "      <td>...</td>\n",
       "      <td>...</td>\n",
       "      <td>...</td>\n",
       "      <td>...</td>\n",
       "    </tr>\n",
       "    <tr>\n",
       "      <th>1503</th>\n",
       "      <td>13074</td>\n",
       "      <td>4.0</td>\n",
       "      <td>2018-02-12 14:25:28</td>\n",
       "      <td>Vin</td>\n",
       "      <td>Château de Vaudieu Châteauneuf-du-Pape L'Avenu...</td>\n",
       "    </tr>\n",
       "    <tr>\n",
       "      <th>1505</th>\n",
       "      <td>16322</td>\n",
       "      <td>0.0</td>\n",
       "      <td>2018-02-15 13:51:32</td>\n",
       "      <td>Vin</td>\n",
       "      <td>Moulin de Gassac IGP Pays d'Hérault Guilhem Ro...</td>\n",
       "    </tr>\n",
       "    <tr>\n",
       "      <th>1507</th>\n",
       "      <td>12365</td>\n",
       "      <td>10.0</td>\n",
       "      <td>2019-01-29 15:53:05</td>\n",
       "      <td>Vin</td>\n",
       "      <td>Parés Baltà Penedès Electio 2013</td>\n",
       "    </tr>\n",
       "    <tr>\n",
       "      <th>1508</th>\n",
       "      <td>16326</td>\n",
       "      <td>5.0</td>\n",
       "      <td>2019-04-18 11:32:46</td>\n",
       "      <td>Vin</td>\n",
       "      <td>Camin Larredya Jurançon Moelleux Au Capcéu 2018</td>\n",
       "    </tr>\n",
       "    <tr>\n",
       "      <th>1509</th>\n",
       "      <td>15662</td>\n",
       "      <td>15.0</td>\n",
       "      <td>2018-02-27 10:13:03</td>\n",
       "      <td>Vin</td>\n",
       "      <td>Chermette Domaine du Vissoux Beaujolais Griott...</td>\n",
       "    </tr>\n",
       "  </tbody>\n",
       "</table>\n",
       "<p>713 rows × 5 columns</p>\n",
       "</div>"
      ],
      "text/plain": [
       "        sku  total_sales            post_date product_type  \\\n",
       "2     14692          5.0  2019-03-19 10:06:47          Vin   \n",
       "4     15328          2.0  2019-03-27 18:05:09          Vin   \n",
       "6     16515         10.0  2018-06-02 09:31:31          Vin   \n",
       "11    16585         15.0  2018-02-16 14:03:16          Vin   \n",
       "14    12869          7.0  2019-03-28 14:29:35          Vin   \n",
       "...     ...          ...                  ...          ...   \n",
       "1503  13074          4.0  2018-02-12 14:25:28          Vin   \n",
       "1505  16322          0.0  2018-02-15 13:51:32          Vin   \n",
       "1507  12365         10.0  2019-01-29 15:53:05          Vin   \n",
       "1508  16326          5.0  2019-04-18 11:32:46          Vin   \n",
       "1509  15662         15.0  2018-02-27 10:13:03          Vin   \n",
       "\n",
       "                                             post_title  \n",
       "2         Château Fonréaud Bordeaux Blanc Le Cygne 2016  \n",
       "4                  Agnès Levet Côte Rôtie Maestria 2017  \n",
       "6     Château Turcaud Bordeaux Rouge Cuvée Majeure 2018  \n",
       "11              Xavier Frissant Touraine Sauvignon 2019  \n",
       "14                     Stéphane Tissot Arbois D.D. 2016  \n",
       "...                                                 ...  \n",
       "1503  Château de Vaudieu Châteauneuf-du-Pape L'Avenu...  \n",
       "1505  Moulin de Gassac IGP Pays d'Hérault Guilhem Ro...  \n",
       "1507                   Parés Baltà Penedès Electio 2013  \n",
       "1508    Camin Larredya Jurançon Moelleux Au Capcéu 2018  \n",
       "1509  Chermette Domaine du Vissoux Beaujolais Griott...  \n",
       "\n",
       "[713 rows x 5 columns]"
      ]
     },
     "execution_count": 114,
     "metadata": {},
     "output_type": "execute_result"
    }
   ],
   "source": [
    "df_web.info()\n",
    "print(\"\\nJe supprime les deux lignes nulles et la ligne bon cadeau. pour l'instant\")\n",
    "df_web = df_web.drop(index=[1084, 1087,1387])\n",
    "df_web.info()\n",
    "df_web\n"
   ]
  },
  {
   "cell_type": "markdown",
   "id": "dbff6403",
   "metadata": {},
   "source": [
    "<div style=\"border: 1px solid RGB(51,165,182);\" >\n",
    "<h3 style=\"margin: auto; padding: 20px; color: RGB(51,165,182); \">2.3 - Analyse exploratoire du fichier liaison.xlsx</h3>\n",
    "</div>"
   ]
  },
  {
   "cell_type": "code",
   "execution_count": 115,
   "id": "de426b74",
   "metadata": {},
   "outputs": [
    {
     "name": "stdout",
     "output_type": "stream",
     "text": [
      "df_liaison comporte 825 observation(s) ou article(s) et 2 colonnes.\n",
      "Nombre total d'éléments :  1650\n"
     ]
    }
   ],
   "source": [
    "#Dimension du dataset\n",
    "#Nombre d'observations\n",
    "#Nombre de caractéristiques\n",
    "print(\"df_liaison comporte {} observation(s) ou article(s)\".format(df_liaison.shape[0]),\"et {} colonnes.\".format(df_liaison.shape[1]))\n",
    "print(\"Nombre total d'éléments : \",df_liaison.size)\n",
    "\n"
   ]
  },
  {
   "cell_type": "code",
   "execution_count": 116,
   "id": "9834ae33",
   "metadata": {},
   "outputs": [
    {
     "name": "stdout",
     "output_type": "stream",
     "text": [
      "Le tableau comporte 2 colonne(s)\n",
      "\n",
      "nature par colonne :  \n",
      " id_web        object\n",
      "product_id     int64\n",
      "dtype: object\n",
      "\n",
      "Il y a 734 valeurs dans id_web\n",
      "Il y a 825 valeurs dans product_id\n"
     ]
    }
   ],
   "source": [
    "#Consulter le nombre de colonnes\n",
    "print(\"Le tableau comporte {} colonne(s)\".format(df_liaison.shape[1]))\n",
    "#La nature des données dans chacune des colonnes\n",
    "print('\\nnature par colonne : ','\\n',df_liaison.dtypes)\n",
    "#Le nombre de valeurs présentes dans chacune des colonnes\n",
    "print('\\nIl y a {} valeurs dans id_web'.format(df_liaison['id_web'].count()))\n",
    "print('Il y a {} valeurs dans product_id'.format(df_liaison['product_id'].count()))"
   ]
  },
  {
   "cell_type": "code",
   "execution_count": 117,
   "id": "2b30d6b2",
   "metadata": {},
   "outputs": [
    {
     "name": "stdout",
     "output_type": "stream",
     "text": [
      "Empty DataFrame\n",
      "Columns: [id_web, product_id]\n",
      "Index: []\n"
     ]
    }
   ],
   "source": [
    "#Les valeurs de la colonne \"product_id\" sont elles toutes uniques?\n",
    "\n",
    "duplicatas=df_liaison[df_liaison['product_id'].duplicated(keep=False)]\n",
    "duplicatas=duplicatas.sort_values(by=[\"product_id\"])\n",
    "\n",
    "print(duplicatas.head())\n"
   ]
  },
  {
   "cell_type": "code",
   "execution_count": 118,
   "id": "4d8ca13c",
   "metadata": {},
   "outputs": [
    {
     "name": "stdout",
     "output_type": "stream",
     "text": [
      "Empty DataFrame\n",
      "Columns: [id_web, product_id]\n",
      "Index: []\n",
      "Si l'on ignore les valeurs nulles, il n'y a pas de doublons.\n"
     ]
    }
   ],
   "source": [
    "#Les valeurs de la colonne \"id_web\" sont-elles toutes uniques?\n",
    "no_null = df_liaison[~df_liaison['id_web'].isnull()]\n",
    "duplicatas=no_null[no_null['id_web'].duplicated(keep=False)]\n",
    "duplicatas=duplicatas.sort_values(by=[\"id_web\"])\n",
    "\n",
    "print(duplicatas.head())\n",
    "print(\"Si l'on ignore les valeurs nulles, il n'y a pas de doublons.\")"
   ]
  },
  {
   "cell_type": "code",
   "execution_count": 119,
   "id": "52f7c843",
   "metadata": {},
   "outputs": [
    {
     "name": "stdout",
     "output_type": "stream",
     "text": [
      "Compte des elements nulles dans df_liaison :  \n",
      " id_web        91\n",
      "product_id     0\n",
      "dtype: int64\n"
     ]
    },
    {
     "data": {
      "text/html": [
       "<div>\n",
       "<style scoped>\n",
       "    .dataframe tbody tr th:only-of-type {\n",
       "        vertical-align: middle;\n",
       "    }\n",
       "\n",
       "    .dataframe tbody tr th {\n",
       "        vertical-align: top;\n",
       "    }\n",
       "\n",
       "    .dataframe thead th {\n",
       "        text-align: right;\n",
       "    }\n",
       "</style>\n",
       "<table border=\"1\" class=\"dataframe\">\n",
       "  <thead>\n",
       "    <tr style=\"text-align: right;\">\n",
       "      <th></th>\n",
       "      <th>id_web</th>\n",
       "      <th>product_id</th>\n",
       "    </tr>\n",
       "  </thead>\n",
       "  <tbody>\n",
       "    <tr>\n",
       "      <th>19</th>\n",
       "      <td>NaN</td>\n",
       "      <td>4055</td>\n",
       "    </tr>\n",
       "    <tr>\n",
       "      <th>49</th>\n",
       "      <td>NaN</td>\n",
       "      <td>4090</td>\n",
       "    </tr>\n",
       "    <tr>\n",
       "      <th>50</th>\n",
       "      <td>NaN</td>\n",
       "      <td>4092</td>\n",
       "    </tr>\n",
       "    <tr>\n",
       "      <th>119</th>\n",
       "      <td>NaN</td>\n",
       "      <td>4195</td>\n",
       "    </tr>\n",
       "    <tr>\n",
       "      <th>131</th>\n",
       "      <td>NaN</td>\n",
       "      <td>4209</td>\n",
       "    </tr>\n",
       "  </tbody>\n",
       "</table>\n",
       "</div>"
      ],
      "text/plain": [
       "    id_web  product_id\n",
       "19     NaN        4055\n",
       "49     NaN        4090\n",
       "50     NaN        4092\n",
       "119    NaN        4195\n",
       "131    NaN        4209"
      ]
     },
     "execution_count": 119,
     "metadata": {},
     "output_type": "execute_result"
    }
   ],
   "source": [
    "#Avons-nous des articles sans correspondances?\n",
    "print('Compte des elements nulles dans df_liaison : ','\\n',df_liaison.isnull().sum())\n",
    "nulle=df_liaison[df_liaison.isnull().any(axis=1)]\n",
    "\n",
    "nulle.head()"
   ]
  },
  {
   "cell_type": "code",
   "execution_count": 120,
   "id": "109ddae2",
   "metadata": {},
   "outputs": [],
   "source": [
    "#df_liaison = df_liaison.dropna(how='any',axis=0)\n",
    "\n",
    "#print('retirons les lignes ayant des valeurs nulles')\n",
    "#nulle=df_liaison[df_liaison.isnull().any(axis=1)]\n",
    "#nulle.head()"
   ]
  },
  {
   "cell_type": "markdown",
   "id": "1a359137",
   "metadata": {},
   "source": [
    "<div style=\"background-color: RGB(51,165,182);\" >\n",
    "<h2 style=\"margin: auto; padding: 20px; color:#fff; \">Etape 3 - Jonction des fichiers</h2>\n",
    "</div>"
   ]
  },
  {
   "cell_type": "markdown",
   "id": "b7750c10",
   "metadata": {},
   "source": [
    "<div style=\"border: 1px solid RGB(51,165,182);\" >\n",
    "<h3 style=\"margin: auto; padding: 20px; color: RGB(51,165,182); \">Etape 3.1 - Jonction du fichier df_erp et df_liaison</h3>\n",
    "</div>"
   ]
  },
  {
   "cell_type": "code",
   "execution_count": 121,
   "id": "e756ec7d",
   "metadata": {},
   "outputs": [
    {
     "data": {
      "text/html": [
       "<div>\n",
       "<style scoped>\n",
       "    .dataframe tbody tr th:only-of-type {\n",
       "        vertical-align: middle;\n",
       "    }\n",
       "\n",
       "    .dataframe tbody tr th {\n",
       "        vertical-align: top;\n",
       "    }\n",
       "\n",
       "    .dataframe thead th {\n",
       "        text-align: right;\n",
       "    }\n",
       "</style>\n",
       "<table border=\"1\" class=\"dataframe\">\n",
       "  <thead>\n",
       "    <tr style=\"text-align: right;\">\n",
       "      <th></th>\n",
       "      <th>product_id</th>\n",
       "      <th>onsale_web</th>\n",
       "      <th>price</th>\n",
       "      <th>stock_quantity</th>\n",
       "      <th>stock_status</th>\n",
       "      <th>purchase_price</th>\n",
       "      <th>id_web</th>\n",
       "    </tr>\n",
       "  </thead>\n",
       "  <tbody>\n",
       "    <tr>\n",
       "      <th>0</th>\n",
       "      <td>3847</td>\n",
       "      <td>1</td>\n",
       "      <td>24.2</td>\n",
       "      <td>16</td>\n",
       "      <td>instock</td>\n",
       "      <td>12.88</td>\n",
       "      <td>15298</td>\n",
       "    </tr>\n",
       "    <tr>\n",
       "      <th>1</th>\n",
       "      <td>3849</td>\n",
       "      <td>1</td>\n",
       "      <td>34.3</td>\n",
       "      <td>10</td>\n",
       "      <td>instock</td>\n",
       "      <td>17.54</td>\n",
       "      <td>15296</td>\n",
       "    </tr>\n",
       "    <tr>\n",
       "      <th>2</th>\n",
       "      <td>3850</td>\n",
       "      <td>1</td>\n",
       "      <td>20.8</td>\n",
       "      <td>0</td>\n",
       "      <td>outofstock</td>\n",
       "      <td>10.64</td>\n",
       "      <td>15300</td>\n",
       "    </tr>\n",
       "    <tr>\n",
       "      <th>3</th>\n",
       "      <td>4032</td>\n",
       "      <td>1</td>\n",
       "      <td>14.1</td>\n",
       "      <td>26</td>\n",
       "      <td>instock</td>\n",
       "      <td>6.92</td>\n",
       "      <td>19814</td>\n",
       "    </tr>\n",
       "    <tr>\n",
       "      <th>4</th>\n",
       "      <td>4039</td>\n",
       "      <td>1</td>\n",
       "      <td>46.0</td>\n",
       "      <td>3</td>\n",
       "      <td>instock</td>\n",
       "      <td>23.77</td>\n",
       "      <td>19815</td>\n",
       "    </tr>\n",
       "  </tbody>\n",
       "</table>\n",
       "</div>"
      ],
      "text/plain": [
       "   product_id  onsale_web  price  stock_quantity stock_status  purchase_price  \\\n",
       "0        3847           1   24.2              16      instock           12.88   \n",
       "1        3849           1   34.3              10      instock           17.54   \n",
       "2        3850           1   20.8               0   outofstock           10.64   \n",
       "3        4032           1   14.1              26      instock            6.92   \n",
       "4        4039           1   46.0               3      instock           23.77   \n",
       "\n",
       "  id_web  \n",
       "0  15298  \n",
       "1  15296  \n",
       "2  15300  \n",
       "3  19814  \n",
       "4  19815  "
      ]
     },
     "execution_count": 121,
     "metadata": {},
     "output_type": "execute_result"
    }
   ],
   "source": [
    "#Fusion des fichiers df_erp et df_liaison\n",
    "df_erp_x_liaison = pd.merge(df_erp, df_liaison, on='product_id', how='outer')\n",
    "df_erp_x_liaison.head()"
   ]
  },
  {
   "cell_type": "code",
   "execution_count": 122,
   "id": "b7e1da5e",
   "metadata": {},
   "outputs": [
    {
     "name": "stdout",
     "output_type": "stream",
     "text": [
      "Il y a 825 lignes dans df_erp_x_liaison.\n",
      "Cependant il y a 91 lignes nulles dans la colonne id_web\n",
      "Ce qui veut dire 91 lignes qui ne pourront pas communiquer avec df_web.\n"
     ]
    }
   ],
   "source": [
    "#Y a t-il des lignes ne \"matchant\" entre les 2 fichiers?\n",
    "print('Il y a {} lignes dans df_erp_x_liaison.'.format(df_erp_x_liaison['id_web'].shape[0]))\n",
    "print('Cependant il y a {} lignes nulles dans la colonne id_web'.format(df_erp_x_liaison['id_web'].isnull().sum()))\n",
    "print('Ce qui veut dire 91 lignes qui ne pourront pas communiquer avec df_web.')"
   ]
  },
  {
   "cell_type": "markdown",
   "id": "fe4c51d7",
   "metadata": {},
   "source": [
    "<div style=\"border: 1px solid RGB(51,165,182);\" >\n",
    "<h3 style=\"margin: auto; padding: 20px; color: RGB(51,165,182); \">Etape 3.2 - Jonction du fichier df_merge et df_web</h3>\n",
    "</div>"
   ]
  },
  {
   "cell_type": "code",
   "execution_count": 123,
   "id": "46d9382b",
   "metadata": {},
   "outputs": [
    {
     "data": {
      "text/html": [
       "<div>\n",
       "<style scoped>\n",
       "    .dataframe tbody tr th:only-of-type {\n",
       "        vertical-align: middle;\n",
       "    }\n",
       "\n",
       "    .dataframe tbody tr th {\n",
       "        vertical-align: top;\n",
       "    }\n",
       "\n",
       "    .dataframe thead th {\n",
       "        text-align: right;\n",
       "    }\n",
       "</style>\n",
       "<table border=\"1\" class=\"dataframe\">\n",
       "  <thead>\n",
       "    <tr style=\"text-align: right;\">\n",
       "      <th></th>\n",
       "      <th>product_id</th>\n",
       "      <th>onsale_web</th>\n",
       "      <th>price</th>\n",
       "      <th>stock_quantity</th>\n",
       "      <th>stock_status</th>\n",
       "      <th>purchase_price</th>\n",
       "      <th>id_web</th>\n",
       "      <th>total_sales</th>\n",
       "      <th>post_date</th>\n",
       "      <th>product_type</th>\n",
       "      <th>post_title</th>\n",
       "    </tr>\n",
       "  </thead>\n",
       "  <tbody>\n",
       "    <tr>\n",
       "      <th>0</th>\n",
       "      <td>3847</td>\n",
       "      <td>1</td>\n",
       "      <td>24.2</td>\n",
       "      <td>16</td>\n",
       "      <td>instock</td>\n",
       "      <td>12.88</td>\n",
       "      <td>15298</td>\n",
       "      <td>6.0</td>\n",
       "      <td>2018-02-08 12:58:52</td>\n",
       "      <td>Vin</td>\n",
       "      <td>Pierre Jean Villa Saint-Joseph Préface 2018</td>\n",
       "    </tr>\n",
       "    <tr>\n",
       "      <th>1</th>\n",
       "      <td>3849</td>\n",
       "      <td>1</td>\n",
       "      <td>34.3</td>\n",
       "      <td>10</td>\n",
       "      <td>instock</td>\n",
       "      <td>17.54</td>\n",
       "      <td>15296</td>\n",
       "      <td>9.0</td>\n",
       "      <td>2018-02-08 13:49:41</td>\n",
       "      <td>Vin</td>\n",
       "      <td>Pierre Jean Villa Saint-Joseph Rouge Tildé 2017</td>\n",
       "    </tr>\n",
       "    <tr>\n",
       "      <th>2</th>\n",
       "      <td>3850</td>\n",
       "      <td>1</td>\n",
       "      <td>20.8</td>\n",
       "      <td>0</td>\n",
       "      <td>outofstock</td>\n",
       "      <td>10.64</td>\n",
       "      <td>15300</td>\n",
       "      <td>0.0</td>\n",
       "      <td>2018-02-08 14:08:36</td>\n",
       "      <td>Vin</td>\n",
       "      <td>Pierre Jean Villa Crozes-Hermitage Accroche Co...</td>\n",
       "    </tr>\n",
       "    <tr>\n",
       "      <th>3</th>\n",
       "      <td>4032</td>\n",
       "      <td>1</td>\n",
       "      <td>14.1</td>\n",
       "      <td>26</td>\n",
       "      <td>instock</td>\n",
       "      <td>6.92</td>\n",
       "      <td>19814</td>\n",
       "      <td>12.0</td>\n",
       "      <td>2018-02-09 14:01:05</td>\n",
       "      <td>Vin</td>\n",
       "      <td>Pierre Jean Villa IGP Collines Rhodaniennes Ga...</td>\n",
       "    </tr>\n",
       "    <tr>\n",
       "      <th>4</th>\n",
       "      <td>4039</td>\n",
       "      <td>1</td>\n",
       "      <td>46.0</td>\n",
       "      <td>3</td>\n",
       "      <td>instock</td>\n",
       "      <td>23.77</td>\n",
       "      <td>19815</td>\n",
       "      <td>3.0</td>\n",
       "      <td>2018-02-12 09:04:37</td>\n",
       "      <td>Vin</td>\n",
       "      <td>Pierre Jean Villa Côte Rôtie Carmina 2017</td>\n",
       "    </tr>\n",
       "  </tbody>\n",
       "</table>\n",
       "</div>"
      ],
      "text/plain": [
       "   product_id  onsale_web  price  stock_quantity stock_status  purchase_price  \\\n",
       "0        3847           1   24.2              16      instock           12.88   \n",
       "1        3849           1   34.3              10      instock           17.54   \n",
       "2        3850           1   20.8               0   outofstock           10.64   \n",
       "3        4032           1   14.1              26      instock            6.92   \n",
       "4        4039           1   46.0               3      instock           23.77   \n",
       "\n",
       "  id_web  total_sales            post_date product_type  \\\n",
       "0  15298          6.0  2018-02-08 12:58:52          Vin   \n",
       "1  15296          9.0  2018-02-08 13:49:41          Vin   \n",
       "2  15300          0.0  2018-02-08 14:08:36          Vin   \n",
       "3  19814         12.0  2018-02-09 14:01:05          Vin   \n",
       "4  19815          3.0  2018-02-12 09:04:37          Vin   \n",
       "\n",
       "                                          post_title  \n",
       "0        Pierre Jean Villa Saint-Joseph Préface 2018  \n",
       "1    Pierre Jean Villa Saint-Joseph Rouge Tildé 2017  \n",
       "2  Pierre Jean Villa Crozes-Hermitage Accroche Co...  \n",
       "3  Pierre Jean Villa IGP Collines Rhodaniennes Ga...  \n",
       "4          Pierre Jean Villa Côte Rôtie Carmina 2017  "
      ]
     },
     "execution_count": 123,
     "metadata": {},
     "output_type": "execute_result"
    }
   ],
   "source": [
    "#Fusionnez les datasets df_merge et df_web\n",
    "df_web=df_web.rename(columns={'sku':'id_web'})#renome sku en id_web pour plus de simplicité.\n",
    "df_merged = pd.merge(df_erp_x_liaison, df_web, on='id_web', how='outer')\n",
    "df_merged.head()"
   ]
  },
  {
   "cell_type": "code",
   "execution_count": 124,
   "id": "2021762f",
   "metadata": {},
   "outputs": [
    {
     "name": "stdout",
     "output_type": "stream",
     "text": [
      "<class 'pandas.core.frame.DataFrame'>\n",
      "RangeIndex: 825 entries, 0 to 824\n",
      "Data columns (total 11 columns):\n",
      " #   Column          Non-Null Count  Dtype  \n",
      "---  ------          --------------  -----  \n",
      " 0   product_id      825 non-null    int64  \n",
      " 1   onsale_web      825 non-null    int64  \n",
      " 2   price           825 non-null    float64\n",
      " 3   stock_quantity  825 non-null    int64  \n",
      " 4   stock_status    825 non-null    object \n",
      " 5   purchase_price  825 non-null    float64\n",
      " 6   id_web          734 non-null    object \n",
      " 7   total_sales     713 non-null    float64\n",
      " 8   post_date       713 non-null    object \n",
      " 9   product_type    713 non-null    object \n",
      " 10  post_title      713 non-null    object \n",
      "dtypes: float64(3), int64(3), object(5)\n",
      "memory usage: 71.0+ KB\n"
     ]
    }
   ],
   "source": [
    "#Avons-nous des lignes sans correspondances?\n",
    "\n",
    "df_merged.info()\n"
   ]
  },
  {
   "cell_type": "code",
   "execution_count": 125,
   "id": "312600ce",
   "metadata": {},
   "outputs": [
    {
     "name": "stdout",
     "output_type": "stream",
     "text": [
      "Compte des elements nulles dans df_merged :  \n",
      " product_id          0\n",
      "onsale_web          0\n",
      "price               0\n",
      "stock_quantity      0\n",
      "stock_status        0\n",
      "purchase_price      0\n",
      "id_web             91\n",
      "total_sales       112\n",
      "post_date         112\n",
      "product_type      112\n",
      "post_title        112\n",
      "dtype: int64\n"
     ]
    }
   ],
   "source": [
    "print('Compte des elements nulles dans df_merged : ','\\n',df_merged.isnull().sum())\n"
   ]
  },
  {
   "cell_type": "code",
   "execution_count": 126,
   "id": "9c088581",
   "metadata": {},
   "outputs": [],
   "source": [
    "#print('en faisant une fusion interne sur id_web ces lignes seront exclut du dataframe.')\n",
    "#df_merged = pd.merge(df_erp_x_liaison, df_web, on='id_web', how='inner')\n",
    "#df_merged.info()"
   ]
  },
  {
   "cell_type": "code",
   "execution_count": 127,
   "id": "3b381dec",
   "metadata": {},
   "outputs": [
    {
     "name": "stdout",
     "output_type": "stream",
     "text": [
      "les lignes concerné ayant des valeurs nulles:\n",
      "\n",
      "product_id        0\n",
      "onsale_web        0\n",
      "price             3\n",
      "stock_quantity    0\n",
      "purchase_price    0\n",
      "total_sales       0\n",
      "dtype: int64\n"
     ]
    }
   ],
   "source": [
    "df_merged_numeric = df_merged.select_dtypes(include=['float64', 'int64'])\n",
    "\n",
    "compte_negatif = (df_merged_numeric < 0).sum()\n",
    "print(\"les lignes concerné ayant des valeurs nulles:\\n\")\n",
    "print(compte_negatif)"
   ]
  },
  {
   "cell_type": "markdown",
   "id": "13d81fd6",
   "metadata": {},
   "source": [
    "<div style=\"background-color: RGB(51,165,182);\" >\n",
    "<h2 style=\"margin: auto; padding: 20px; color:#fff; \">Etape 4 - Analyse univarié des prix</h2>\n",
    "</div>"
   ]
  },
  {
   "cell_type": "markdown",
   "id": "9c8d0615",
   "metadata": {},
   "source": [
    "<div style=\"border: 1px solid RGB(51,165,182);\" >\n",
    "<h3 style=\"margin: auto; padding: 20px; color: RGB(51,165,182); \">Etape 4.1 - Exploration par la visualisation de données</h3>\n",
    "</div>"
   ]
  },
  {
   "cell_type": "code",
   "execution_count": 128,
   "id": "3be61f06",
   "metadata": {},
   "outputs": [
    {
     "data": {
      "image/png": "[encoded data removed]",
      "text/plain": [
       "<Figure size 2000x300 with 1 Axes>"
      ]
     },
     "metadata": {},
     "output_type": "display_data"
    }
   ],
   "source": [
    "#Création d'une Boite à moustache de la répartition des prix grâce à Pandas\n",
    "\n",
    "plt.figure(figsize=(20,3))  #  largeur=12, hauteur=8\n",
    "selection_colonnes=['price']\n",
    "df_boxplot=df_merged[selection_colonnes]\n",
    "\n",
    "# Créer une boîte à moustache\n",
    "df_boxplot.boxplot(vert=False)\n",
    "plt.xticks(ticks=range(0, 250, 10))\n",
    "plt.title('répartition des prix')\n",
    "plt.xlabel('Prix')\n",
    "#plt.ylabel('')\n",
    "plt.show()\n"
   ]
  },
  {
   "cell_type": "code",
   "execution_count": 129,
   "id": "cbfe6346",
   "metadata": {},
   "outputs": [
    {
     "data": {
      "application/vnd.plotly.v1+json": {
       "config": {
        "plotlyServerURL": "https://plot.ly"
       },
       "data": [
        {
         "alignmentgroup": "True",
         "boxpoints": "all",
         "hovertemplate": "price=%{x}<extra></extra>",
         "legendgroup": "",
         "marker": {
          "color": "#636efa"
         },
         "name": "",
         "notched": false,
         "offsetgroup": "",
         "orientation": "h",
         "showlegend": false,
         "type": "box",
         "x": [
          24.2,
          34.3,
          20.8,
          14.1,
          46,
          34.3,
          32.7,
          31.2,
          60,
          42.6,
          80,
          18.3,
          22.8,
          19.3,
          21.8,
          7.7,
          33.7,
          44.3,
          71.6,
          86.1,
          73,
          47,
          14.1,
          73.5,
          -20,
          21.5,
          10.8,
          30.5,
          49,
          40,
          144,
          36.9,
          23.6,
          12,
          18.5,
          34.5,
          20.5,
          23.8,
          20.2,
          13.5,
          13.8,
          12.7,
          14.6,
          23,
          10,
          -8,
          10,
          84.7,
          43.3,
          47,
          19.9,
          29.2,
          34.2,
          42.5,
          14.2,
          92,
          28.5,
          -9.1,
          28,
          28,
          24,
          18,
          40,
          40,
          40,
          40,
          30,
          26,
          30,
          20,
          31,
          27,
          31,
          21,
          31,
          27,
          31,
          21,
          40,
          40,
          47,
          45,
          45,
          45,
          30,
          26,
          30,
          20,
          45,
          45,
          45,
          45,
          45,
          31,
          21,
          27,
          31,
          31,
          45,
          45,
          45,
          31,
          27,
          31,
          21,
          31,
          31,
          31,
          45,
          45,
          12.7,
          8.7,
          8.7,
          8.7,
          11.9,
          11.9,
          14.5,
          14.4,
          19.5,
          20.8,
          22,
          16.6,
          60,
          23.4,
          33.2,
          32,
          77.8,
          12.7,
          14.7,
          14.05,
          22.9,
          44,
          37,
          39,
          17,
          23.2,
          19,
          16.4,
          14.4,
          13.7,
          12.6,
          22.8,
          12.8,
          22.1,
          12.8,
          15.8,
          15.8,
          16.3,
          16.3,
          9.7,
          6.8,
          12.6,
          35,
          31.7,
          100,
          23,
          88.4,
          29.8,
          25.7,
          77.4,
          39,
          53,
          49,
          29.5,
          33,
          37.5,
          69,
          59,
          13.7,
          19.2,
          29,
          9.8,
          14.5,
          20.35,
          12,
          18.5,
          9.3,
          9.3,
          11.6,
          14.3,
          10.8,
          7.6,
          12,
          20.5,
          14.3,
          18.2,
          9,
          7.8,
          5.7,
          5.7,
          5.7,
          13.5,
          13.5,
          11.5,
          24,
          24,
          11.9,
          16.7,
          21.4,
          16.6,
          13.3,
          9.5,
          12.1,
          9.3,
          17.8,
          13.5,
          10.8,
          27.2,
          9.4,
          5.8,
          5.8,
          38,
          38,
          9.9,
          11.3,
          23,
          6.7,
          7.6,
          79.8,
          48.5,
          39.8,
          58.8,
          26.5,
          13.4,
          17.1,
          16.7,
          11.6,
          12.8,
          8.9,
          9.7,
          17.2,
          16.9,
          12.6,
          29.9,
          9.6,
          11.1,
          11.1,
          17.1,
          28,
          28,
          8.9,
          8.6,
          13.5,
          8.9,
          15.3,
          14.8,
          19.5,
          14.1,
          59.6,
          26.9,
          24.4,
          31.7,
          32.1,
          12.2,
          9.9,
          15.8,
          15.8,
          17.8,
          9.6,
          19,
          15.2,
          10.2,
          15.5,
          16.6,
          9.2,
          12.9,
          14.9,
          17.6,
          24.8,
          18.9,
          11.6,
          27,
          41,
          69.8,
          38.6,
          26.7,
          22.8,
          19,
          23.2,
          39.1,
          44,
          17.5,
          30,
          8.1,
          10.7,
          10.9,
          49,
          35.5,
          83,
          59,
          79.5,
          225,
          79.5,
          12.65,
          51.6,
          39,
          77,
          85.6,
          49.5,
          49.5,
          49.5,
          57,
          59.8,
          27.5,
          62,
          59,
          59,
          59,
          44,
          62.5,
          176,
          108.5,
          68.1,
          157,
          104,
          28.1,
          21.7,
          28.5,
          21.5,
          67.2,
          109.6,
          32.3,
          43.9,
          61.6,
          41.8,
          26.5,
          16.1,
          31.5,
          31.5,
          49,
          32.2,
          50.1,
          13.4,
          11.8,
          13.1,
          26.2,
          20.6,
          16.9,
          19,
          24,
          57,
          67.5,
          30.6,
          59,
          11.9,
          16.5,
          52.4,
          52.9,
          58.3,
          39.6,
          52.4,
          62.4,
          76.8,
          50,
          52.4,
          41,
          62.4,
          50,
          21.5,
          28.5,
          24.3,
          16.5,
          25.3,
          49,
          36.2,
          33.4,
          40.2,
          43,
          43,
          48.8,
          20.8,
          16.4,
          14.4,
          21,
          12.3,
          20.2,
          17,
          21.9,
          17.8,
          19.8,
          19,
          10.7,
          12.9,
          9.5,
          29.8,
          13.2,
          6.3,
          7.1,
          9.1,
          9.1,
          18.1,
          14,
          30.1,
          12.8,
          12.8,
          19.8,
          18.2,
          31.6,
          16.8,
          22.8,
          32.6,
          44,
          55.4,
          15.8,
          18.4,
          13.3,
          11.1,
          18.6,
          23.4,
          18.2,
          12.5,
          15.9,
          13.7,
          29,
          23.4,
          12.7,
          26,
          29.5,
          8.6,
          14.3,
          22,
          16.8,
          15.3,
          7.4,
          9.7,
          12.4,
          14.5,
          11.9,
          16.4,
          27.9,
          12,
          7.4,
          26.5,
          24.3,
          16.9,
          6.8,
          13.9,
          7.8,
          13.7,
          9.8,
          29.5,
          28.5,
          10.1,
          12.1,
          12.3,
          11.1,
          11.1,
          13.6,
          21,
          18.7,
          41.6,
          12,
          78,
          14.9,
          6.5,
          8.7,
          8.5,
          9.9,
          8.2,
          8.3,
          9.8,
          9.9,
          17.2,
          9.3,
          22.8,
          18.7,
          28.4,
          27.9,
          25.3,
          17,
          27.9,
          20.1,
          27.9,
          21.2,
          20.8,
          41,
          46,
          102.3,
          137,
          22.9,
          53.2,
          25.9,
          17.3,
          25.9,
          28,
          25.9,
          25.9,
          37.2,
          24.4,
          24.4,
          13.8,
          21.5,
          7,
          12.8,
          23.2,
          7.9,
          6.5,
          7.9,
          16.7,
          17.5,
          27.8,
          25.7,
          18.4,
          22.2,
          11.1,
          9.9,
          12.5,
          12.9,
          20.5,
          25,
          11.3,
          7,
          12.1,
          7.1,
          49.5,
          23,
          23.7,
          16.45,
          16.3,
          18.5,
          26.5,
          78,
          78,
          78,
          27.3,
          217.5,
          64.9,
          48.7,
          59.4,
          48.7,
          105,
          105,
          55.6,
          9.3,
          15.4,
          19.8,
          17.1,
          45,
          112,
          86.8,
          62.1,
          22.5,
          7.5,
          52.6,
          45,
          67,
          59.9,
          59.9,
          65,
          15.2,
          19,
          11.1,
          18,
          22.8,
          19.5,
          28.8,
          16.1,
          24.2,
          35.3,
          10.7,
          12.7,
          17.1,
          24,
          39,
          13.2,
          23.6,
          15.5,
          16.3,
          16.2,
          7.2,
          54.8,
          42,
          19.8,
          10.2,
          10.4,
          11.5,
          17.9,
          21.6,
          33.4,
          49.5,
          43.5,
          43.5,
          26.5,
          13.8,
          10.1,
          18.2,
          12.9,
          38.6,
          48.4,
          60.4,
          38.6,
          12,
          61.6,
          65.9,
          15.2,
          24.6,
          48.8,
          34.3,
          36.3,
          57.7,
          38,
          27.9,
          58,
          58,
          30.8,
          92,
          27.5,
          22.5,
          34.7,
          59.6,
          83.7,
          30.5,
          38.6,
          18,
          63.4,
          124.8,
          19.2,
          19.2,
          56.4,
          38.4,
          27.8,
          71.3,
          71.3,
          25,
          10.3,
          28,
          44.6,
          13,
          12.7,
          6.5,
          17.5,
          29.9,
          44.5,
          29.4,
          16.9,
          19.8,
          10.3,
          10.8,
          31.7,
          25,
          57.6,
          13.7,
          7.1,
          14.9,
          11,
          14.6,
          10.7,
          73.3,
          42.1,
          57,
          24.5,
          10.1,
          42.2,
          13.1,
          19.5,
          12.9,
          35.6,
          175,
          35.6,
          33.6,
          34.4,
          38.4,
          29.7,
          32.8,
          5.7,
          5.8,
          5.8,
          21.7,
          23,
          12.5,
          17.2,
          40.2,
          32.3,
          24,
          23.8,
          17.1,
          25,
          17.4,
          27.3,
          17.9,
          24,
          16.6,
          16.9,
          57.6,
          63.5,
          56,
          63.5,
          41.2,
          55,
          57,
          19.3,
          19,
          191.3,
          26.6,
          15.4,
          24.7,
          28.1,
          18.25,
          35.1,
          27.3,
          18.8,
          43.9,
          19.8,
          17.7,
          57,
          36,
          36,
          93,
          122,
          114,
          48.5,
          49.5,
          14.1,
          59.9,
          46,
          74.5,
          47.5,
          18.8,
          27.3,
          17.2,
          39,
          8.7,
          15.4,
          12.7,
          30,
          13.5,
          16.3,
          56.3,
          71.5,
          69,
          17.9,
          48.5,
          71.7,
          8.5,
          10.9,
          21.8,
          38.5,
          9.3,
          13.6,
          24.5,
          12.6,
          13.4,
          29.8,
          12.9,
          36.9,
          40.7,
          33.2,
          34.8,
          74.8,
          62.4,
          46,
          39.2,
          135,
          10.6,
          10.6,
          5.2,
          46,
          105.6,
          116.4,
          31,
          20.2,
          25.2,
          25.2,
          115,
          121,
          99,
          115,
          121,
          23.5,
          26.4,
          26.7,
          20.4,
          20.4,
          40.2,
          9,
          45.9,
          10.4,
          78,
          40.5,
          27.9,
          22.4,
          28.4,
          72,
          29,
          29.2,
          44,
          68.3,
          41.8,
          40,
          13.5,
          19,
          24.4,
          32.8,
          15.4,
          9.9,
          13.5,
          51,
          35.2,
          42.2,
          33.2,
          41.8,
          32.2,
          37.7,
          47.2,
          52.7,
          22.4,
          50.4,
          35.6,
          27.7,
          48.5,
          15.4,
          46.5,
          46.5,
          46.5,
          42,
          21.8,
          50.5,
          49.9,
          19,
          8.4,
          27.5,
          69,
          54.8,
          26.5,
          16.3
         ],
         "x0": " ",
         "xaxis": "x",
         "y0": " ",
         "yaxis": "y"
        }
       ],
       "layout": {
        "boxmode": "group",
        "legend": {
         "tracegroupgap": 0
        },
        "template": {
         "data": {
          "bar": [
           {
            "error_x": {
             "color": "#2a3f5f"
            },
            "error_y": {
             "color": "#2a3f5f"
            },
            "marker": {
             "line": {
              "color": "#E5ECF6",
              "width": 0.5
             },
             "pattern": {
              "fillmode": "overlay",
              "size": 10,
              "solidity": 0.2
             }
            },
            "type": "bar"
           }
          ],
          "barpolar": [
           {
            "marker": {
             "line": {
              "color": "#E5ECF6",
              "width": 0.5
             },
             "pattern": {
              "fillmode": "overlay",
              "size": 10,
              "solidity": 0.2
             }
            },
            "type": "barpolar"
           }
          ],
          "carpet": [
           {
            "aaxis": {
             "endlinecolor": "#2a3f5f",
             "gridcolor": "white",
             "linecolor": "white",
             "minorgridcolor": "white",
             "startlinecolor": "#2a3f5f"
            },
            "baxis": {
             "endlinecolor": "#2a3f5f",
             "gridcolor": "white",
             "linecolor": "white",
             "minorgridcolor": "white",
             "startlinecolor": "#2a3f5f"
            },
            "type": "carpet"
           }
          ],
          "choropleth": [
           {
            "colorbar": {
             "outlinewidth": 0,
             "ticks": ""
            },
            "type": "choropleth"
           }
          ],
          "contour": [
           {
            "colorbar": {
             "outlinewidth": 0,
             "ticks": ""
            },
            "colorscale": [
             [
              0,
              "#0d0887"
             ],
             [
              0.1111111111111111,
              "#46039f"
             ],
             [
              0.2222222222222222,
              "#7201a8"
             ],
             [
              0.3333333333333333,
              "#9c179e"
             ],
             [
              0.4444444444444444,
              "#bd3786"
             ],
             [
              0.5555555555555556,
              "#d8576b"
             ],
             [
              0.6666666666666666,
              "#ed7953"
             ],
             [
              0.7777777777777778,
              "#fb9f3a"
             ],
             [
              0.8888888888888888,
              "#fdca26"
             ],
             [
              1,
              "#f0f921"
             ]
            ],
            "type": "contour"
           }
          ],
          "contourcarpet": [
           {
            "colorbar": {
             "outlinewidth": 0,
             "ticks": ""
            },
            "type": "contourcarpet"
           }
          ],
          "heatmap": [
           {
            "colorbar": {
             "outlinewidth": 0,
             "ticks": ""
            },
            "colorscale": [
             [
              0,
              "#0d0887"
             ],
             [
              0.1111111111111111,
              "#46039f"
             ],
             [
              0.2222222222222222,
              "#7201a8"
             ],
             [
              0.3333333333333333,
              "#9c179e"
             ],
             [
              0.4444444444444444,
              "#bd3786"
             ],
             [
              0.5555555555555556,
              "#d8576b"
             ],
             [
              0.6666666666666666,
              "#ed7953"
             ],
             [
              0.7777777777777778,
              "#fb9f3a"
             ],
             [
              0.8888888888888888,
              "#fdca26"
             ],
             [
              1,
              "#f0f921"
             ]
            ],
            "type": "heatmap"
           }
          ],
          "heatmapgl": [
           {
            "colorbar": {
             "outlinewidth": 0,
             "ticks": ""
            },
            "colorscale": [
             [
              0,
              "#0d0887"
             ],
             [
              0.1111111111111111,
              "#46039f"
             ],
             [
              0.2222222222222222,
              "#7201a8"
             ],
             [
              0.3333333333333333,
              "#9c179e"
             ],
             [
              0.4444444444444444,
              "#bd3786"
             ],
             [
              0.5555555555555556,
              "#d8576b"
             ],
             [
              0.6666666666666666,
              "#ed7953"
             ],
             [
              0.7777777777777778,
              "#fb9f3a"
             ],
             [
              0.8888888888888888,
              "#fdca26"
             ],
             [
              1,
              "#f0f921"
             ]
            ],
            "type": "heatmapgl"
           }
          ],
          "histogram": [
           {
            "marker": {
             "pattern": {
              "fillmode": "overlay",
              "size": 10,
              "solidity": 0.2
             }
            },
            "type": "histogram"
           }
          ],
          "histogram2d": [
           {
            "colorbar": {
             "outlinewidth": 0,
             "ticks": ""
            },
            "colorscale": [
             [
              0,
              "#0d0887"
             ],
             [
              0.1111111111111111,
              "#46039f"
             ],
             [
              0.2222222222222222,
              "#7201a8"
             ],
             [
              0.3333333333333333,
              "#9c179e"
             ],
             [
              0.4444444444444444,
              "#bd3786"
             ],
             [
              0.5555555555555556,
              "#d8576b"
             ],
             [
              0.6666666666666666,
              "#ed7953"
             ],
             [
              0.7777777777777778,
              "#fb9f3a"
             ],
             [
              0.8888888888888888,
              "#fdca26"
             ],
             [
              1,
              "#f0f921"
             ]
            ],
            "type": "histogram2d"
           }
          ],
          "histogram2dcontour": [
           {
            "colorbar": {
             "outlinewidth": 0,
             "ticks": ""
            },
            "colorscale": [
             [
              0,
              "#0d0887"
             ],
             [
              0.1111111111111111,
              "#46039f"
             ],
             [
              0.2222222222222222,
              "#7201a8"
             ],
             [
              0.3333333333333333,
              "#9c179e"
             ],
             [
              0.4444444444444444,
              "#bd3786"
             ],
             [
              0.5555555555555556,
              "#d8576b"
             ],
             [
              0.6666666666666666,
              "#ed7953"
             ],
             [
              0.7777777777777778,
              "#fb9f3a"
             ],
             [
              0.8888888888888888,
              "#fdca26"
             ],
             [
              1,
              "#f0f921"
             ]
            ],
            "type": "histogram2dcontour"
           }
          ],
          "mesh3d": [
           {
            "colorbar": {
             "outlinewidth": 0,
             "ticks": ""
            },
            "type": "mesh3d"
           }
          ],
          "parcoords": [
           {
            "line": {
             "colorbar": {
              "outlinewidth": 0,
              "ticks": ""
             }
            },
            "type": "parcoords"
           }
          ],
          "pie": [
           {
            "automargin": true,
            "type": "pie"
           }
          ],
          "scatter": [
           {
            "fillpattern": {
             "fillmode": "overlay",
             "size": 10,
             "solidity": 0.2
            },
            "type": "scatter"
           }
          ],
          "scatter3d": [
           {
            "line": {
             "colorbar": {
              "outlinewidth": 0,
              "ticks": ""
             }
            },
            "marker": {
             "colorbar": {
              "outlinewidth": 0,
              "ticks": ""
             }
            },
            "type": "scatter3d"
           }
          ],
          "scattercarpet": [
           {
            "marker": {
             "colorbar": {
              "outlinewidth": 0,
              "ticks": ""
             }
            },
            "type": "scattercarpet"
           }
          ],
          "scattergeo": [
           {
            "marker": {
             "colorbar": {
              "outlinewidth": 0,
              "ticks": ""
             }
            },
            "type": "scattergeo"
           }
          ],
          "scattergl": [
           {
            "marker": {
             "colorbar": {
              "outlinewidth": 0,
              "ticks": ""
             }
            },
            "type": "scattergl"
           }
          ],
          "scattermapbox": [
           {
            "marker": {
             "colorbar": {
              "outlinewidth": 0,
              "ticks": ""
             }
            },
            "type": "scattermapbox"
           }
          ],
          "scatterpolar": [
           {
            "marker": {
             "colorbar": {
              "outlinewidth": 0,
              "ticks": ""
             }
            },
            "type": "scatterpolar"
           }
          ],
          "scatterpolargl": [
           {
            "marker": {
             "colorbar": {
              "outlinewidth": 0,
              "ticks": ""
             }
            },
            "type": "scatterpolargl"
           }
          ],
          "scatterternary": [
           {
            "marker": {
             "colorbar": {
              "outlinewidth": 0,
              "ticks": ""
             }
            },
            "type": "scatterternary"
           }
          ],
          "surface": [
           {
            "colorbar": {
             "outlinewidth": 0,
             "ticks": ""
            },
            "colorscale": [
             [
              0,
              "#0d0887"
             ],
             [
              0.1111111111111111,
              "#46039f"
             ],
             [
              0.2222222222222222,
              "#7201a8"
             ],
             [
              0.3333333333333333,
              "#9c179e"
             ],
             [
              0.4444444444444444,
              "#bd3786"
             ],
             [
              0.5555555555555556,
              "#d8576b"
             ],
             [
              0.6666666666666666,
              "#ed7953"
             ],
             [
              0.7777777777777778,
              "#fb9f3a"
             ],
             [
              0.8888888888888888,
              "#fdca26"
             ],
             [
              1,
              "#f0f921"
             ]
            ],
            "type": "surface"
           }
          ],
          "table": [
           {
            "cells": {
             "fill": {
              "color": "#EBF0F8"
             },
             "line": {
              "color": "white"
             }
            },
            "header": {
             "fill": {
              "color": "#C8D4E3"
             },
             "line": {
              "color": "white"
             }
            },
            "type": "table"
           }
          ]
         },
         "layout": {
          "annotationdefaults": {
           "arrowcolor": "#2a3f5f",
           "arrowhead": 0,
           "arrowwidth": 1
          },
          "autotypenumbers": "strict",
          "coloraxis": {
           "colorbar": {
            "outlinewidth": 0,
            "ticks": ""
           }
          },
          "colorscale": {
           "diverging": [
            [
             0,
             "#8e0152"
            ],
            [
             0.1,
             "#c51b7d"
            ],
            [
             0.2,
             "#de77ae"
            ],
            [
             0.3,
             "#f1b6da"
            ],
            [
             0.4,
             "#fde0ef"
            ],
            [
             0.5,
             "#f7f7f7"
            ],
            [
             0.6,
             "#e6f5d0"
            ],
            [
             0.7,
             "#b8e186"
            ],
            [
             0.8,
             "#7fbc41"
            ],
            [
             0.9,
             "#4d9221"
            ],
            [
             1,
             "#276419"
            ]
           ],
           "sequential": [
            [
             0,
             "#0d0887"
            ],
            [
             0.1111111111111111,
             "#46039f"
            ],
            [
             0.2222222222222222,
             "#7201a8"
            ],
            [
             0.3333333333333333,
             "#9c179e"
            ],
            [
             0.4444444444444444,
             "#bd3786"
            ],
            [
             0.5555555555555556,
             "#d8576b"
            ],
            [
             0.6666666666666666,
             "#ed7953"
            ],
            [
             0.7777777777777778,
             "#fb9f3a"
            ],
            [
             0.8888888888888888,
             "#fdca26"
            ],
            [
             1,
             "#f0f921"
            ]
           ],
           "sequentialminus": [
            [
             0,
             "#0d0887"
            ],
            [
             0.1111111111111111,
             "#46039f"
            ],
            [
             0.2222222222222222,
             "#7201a8"
            ],
            [
             0.3333333333333333,
             "#9c179e"
            ],
            [
             0.4444444444444444,
             "#bd3786"
            ],
            [
             0.5555555555555556,
             "#d8576b"
            ],
            [
             0.6666666666666666,
             "#ed7953"
            ],
            [
             0.7777777777777778,
             "#fb9f3a"
            ],
            [
             0.8888888888888888,
             "#fdca26"
            ],
            [
             1,
             "#f0f921"
            ]
           ]
          },
          "colorway": [
           "#636efa",
           "#EF553B",
           "#00cc96",
           "#ab63fa",
           "#FFA15A",
           "#19d3f3",
           "#FF6692",
           "#B6E880",
           "#FF97FF",
           "#FECB52"
          ],
          "font": {
           "color": "#2a3f5f"
          },
          "geo": {
           "bgcolor": "white",
           "lakecolor": "white",
           "landcolor": "#E5ECF6",
           "showlakes": true,
           "showland": true,
           "subunitcolor": "white"
          },
          "hoverlabel": {
           "align": "left"
          },
          "hovermode": "closest",
          "mapbox": {
           "style": "light"
          },
          "paper_bgcolor": "white",
          "plot_bgcolor": "#E5ECF6",
          "polar": {
           "angularaxis": {
            "gridcolor": "white",
            "linecolor": "white",
            "ticks": ""
           },
           "bgcolor": "#E5ECF6",
           "radialaxis": {
            "gridcolor": "white",
            "linecolor": "white",
            "ticks": ""
           }
          },
          "scene": {
           "xaxis": {
            "backgroundcolor": "#E5ECF6",
            "gridcolor": "white",
            "gridwidth": 2,
            "linecolor": "white",
            "showbackground": true,
            "ticks": "",
            "zerolinecolor": "white"
           },
           "yaxis": {
            "backgroundcolor": "#E5ECF6",
            "gridcolor": "white",
            "gridwidth": 2,
            "linecolor": "white",
            "showbackground": true,
            "ticks": "",
            "zerolinecolor": "white"
           },
           "zaxis": {
            "backgroundcolor": "#E5ECF6",
            "gridcolor": "white",
            "gridwidth": 2,
            "linecolor": "white",
            "showbackground": true,
            "ticks": "",
            "zerolinecolor": "white"
           }
          },
          "shapedefaults": {
           "line": {
            "color": "#2a3f5f"
           }
          },
          "ternary": {
           "aaxis": {
            "gridcolor": "white",
            "linecolor": "white",
            "ticks": ""
           },
           "baxis": {
            "gridcolor": "white",
            "linecolor": "white",
            "ticks": ""
           },
           "bgcolor": "#E5ECF6",
           "caxis": {
            "gridcolor": "white",
            "linecolor": "white",
            "ticks": ""
           }
          },
          "title": {
           "x": 0.05
          },
          "xaxis": {
           "automargin": true,
           "gridcolor": "white",
           "linecolor": "white",
           "ticks": "",
           "title": {
            "standoff": 15
           },
           "zerolinecolor": "white",
           "zerolinewidth": 2
          },
          "yaxis": {
           "automargin": true,
           "gridcolor": "white",
           "linecolor": "white",
           "ticks": "",
           "title": {
            "standoff": 15
           },
           "zerolinecolor": "white",
           "zerolinewidth": 2
          }
         }
        },
        "title": {
         "text": "repartition des prix"
        },
        "xaxis": {
         "anchor": "y",
         "domain": [
          0,
          1
         ],
         "dtick": 10,
         "tick0": 0,
         "title": {
          "text": ""
         }
        },
        "yaxis": {
         "anchor": "x",
         "domain": [
          0,
          1
         ]
        }
       }
      }
     },
     "metadata": {},
     "output_type": "display_data"
    }
   ],
   "source": [
    "#Autre méthode avec plotly express\n",
    "\n",
    "fig = px.box(df_merged, x='price', title='repartition des prix',points=\"all\")\n",
    "fig.update_xaxes(tick0=0, dtick=10, title='')#tick0= position de départ dtick=écart entre les ticks.\n",
    "\n",
    "fig.show()\n"
   ]
  },
  {
   "cell_type": "markdown",
   "id": "79e2f2eb",
   "metadata": {},
   "source": [
    "<div style=\"border: 1px solid RGB(51,165,182);\" >\n",
    "<h3 style=\"margin: auto; padding: 20px; color: RGB(51,165,182); \">Etape 4.2 - Exploration par l'utisation de méthodes statistique</h3>\n",
    "</div>"
   ]
  },
  {
   "cell_type": "markdown",
   "id": "0735c3b2",
   "metadata": {},
   "source": [
    "<div style=\"border: 1px solid RGB(51,165,182);\" >\n",
    "<h3 style=\"margin: auto; padding: 20px; color: RGB(51,165,182); \">Etape 4.2.1 - Identification par le Z-index</h3>\n",
    "</div>"
   ]
  },
  {
   "cell_type": "code",
   "execution_count": 130,
   "id": "1950ef8d",
   "metadata": {},
   "outputs": [
    {
     "name": "stdout",
     "output_type": "stream",
     "text": [
      "\n",
      "le prix moyen est :  32.19\n",
      "l'écart-type' est :  26.71\n",
      "z-score pour le prix de 24,2 (par exemple):  -0.2990294254103675\n",
      "\n",
      "Zscore : [-0.50691464 -0.07931125 -0.65086033 -0.93451802  0.41603128 -0.07931125\n",
      " -0.14705041 -0.21055586  1.00874884  0.27208559  1.85548822 -0.75670276\n",
      " -0.5661864  -0.71436579 -0.60852337 -1.20547463 -0.10471344  0.34405843\n",
      "  1.49985768  2.11374373  1.55912944  0.45836825 -0.93451802  1.58029792\n",
      " -2.37820866 -0.62122446 -1.07423002 -0.24019174  0.54304219  0.16200947] et caetera...\n",
      "\n",
      "le z-score global est de  1.204986689736261\n"
     ]
    }
   ],
   "source": [
    "#Calculer la moyenne du prix (moyenne est : somme valeurs divisé par nombre valeurs)\n",
    "print('\\nle prix moyen est : ',round(df_merged['price'].mean(),2))\n",
    "#Calculer l'écart-type du prix (ecart type est la racine carré de la variance, la variance est la somme des valeurs individuellement soustrait à la moyenne\n",
    "# mis individuelement au carré puis le tout divisé par le nombre de valeurs.)\n",
    "print(\"l'écart-type' est : \",round(df_merged['price'].std(),2))\n",
    "\n",
    "#somme des valeurs ici :df_merged['price'].count()\n",
    "\n",
    "#Calculer le Z-score Le Z-score, également connu sous le nom de score standard, est une mesure statistique qui décrit la position d’une valeur donnée par rapport à la \n",
    "# moyenne d’un groupe de valeurs. Plus précisément, un Z-score indique combien d’écarts-types une valeur donnée est au-dessus ou en dessous de la moyenne.\n",
    "\n",
    "\n",
    "#Z=σ(X−μ)​\n",
    "#X  la valeur spécifique pour laquelle nous calculons le score Z.\n",
    "#μ  la moyenne\n",
    "#σ  l'écart-type\n",
    "\n",
    "liste_prix=df_merged['price'].tolist()\n",
    "\n",
    "import statistics\n",
    "moyenne = df_merged['price'].mean()\n",
    "ecart_type = df_merged['price'].std()\n",
    "z_scoreglobal = moyenne/ecart_type\n",
    "zscore = statistics.NormalDist(moyenne,ecart_type).zscore(24.2) #valeur prix - moyenne / ecart type \n",
    "print(\"z-score pour le prix de 24,2 (par exemple): \",zscore)\n",
    "print(\"\\nZscore :\", stats.zscore(liste_prix[:30]),\"et caetera...\")\n",
    "print(\"\\nle z-score global est de \",z_scoreglobal)\n"
   ]
  },
  {
   "cell_type": "code",
   "execution_count": 131,
   "id": "f73c7cec",
   "metadata": {},
   "outputs": [
    {
     "name": "stdout",
     "output_type": "stream",
     "text": [
      "Le seuil z-score > 3 est de 3.0646037765418437.\n",
      "l'indice minimum est :  709\n",
      "Le prix seuil est de :  114.0\n"
     ]
    }
   ],
   "source": [
    "#Quel est le seuil prix dont z-score est supérieur à 3?\n",
    "\n",
    "\n",
    "zscore_listeprix =stats.zscore(liste_prix) #liste z-score de la liste des prix.\n",
    "\n",
    "indicelist=[]\n",
    "listscore=[]                               #creation d'une liste vide\n",
    "for i,z in enumerate(zscore_listeprix):    #utilisation de la boucle for i=indice, z=valeur z-score. on énumère la liste.\n",
    "    if z > 3:                              #si z(z-score) est supérieur à 3 alors.\n",
    "        listscore.append(z)\n",
    "        indicelist.append(i) #on insère dans la liste la valeur i(indice). donc list score rassemble tous les indices supérieur à 3.\n",
    "\n",
    "zscore_min = np.min(listscore)\n",
    "print(\"Le seuil z-score > 3 est de {}.\".format(zscore_min))\n",
    "\n",
    "indice_min=np.where(zscore_listeprix==zscore_min)[0][0]#premier 0 accede au premier element du tuple et le second est premier element du tableau\n",
    "print(\"l'indice minimum est : \",indice_min)\n",
    "\n",
    "prixseuil = liste_prix[indice_min]\n",
    "print('Le prix seuil est de : ',prixseuil)"
   ]
  },
  {
   "cell_type": "markdown",
   "id": "750f54f3",
   "metadata": {},
   "source": [
    "<div style=\"border: 1px solid RGB(51,165,182);\" >\n",
    "<h3 style=\"margin: auto; padding: 20px; color: RGB(51,165,182); \">Etape 4.2.2 - Identification par l'interval interquartile</h3>\n",
    "</div>"
   ]
  },
  {
   "cell_type": "code",
   "execution_count": 132,
   "id": "6c0db8c0",
   "metadata": {},
   "outputs": [
    {
     "name": "stdout",
     "output_type": "stream",
     "text": [
      "L'intervalle interquartille est de :  27.5\n"
     ]
    },
    {
     "data": {
      "text/plain": [
       "count    825.000000\n",
       "mean      32.187697\n",
       "std       26.712077\n",
       "min      -20.000000\n",
       "25%       14.500000\n",
       "50%       24.300000\n",
       "75%       42.000000\n",
       "max      225.000000\n",
       "Name: price, dtype: float64"
      ]
     },
     "execution_count": 132,
     "metadata": {},
     "output_type": "execute_result"
    }
   ],
   "source": [
    "#Utilisation de la fonction describe de Pandas pour l'etude des mesures de dispersions\n",
    "\n",
    "\n",
    "#L’ intervalle interquartile , souvent appelé « IQR », est un moyen de mesurer la répartition des 50 % intermédiaires d’un ensemble de données. Il est calculé \n",
    "# comme la différence entre le premier quartile* (le 25e centile) et le troisième quartile (le 75e centile) d’un ensemble de données.\n",
    "\n",
    "#calculate interquartile range of values in the 'points' column\n",
    "#q75, q25 = np.percentile(df['points'], [75 ,25])\n",
    "#iqr = q75 - q25\n",
    "\n",
    "q75,q25 = np.percentile(df_merged['price'],[75,25])\n",
    "iqr= q75 - q25\n",
    "print(\"L'intervalle interquartille est de : \",iqr)\n",
    "\n",
    "df_merged['price'].describe() # std = ecart type"
   ]
  },
  {
   "cell_type": "code",
   "execution_count": 133,
   "id": "c4de6c04",
   "metadata": {},
   "outputs": [
    {
     "data": {
      "application/vnd.plotly.v1+json": {
       "config": {
        "plotlyServerURL": "https://plot.ly"
       },
       "data": [
        {
         "alignmentgroup": "True",
         "boxpoints": "outliers",
         "hovertemplate": "price=%{x}<extra></extra>",
         "legendgroup": "",
         "marker": {
          "color": "#636efa"
         },
         "name": "",
         "notched": false,
         "offsetgroup": "",
         "orientation": "h",
         "showlegend": false,
         "type": "box",
         "x": [
          24.2,
          34.3,
          20.8,
          14.1,
          46,
          34.3,
          32.7,
          31.2,
          60,
          42.6,
          80,
          18.3,
          22.8,
          19.3,
          21.8,
          7.7,
          33.7,
          44.3,
          71.6,
          86.1,
          73,
          47,
          14.1,
          73.5,
          -20,
          21.5,
          10.8,
          30.5,
          49,
          40,
          144,
          36.9,
          23.6,
          12,
          18.5,
          34.5,
          20.5,
          23.8,
          20.2,
          13.5,
          13.8,
          12.7,
          14.6,
          23,
          10,
          -8,
          10,
          84.7,
          43.3,
          47,
          19.9,
          29.2,
          34.2,
          42.5,
          14.2,
          92,
          28.5,
          -9.1,
          28,
          28,
          24,
          18,
          40,
          40,
          40,
          40,
          30,
          26,
          30,
          20,
          31,
          27,
          31,
          21,
          31,
          27,
          31,
          21,
          40,
          40,
          47,
          45,
          45,
          45,
          30,
          26,
          30,
          20,
          45,
          45,
          45,
          45,
          45,
          31,
          21,
          27,
          31,
          31,
          45,
          45,
          45,
          31,
          27,
          31,
          21,
          31,
          31,
          31,
          45,
          45,
          12.7,
          8.7,
          8.7,
          8.7,
          11.9,
          11.9,
          14.5,
          14.4,
          19.5,
          20.8,
          22,
          16.6,
          60,
          23.4,
          33.2,
          32,
          77.8,
          12.7,
          14.7,
          14.05,
          22.9,
          44,
          37,
          39,
          17,
          23.2,
          19,
          16.4,
          14.4,
          13.7,
          12.6,
          22.8,
          12.8,
          22.1,
          12.8,
          15.8,
          15.8,
          16.3,
          16.3,
          9.7,
          6.8,
          12.6,
          35,
          31.7,
          100,
          23,
          88.4,
          29.8,
          25.7,
          77.4,
          39,
          53,
          49,
          29.5,
          33,
          37.5,
          69,
          59,
          13.7,
          19.2,
          29,
          9.8,
          14.5,
          20.35,
          12,
          18.5,
          9.3,
          9.3,
          11.6,
          14.3,
          10.8,
          7.6,
          12,
          20.5,
          14.3,
          18.2,
          9,
          7.8,
          5.7,
          5.7,
          5.7,
          13.5,
          13.5,
          11.5,
          24,
          24,
          11.9,
          16.7,
          21.4,
          16.6,
          13.3,
          9.5,
          12.1,
          9.3,
          17.8,
          13.5,
          10.8,
          27.2,
          9.4,
          5.8,
          5.8,
          38,
          38,
          9.9,
          11.3,
          23,
          6.7,
          7.6,
          79.8,
          48.5,
          39.8,
          58.8,
          26.5,
          13.4,
          17.1,
          16.7,
          11.6,
          12.8,
          8.9,
          9.7,
          17.2,
          16.9,
          12.6,
          29.9,
          9.6,
          11.1,
          11.1,
          17.1,
          28,
          28,
          8.9,
          8.6,
          13.5,
          8.9,
          15.3,
          14.8,
          19.5,
          14.1,
          59.6,
          26.9,
          24.4,
          31.7,
          32.1,
          12.2,
          9.9,
          15.8,
          15.8,
          17.8,
          9.6,
          19,
          15.2,
          10.2,
          15.5,
          16.6,
          9.2,
          12.9,
          14.9,
          17.6,
          24.8,
          18.9,
          11.6,
          27,
          41,
          69.8,
          38.6,
          26.7,
          22.8,
          19,
          23.2,
          39.1,
          44,
          17.5,
          30,
          8.1,
          10.7,
          10.9,
          49,
          35.5,
          83,
          59,
          79.5,
          225,
          79.5,
          12.65,
          51.6,
          39,
          77,
          85.6,
          49.5,
          49.5,
          49.5,
          57,
          59.8,
          27.5,
          62,
          59,
          59,
          59,
          44,
          62.5,
          176,
          108.5,
          68.1,
          157,
          104,
          28.1,
          21.7,
          28.5,
          21.5,
          67.2,
          109.6,
          32.3,
          43.9,
          61.6,
          41.8,
          26.5,
          16.1,
          31.5,
          31.5,
          49,
          32.2,
          50.1,
          13.4,
          11.8,
          13.1,
          26.2,
          20.6,
          16.9,
          19,
          24,
          57,
          67.5,
          30.6,
          59,
          11.9,
          16.5,
          52.4,
          52.9,
          58.3,
          39.6,
          52.4,
          62.4,
          76.8,
          50,
          52.4,
          41,
          62.4,
          50,
          21.5,
          28.5,
          24.3,
          16.5,
          25.3,
          49,
          36.2,
          33.4,
          40.2,
          43,
          43,
          48.8,
          20.8,
          16.4,
          14.4,
          21,
          12.3,
          20.2,
          17,
          21.9,
          17.8,
          19.8,
          19,
          10.7,
          12.9,
          9.5,
          29.8,
          13.2,
          6.3,
          7.1,
          9.1,
          9.1,
          18.1,
          14,
          30.1,
          12.8,
          12.8,
          19.8,
          18.2,
          31.6,
          16.8,
          22.8,
          32.6,
          44,
          55.4,
          15.8,
          18.4,
          13.3,
          11.1,
          18.6,
          23.4,
          18.2,
          12.5,
          15.9,
          13.7,
          29,
          23.4,
          12.7,
          26,
          29.5,
          8.6,
          14.3,
          22,
          16.8,
          15.3,
          7.4,
          9.7,
          12.4,
          14.5,
          11.9,
          16.4,
          27.9,
          12,
          7.4,
          26.5,
          24.3,
          16.9,
          6.8,
          13.9,
          7.8,
          13.7,
          9.8,
          29.5,
          28.5,
          10.1,
          12.1,
          12.3,
          11.1,
          11.1,
          13.6,
          21,
          18.7,
          41.6,
          12,
          78,
          14.9,
          6.5,
          8.7,
          8.5,
          9.9,
          8.2,
          8.3,
          9.8,
          9.9,
          17.2,
          9.3,
          22.8,
          18.7,
          28.4,
          27.9,
          25.3,
          17,
          27.9,
          20.1,
          27.9,
          21.2,
          20.8,
          41,
          46,
          102.3,
          137,
          22.9,
          53.2,
          25.9,
          17.3,
          25.9,
          28,
          25.9,
          25.9,
          37.2,
          24.4,
          24.4,
          13.8,
          21.5,
          7,
          12.8,
          23.2,
          7.9,
          6.5,
          7.9,
          16.7,
          17.5,
          27.8,
          25.7,
          18.4,
          22.2,
          11.1,
          9.9,
          12.5,
          12.9,
          20.5,
          25,
          11.3,
          7,
          12.1,
          7.1,
          49.5,
          23,
          23.7,
          16.45,
          16.3,
          18.5,
          26.5,
          78,
          78,
          78,
          27.3,
          217.5,
          64.9,
          48.7,
          59.4,
          48.7,
          105,
          105,
          55.6,
          9.3,
          15.4,
          19.8,
          17.1,
          45,
          112,
          86.8,
          62.1,
          22.5,
          7.5,
          52.6,
          45,
          67,
          59.9,
          59.9,
          65,
          15.2,
          19,
          11.1,
          18,
          22.8,
          19.5,
          28.8,
          16.1,
          24.2,
          35.3,
          10.7,
          12.7,
          17.1,
          24,
          39,
          13.2,
          23.6,
          15.5,
          16.3,
          16.2,
          7.2,
          54.8,
          42,
          19.8,
          10.2,
          10.4,
          11.5,
          17.9,
          21.6,
          33.4,
          49.5,
          43.5,
          43.5,
          26.5,
          13.8,
          10.1,
          18.2,
          12.9,
          38.6,
          48.4,
          60.4,
          38.6,
          12,
          61.6,
          65.9,
          15.2,
          24.6,
          48.8,
          34.3,
          36.3,
          57.7,
          38,
          27.9,
          58,
          58,
          30.8,
          92,
          27.5,
          22.5,
          34.7,
          59.6,
          83.7,
          30.5,
          38.6,
          18,
          63.4,
          124.8,
          19.2,
          19.2,
          56.4,
          38.4,
          27.8,
          71.3,
          71.3,
          25,
          10.3,
          28,
          44.6,
          13,
          12.7,
          6.5,
          17.5,
          29.9,
          44.5,
          29.4,
          16.9,
          19.8,
          10.3,
          10.8,
          31.7,
          25,
          57.6,
          13.7,
          7.1,
          14.9,
          11,
          14.6,
          10.7,
          73.3,
          42.1,
          57,
          24.5,
          10.1,
          42.2,
          13.1,
          19.5,
          12.9,
          35.6,
          175,
          35.6,
          33.6,
          34.4,
          38.4,
          29.7,
          32.8,
          5.7,
          5.8,
          5.8,
          21.7,
          23,
          12.5,
          17.2,
          40.2,
          32.3,
          24,
          23.8,
          17.1,
          25,
          17.4,
          27.3,
          17.9,
          24,
          16.6,
          16.9,
          57.6,
          63.5,
          56,
          63.5,
          41.2,
          55,
          57,
          19.3,
          19,
          191.3,
          26.6,
          15.4,
          24.7,
          28.1,
          18.25,
          35.1,
          27.3,
          18.8,
          43.9,
          19.8,
          17.7,
          57,
          36,
          36,
          93,
          122,
          114,
          48.5,
          49.5,
          14.1,
          59.9,
          46,
          74.5,
          47.5,
          18.8,
          27.3,
          17.2,
          39,
          8.7,
          15.4,
          12.7,
          30,
          13.5,
          16.3,
          56.3,
          71.5,
          69,
          17.9,
          48.5,
          71.7,
          8.5,
          10.9,
          21.8,
          38.5,
          9.3,
          13.6,
          24.5,
          12.6,
          13.4,
          29.8,
          12.9,
          36.9,
          40.7,
          33.2,
          34.8,
          74.8,
          62.4,
          46,
          39.2,
          135,
          10.6,
          10.6,
          5.2,
          46,
          105.6,
          116.4,
          31,
          20.2,
          25.2,
          25.2,
          115,
          121,
          99,
          115,
          121,
          23.5,
          26.4,
          26.7,
          20.4,
          20.4,
          40.2,
          9,
          45.9,
          10.4,
          78,
          40.5,
          27.9,
          22.4,
          28.4,
          72,
          29,
          29.2,
          44,
          68.3,
          41.8,
          40,
          13.5,
          19,
          24.4,
          32.8,
          15.4,
          9.9,
          13.5,
          51,
          35.2,
          42.2,
          33.2,
          41.8,
          32.2,
          37.7,
          47.2,
          52.7,
          22.4,
          50.4,
          35.6,
          27.7,
          48.5,
          15.4,
          46.5,
          46.5,
          46.5,
          42,
          21.8,
          50.5,
          49.9,
          19,
          8.4,
          27.5,
          69,
          54.8,
          26.5,
          16.3
         ],
         "x0": " ",
         "xaxis": "x",
         "y0": " ",
         "yaxis": "y"
        }
       ],
       "layout": {
        "boxmode": "group",
        "legend": {
         "tracegroupgap": 0
        },
        "template": {
         "data": {
          "bar": [
           {
            "error_x": {
             "color": "#2a3f5f"
            },
            "error_y": {
             "color": "#2a3f5f"
            },
            "marker": {
             "line": {
              "color": "#E5ECF6",
              "width": 0.5
             },
             "pattern": {
              "fillmode": "overlay",
              "size": 10,
              "solidity": 0.2
             }
            },
            "type": "bar"
           }
          ],
          "barpolar": [
           {
            "marker": {
             "line": {
              "color": "#E5ECF6",
              "width": 0.5
             },
             "pattern": {
              "fillmode": "overlay",
              "size": 10,
              "solidity": 0.2
             }
            },
            "type": "barpolar"
           }
          ],
          "carpet": [
           {
            "aaxis": {
             "endlinecolor": "#2a3f5f",
             "gridcolor": "white",
             "linecolor": "white",
             "minorgridcolor": "white",
             "startlinecolor": "#2a3f5f"
            },
            "baxis": {
             "endlinecolor": "#2a3f5f",
             "gridcolor": "white",
             "linecolor": "white",
             "minorgridcolor": "white",
             "startlinecolor": "#2a3f5f"
            },
            "type": "carpet"
           }
          ],
          "choropleth": [
           {
            "colorbar": {
             "outlinewidth": 0,
             "ticks": ""
            },
            "type": "choropleth"
           }
          ],
          "contour": [
           {
            "colorbar": {
             "outlinewidth": 0,
             "ticks": ""
            },
            "colorscale": [
             [
              0,
              "#0d0887"
             ],
             [
              0.1111111111111111,
              "#46039f"
             ],
             [
              0.2222222222222222,
              "#7201a8"
             ],
             [
              0.3333333333333333,
              "#9c179e"
             ],
             [
              0.4444444444444444,
              "#bd3786"
             ],
             [
              0.5555555555555556,
              "#d8576b"
             ],
             [
              0.6666666666666666,
              "#ed7953"
             ],
             [
              0.7777777777777778,
              "#fb9f3a"
             ],
             [
              0.8888888888888888,
              "#fdca26"
             ],
             [
              1,
              "#f0f921"
             ]
            ],
            "type": "contour"
           }
          ],
          "contourcarpet": [
           {
            "colorbar": {
             "outlinewidth": 0,
             "ticks": ""
            },
            "type": "contourcarpet"
           }
          ],
          "heatmap": [
           {
            "colorbar": {
             "outlinewidth": 0,
             "ticks": ""
            },
            "colorscale": [
             [
              0,
              "#0d0887"
             ],
             [
              0.1111111111111111,
              "#46039f"
             ],
             [
              0.2222222222222222,
              "#7201a8"
             ],
             [
              0.3333333333333333,
              "#9c179e"
             ],
             [
              0.4444444444444444,
              "#bd3786"
             ],
             [
              0.5555555555555556,
              "#d8576b"
             ],
             [
              0.6666666666666666,
              "#ed7953"
             ],
             [
              0.7777777777777778,
              "#fb9f3a"
             ],
             [
              0.8888888888888888,
              "#fdca26"
             ],
             [
              1,
              "#f0f921"
             ]
            ],
            "type": "heatmap"
           }
          ],
          "heatmapgl": [
           {
            "colorbar": {
             "outlinewidth": 0,
             "ticks": ""
            },
            "colorscale": [
             [
              0,
              "#0d0887"
             ],
             [
              0.1111111111111111,
              "#46039f"
             ],
             [
              0.2222222222222222,
              "#7201a8"
             ],
             [
              0.3333333333333333,
              "#9c179e"
             ],
             [
              0.4444444444444444,
              "#bd3786"
             ],
             [
              0.5555555555555556,
              "#d8576b"
             ],
             [
              0.6666666666666666,
              "#ed7953"
             ],
             [
              0.7777777777777778,
              "#fb9f3a"
             ],
             [
              0.8888888888888888,
              "#fdca26"
             ],
             [
              1,
              "#f0f921"
             ]
            ],
            "type": "heatmapgl"
           }
          ],
          "histogram": [
           {
            "marker": {
             "pattern": {
              "fillmode": "overlay",
              "size": 10,
              "solidity": 0.2
             }
            },
            "type": "histogram"
           }
          ],
          "histogram2d": [
           {
            "colorbar": {
             "outlinewidth": 0,
             "ticks": ""
            },
            "colorscale": [
             [
              0,
              "#0d0887"
             ],
             [
              0.1111111111111111,
              "#46039f"
             ],
             [
              0.2222222222222222,
              "#7201a8"
             ],
             [
              0.3333333333333333,
              "#9c179e"
             ],
             [
              0.4444444444444444,
              "#bd3786"
             ],
             [
              0.5555555555555556,
              "#d8576b"
             ],
             [
              0.6666666666666666,
              "#ed7953"
             ],
             [
              0.7777777777777778,
              "#fb9f3a"
             ],
             [
              0.8888888888888888,
              "#fdca26"
             ],
             [
              1,
              "#f0f921"
             ]
            ],
            "type": "histogram2d"
           }
          ],
          "histogram2dcontour": [
           {
            "colorbar": {
             "outlinewidth": 0,
             "ticks": ""
            },
            "colorscale": [
             [
              0,
              "#0d0887"
             ],
             [
              0.1111111111111111,
              "#46039f"
             ],
             [
              0.2222222222222222,
              "#7201a8"
             ],
             [
              0.3333333333333333,
              "#9c179e"
             ],
             [
              0.4444444444444444,
              "#bd3786"
             ],
             [
              0.5555555555555556,
              "#d8576b"
             ],
             [
              0.6666666666666666,
              "#ed7953"
             ],
             [
              0.7777777777777778,
              "#fb9f3a"
             ],
             [
              0.8888888888888888,
              "#fdca26"
             ],
             [
              1,
              "#f0f921"
             ]
            ],
            "type": "histogram2dcontour"
           }
          ],
          "mesh3d": [
           {
            "colorbar": {
             "outlinewidth": 0,
             "ticks": ""
            },
            "type": "mesh3d"
           }
          ],
          "parcoords": [
           {
            "line": {
             "colorbar": {
              "outlinewidth": 0,
              "ticks": ""
             }
            },
            "type": "parcoords"
           }
          ],
          "pie": [
           {
            "automargin": true,
            "type": "pie"
           }
          ],
          "scatter": [
           {
            "fillpattern": {
             "fillmode": "overlay",
             "size": 10,
             "solidity": 0.2
            },
            "type": "scatter"
           }
          ],
          "scatter3d": [
           {
            "line": {
             "colorbar": {
              "outlinewidth": 0,
              "ticks": ""
             }
            },
            "marker": {
             "colorbar": {
              "outlinewidth": 0,
              "ticks": ""
             }
            },
            "type": "scatter3d"
           }
          ],
          "scattercarpet": [
           {
            "marker": {
             "colorbar": {
              "outlinewidth": 0,
              "ticks": ""
             }
            },
            "type": "scattercarpet"
           }
          ],
          "scattergeo": [
           {
            "marker": {
             "colorbar": {
              "outlinewidth": 0,
              "ticks": ""
             }
            },
            "type": "scattergeo"
           }
          ],
          "scattergl": [
           {
            "marker": {
             "colorbar": {
              "outlinewidth": 0,
              "ticks": ""
             }
            },
            "type": "scattergl"
           }
          ],
          "scattermapbox": [
           {
            "marker": {
             "colorbar": {
              "outlinewidth": 0,
              "ticks": ""
             }
            },
            "type": "scattermapbox"
           }
          ],
          "scatterpolar": [
           {
            "marker": {
             "colorbar": {
              "outlinewidth": 0,
              "ticks": ""
             }
            },
            "type": "scatterpolar"
           }
          ],
          "scatterpolargl": [
           {
            "marker": {
             "colorbar": {
              "outlinewidth": 0,
              "ticks": ""
             }
            },
            "type": "scatterpolargl"
           }
          ],
          "scatterternary": [
           {
            "marker": {
             "colorbar": {
              "outlinewidth": 0,
              "ticks": ""
             }
            },
            "type": "scatterternary"
           }
          ],
          "surface": [
           {
            "colorbar": {
             "outlinewidth": 0,
             "ticks": ""
            },
            "colorscale": [
             [
              0,
              "#0d0887"
             ],
             [
              0.1111111111111111,
              "#46039f"
             ],
             [
              0.2222222222222222,
              "#7201a8"
             ],
             [
              0.3333333333333333,
              "#9c179e"
             ],
             [
              0.4444444444444444,
              "#bd3786"
             ],
             [
              0.5555555555555556,
              "#d8576b"
             ],
             [
              0.6666666666666666,
              "#ed7953"
             ],
             [
              0.7777777777777778,
              "#fb9f3a"
             ],
             [
              0.8888888888888888,
              "#fdca26"
             ],
             [
              1,
              "#f0f921"
             ]
            ],
            "type": "surface"
           }
          ],
          "table": [
           {
            "cells": {
             "fill": {
              "color": "#EBF0F8"
             },
             "line": {
              "color": "white"
             }
            },
            "header": {
             "fill": {
              "color": "#C8D4E3"
             },
             "line": {
              "color": "white"
             }
            },
            "type": "table"
           }
          ]
         },
         "layout": {
          "annotationdefaults": {
           "arrowcolor": "#2a3f5f",
           "arrowhead": 0,
           "arrowwidth": 1
          },
          "autotypenumbers": "strict",
          "coloraxis": {
           "colorbar": {
            "outlinewidth": 0,
            "ticks": ""
           }
          },
          "colorscale": {
           "diverging": [
            [
             0,
             "#8e0152"
            ],
            [
             0.1,
             "#c51b7d"
            ],
            [
             0.2,
             "#de77ae"
            ],
            [
             0.3,
             "#f1b6da"
            ],
            [
             0.4,
             "#fde0ef"
            ],
            [
             0.5,
             "#f7f7f7"
            ],
            [
             0.6,
             "#e6f5d0"
            ],
            [
             0.7,
             "#b8e186"
            ],
            [
             0.8,
             "#7fbc41"
            ],
            [
             0.9,
             "#4d9221"
            ],
            [
             1,
             "#276419"
            ]
           ],
           "sequential": [
            [
             0,
             "#0d0887"
            ],
            [
             0.1111111111111111,
             "#46039f"
            ],
            [
             0.2222222222222222,
             "#7201a8"
            ],
            [
             0.3333333333333333,
             "#9c179e"
            ],
            [
             0.4444444444444444,
             "#bd3786"
            ],
            [
             0.5555555555555556,
             "#d8576b"
            ],
            [
             0.6666666666666666,
             "#ed7953"
            ],
            [
             0.7777777777777778,
             "#fb9f3a"
            ],
            [
             0.8888888888888888,
             "#fdca26"
            ],
            [
             1,
             "#f0f921"
            ]
           ],
           "sequentialminus": [
            [
             0,
             "#0d0887"
            ],
            [
             0.1111111111111111,
             "#46039f"
            ],
            [
             0.2222222222222222,
             "#7201a8"
            ],
            [
             0.3333333333333333,
             "#9c179e"
            ],
            [
             0.4444444444444444,
             "#bd3786"
            ],
            [
             0.5555555555555556,
             "#d8576b"
            ],
            [
             0.6666666666666666,
             "#ed7953"
            ],
            [
             0.7777777777777778,
             "#fb9f3a"
            ],
            [
             0.8888888888888888,
             "#fdca26"
            ],
            [
             1,
             "#f0f921"
            ]
           ]
          },
          "colorway": [
           "#636efa",
           "#EF553B",
           "#00cc96",
           "#ab63fa",
           "#FFA15A",
           "#19d3f3",
           "#FF6692",
           "#B6E880",
           "#FF97FF",
           "#FECB52"
          ],
          "font": {
           "color": "#2a3f5f"
          },
          "geo": {
           "bgcolor": "white",
           "lakecolor": "white",
           "landcolor": "#E5ECF6",
           "showlakes": true,
           "showland": true,
           "subunitcolor": "white"
          },
          "hoverlabel": {
           "align": "left"
          },
          "hovermode": "closest",
          "mapbox": {
           "style": "light"
          },
          "paper_bgcolor": "white",
          "plot_bgcolor": "#E5ECF6",
          "polar": {
           "angularaxis": {
            "gridcolor": "white",
            "linecolor": "white",
            "ticks": ""
           },
           "bgcolor": "#E5ECF6",
           "radialaxis": {
            "gridcolor": "white",
            "linecolor": "white",
            "ticks": ""
           }
          },
          "scene": {
           "xaxis": {
            "backgroundcolor": "#E5ECF6",
            "gridcolor": "white",
            "gridwidth": 2,
            "linecolor": "white",
            "showbackground": true,
            "ticks": "",
            "zerolinecolor": "white"
           },
           "yaxis": {
            "backgroundcolor": "#E5ECF6",
            "gridcolor": "white",
            "gridwidth": 2,
            "linecolor": "white",
            "showbackground": true,
            "ticks": "",
            "zerolinecolor": "white"
           },
           "zaxis": {
            "backgroundcolor": "#E5ECF6",
            "gridcolor": "white",
            "gridwidth": 2,
            "linecolor": "white",
            "showbackground": true,
            "ticks": "",
            "zerolinecolor": "white"
           }
          },
          "shapedefaults": {
           "line": {
            "color": "#2a3f5f"
           }
          },
          "ternary": {
           "aaxis": {
            "gridcolor": "white",
            "linecolor": "white",
            "ticks": ""
           },
           "baxis": {
            "gridcolor": "white",
            "linecolor": "white",
            "ticks": ""
           },
           "bgcolor": "#E5ECF6",
           "caxis": {
            "gridcolor": "white",
            "linecolor": "white",
            "ticks": ""
           }
          },
          "title": {
           "x": 0.05
          },
          "xaxis": {
           "automargin": true,
           "gridcolor": "white",
           "linecolor": "white",
           "ticks": "",
           "title": {
            "standoff": 15
           },
           "zerolinecolor": "white",
           "zerolinewidth": 2
          },
          "yaxis": {
           "automargin": true,
           "gridcolor": "white",
           "linecolor": "white",
           "ticks": "",
           "title": {
            "standoff": 15
           },
           "zerolinecolor": "white",
           "zerolinewidth": 2
          }
         }
        },
        "title": {
         "text": "repartition des prix"
        },
        "xaxis": {
         "anchor": "y",
         "domain": [
          0,
          1
         ],
         "dtick": 10,
         "tick0": 0,
         "title": {
          "text": ""
         }
        },
        "yaxis": {
         "anchor": "x",
         "domain": [
          0,
          1
         ]
        }
       }
      }
     },
     "metadata": {},
     "output_type": "display_data"
    }
   ],
   "source": [
    "\n",
    "fig = px.box(df_merged, x='price', title='repartition des prix',points=\"outliers\")\n",
    "fig.update_xaxes(tick0=0, dtick=10, title='')#tick0= position de départ dtick=écart entre les ticks.\n",
    "\n",
    "fig.show()\n",
    "\n"
   ]
  },
  {
   "cell_type": "code",
   "execution_count": 134,
   "id": "a458ca14",
   "metadata": {},
   "outputs": [
    {
     "name": "stdout",
     "output_type": "stream",
     "text": [
      "La limite supérieur des outliers est : 83.25\n",
      "la valeur seuil pour les outliers est de :  83.7\n"
     ]
    }
   ],
   "source": [
    "#Définissez un seuil pour les articles \"outliers\" en prix\n",
    "\n",
    "outlierlimit = q75 + 1.5 * iqr #convention standard pour détecter les valeurs abbérantes (ici les valeurs supérieur)\n",
    "\n",
    "print(\"La limite supérieur des outliers est :\",outlierlimit)\n",
    "outliers = [i for i in liste_prix if i > outlierlimit]\n",
    "seuil_outlier=min(outliers)\n",
    "print('la valeur seuil pour les outliers est de : ',seuil_outlier)"
   ]
  },
  {
   "cell_type": "code",
   "execution_count": 135,
   "id": "7d05cde7",
   "metadata": {},
   "outputs": [
    {
     "name": "stdout",
     "output_type": "stream",
     "text": [
      "le nombre de prix considérés comme outliers : 36 . Pour un nombre total de 825 articles.\n",
      "proportion d'ouliers :  4.36 %\n"
     ]
    }
   ],
   "source": [
    "#Définissez le nombre d'articles et la proportion de l'ensemble du catalogue \"outliers\"\n",
    "print('le nombre de prix considérés comme outliers :',len(outliers),\". Pour un nombre total de {} articles.\".format(len(liste_prix)))\n",
    "proportion_outliers=round((len(outliers)/len(liste_prix))*100,2)\n",
    "print(\"proportion d'ouliers : \",proportion_outliers,\"%\")"
   ]
  },
  {
   "cell_type": "code",
   "execution_count": 136,
   "id": "06138432",
   "metadata": {},
   "outputs": [
    {
     "name": "stdout",
     "output_type": "stream",
     "text": [
      "ces outliers sont tout à fait justifiés. Ils représentent simplement les produits plus chers. le prix maximum est :  225.0 €\n",
      "le prix minimum :  83.7 € . et ne représentent que  4.36 % des produits. Rien de vraiment abbérant considérant le type de produits vendus.\n",
      "On aurait pu s'attendre à des prix beaucoup plus élevés. \n",
      "Il y a eu dans le dataset des éléments négatifs qui on été supprimé ou rectifiés précédement.\n"
     ]
    }
   ],
   "source": [
    "#Selon vous, ces outliers sont-ils justifiés ? Comment le démontrer si cela est possible ?\n",
    "print(\"ces outliers sont tout à fait justifiés. Ils représentent simplement les produits plus chers.\",\n",
    "      \"le prix maximum est : \",max(outliers),\"€\\nle prix minimum : \",min(outliers),\"€ . et ne représentent que \",proportion_outliers,\"% des produits.\",\n",
    "      \"Rien de vraiment abbérant considérant le type de produits vendus.\\nOn aurait pu s'attendre à des prix beaucoup plus élevés.\",\n",
    "      \"\\nIl y a eu dans le dataset des éléments négatifs qui on été supprimé ou rectifiés précédement.\")"
   ]
  },
  {
   "cell_type": "markdown",
   "id": "640da2c8",
   "metadata": {},
   "source": [
    "<div style=\"background-color: RGB(51,165,182);\" >\n",
    "<h2 style=\"margin: auto; padding: 20px; color:#fff; \">Etape 5 - Analyse univarié du CA, des quantités vendues, des stocks et de la marge ainsi qu'une analyse multivarié  </h2>\n",
    "</div>"
   ]
  },
  {
   "cell_type": "markdown",
   "id": "5871c808",
   "metadata": {},
   "source": [
    "<div style=\"border: 1px solid RGB(51,165,182);\" >\n",
    "<h3 style=\"margin: auto; padding: 20px; color: RGB(51,165,182); \">Etape 5.1 - Analyse des ventes en CA</h3>\n",
    "</div>"
   ]
  },
  {
   "cell_type": "code",
   "execution_count": 137,
   "id": "da0d5834",
   "metadata": {},
   "outputs": [
    {
     "name": "stdout",
     "output_type": "stream",
     "text": [
      "   price  total_sales     CA\n",
      "0   24.2          6.0  145.2\n",
      "1   34.3          9.0  308.7\n",
      "2   20.8          0.0    0.0\n",
      "3   14.1         12.0  169.2\n",
      "4   46.0          3.0  138.0\n",
      "\n",
      "\n",
      "Somme de la colonne CA :  143505.1 €.\n"
     ]
    }
   ],
   "source": [
    "##############################\n",
    "# Calculer le CA su site web #\n",
    "##############################\n",
    "\n",
    "#Créez une colonne calculant le CA par article\n",
    "df_merged['CA']= df_merged[\"price\"]*df_merged['total_sales']\n",
    "print(df_merged[['price','total_sales','CA']].head())\n",
    "#Calculez la somme de la colonne \"ca_par_article\"\n",
    "print('\\n\\nSomme de la colonne CA : ',round(df_merged['CA'].sum(),1),\"€.\")\n",
    "#Ce résultat correspond au chiffre d'affaire du site web\n"
   ]
  },
  {
   "cell_type": "code",
   "execution_count": 138,
   "id": "4040ced7",
   "metadata": {},
   "outputs": [
    {
     "name": "stdout",
     "output_type": "stream",
     "text": [
      "Liste des 20 premiers chiffres d'affaire :\n",
      " [2475.0, 1147.8, 1113.0, 824.0, 805.0, 781.2, 735.0, 700.0, 675.0, 672.0, 633.6, 628.0, 627.0, 616.0, 599.2, 594.0, 582.0, 556.5, 537.6, 528.0]\n"
     ]
    },
    {
     "data": {
      "application/vnd.plotly.v1+json": {
       "config": {
        "plotlyServerURL": "https://plot.ly"
       },
       "data": [
        {
         "alignmentgroup": "True",
         "hovertemplate": "_index=%{x}<br>CA=%{y}<extra></extra>",
         "legendgroup": "",
         "marker": {
          "color": [
           2475,
           1147.8,
           1113,
           824,
           805,
           781.2,
           735,
           700,
           675,
           672,
           633.6,
           628,
           627,
           616,
           599.2,
           594,
           582,
           556.5,
           537.6,
           528
          ],
          "colorscale": [
           [
            0,
            "rgb(165,0,38)"
           ],
           [
            0.1,
            "rgb(215,48,39)"
           ],
           [
            0.2,
            "rgb(244,109,67)"
           ],
           [
            0.3,
            "rgb(253,174,97)"
           ],
           [
            0.4,
            "rgb(254,224,139)"
           ],
           [
            0.5,
            "rgb(255,255,191)"
           ],
           [
            0.6,
            "rgb(217,239,139)"
           ],
           [
            0.7,
            "rgb(166,217,106)"
           ],
           [
            0.8,
            "rgb(102,189,99)"
           ],
           [
            0.9,
            "rgb(26,152,80)"
           ],
           [
            1,
            "rgb(0,104,55)"
           ]
          ],
          "pattern": {
           "shape": ""
          }
         },
         "name": "",
         "offsetgroup": "",
         "orientation": "v",
         "showlegend": false,
         "text": [
          2475,
          1147.8,
          1113,
          824,
          805,
          781.2,
          735,
          700,
          675,
          672,
          633.6,
          628,
          627,
          616,
          599.2,
          594,
          582,
          556.5,
          537.6,
          528
         ],
         "textposition": "inside",
         "type": "bar",
         "x": [
          0,
          1,
          2,
          3,
          4,
          5,
          6,
          7,
          8,
          9,
          10,
          11,
          12,
          13,
          14,
          15,
          16,
          17,
          18,
          19
         ],
         "xaxis": "x",
         "y": [
          2475,
          1147.8,
          1113,
          824,
          805,
          781.2,
          735,
          700,
          675,
          672,
          633.6,
          628,
          627,
          616,
          599.2,
          594,
          582,
          556.5,
          537.6,
          528
         ],
         "yaxis": "y"
        }
       ],
       "layout": {
        "barmode": "relative",
        "legend": {
         "tracegroupgap": 0
        },
        "template": {
         "data": {
          "bar": [
           {
            "error_x": {
             "color": "#2a3f5f"
            },
            "error_y": {
             "color": "#2a3f5f"
            },
            "marker": {
             "line": {
              "color": "#E5ECF6",
              "width": 0.5
             },
             "pattern": {
              "fillmode": "overlay",
              "size": 10,
              "solidity": 0.2
             }
            },
            "type": "bar"
           }
          ],
          "barpolar": [
           {
            "marker": {
             "line": {
              "color": "#E5ECF6",
              "width": 0.5
             },
             "pattern": {
              "fillmode": "overlay",
              "size": 10,
              "solidity": 0.2
             }
            },
            "type": "barpolar"
           }
          ],
          "carpet": [
           {
            "aaxis": {
             "endlinecolor": "#2a3f5f",
             "gridcolor": "white",
             "linecolor": "white",
             "minorgridcolor": "white",
             "startlinecolor": "#2a3f5f"
            },
            "baxis": {
             "endlinecolor": "#2a3f5f",
             "gridcolor": "white",
             "linecolor": "white",
             "minorgridcolor": "white",
             "startlinecolor": "#2a3f5f"
            },
            "type": "carpet"
           }
          ],
          "choropleth": [
           {
            "colorbar": {
             "outlinewidth": 0,
             "ticks": ""
            },
            "type": "choropleth"
           }
          ],
          "contour": [
           {
            "colorbar": {
             "outlinewidth": 0,
             "ticks": ""
            },
            "colorscale": [
             [
              0,
              "#0d0887"
             ],
             [
              0.1111111111111111,
              "#46039f"
             ],
             [
              0.2222222222222222,
              "#7201a8"
             ],
             [
              0.3333333333333333,
              "#9c179e"
             ],
             [
              0.4444444444444444,
              "#bd3786"
             ],
             [
              0.5555555555555556,
              "#d8576b"
             ],
             [
              0.6666666666666666,
              "#ed7953"
             ],
             [
              0.7777777777777778,
              "#fb9f3a"
             ],
             [
              0.8888888888888888,
              "#fdca26"
             ],
             [
              1,
              "#f0f921"
             ]
            ],
            "type": "contour"
           }
          ],
          "contourcarpet": [
           {
            "colorbar": {
             "outlinewidth": 0,
             "ticks": ""
            },
            "type": "contourcarpet"
           }
          ],
          "heatmap": [
           {
            "colorbar": {
             "outlinewidth": 0,
             "ticks": ""
            },
            "colorscale": [
             [
              0,
              "#0d0887"
             ],
             [
              0.1111111111111111,
              "#46039f"
             ],
             [
              0.2222222222222222,
              "#7201a8"
             ],
             [
              0.3333333333333333,
              "#9c179e"
             ],
             [
              0.4444444444444444,
              "#bd3786"
             ],
             [
              0.5555555555555556,
              "#d8576b"
             ],
             [
              0.6666666666666666,
              "#ed7953"
             ],
             [
              0.7777777777777778,
              "#fb9f3a"
             ],
             [
              0.8888888888888888,
              "#fdca26"
             ],
             [
              1,
              "#f0f921"
             ]
            ],
            "type": "heatmap"
           }
          ],
          "heatmapgl": [
           {
            "colorbar": {
             "outlinewidth": 0,
             "ticks": ""
            },
            "colorscale": [
             [
              0,
              "#0d0887"
             ],
             [
              0.1111111111111111,
              "#46039f"
             ],
             [
              0.2222222222222222,
              "#7201a8"
             ],
             [
              0.3333333333333333,
              "#9c179e"
             ],
             [
              0.4444444444444444,
              "#bd3786"
             ],
             [
              0.5555555555555556,
              "#d8576b"
             ],
             [
              0.6666666666666666,
              "#ed7953"
             ],
             [
              0.7777777777777778,
              "#fb9f3a"
             ],
             [
              0.8888888888888888,
              "#fdca26"
             ],
             [
              1,
              "#f0f921"
             ]
            ],
            "type": "heatmapgl"
           }
          ],
          "histogram": [
           {
            "marker": {
             "pattern": {
              "fillmode": "overlay",
              "size": 10,
              "solidity": 0.2
             }
            },
            "type": "histogram"
           }
          ],
          "histogram2d": [
           {
            "colorbar": {
             "outlinewidth": 0,
             "ticks": ""
            },
            "colorscale": [
             [
              0,
              "#0d0887"
             ],
             [
              0.1111111111111111,
              "#46039f"
             ],
             [
              0.2222222222222222,
              "#7201a8"
             ],
             [
              0.3333333333333333,
              "#9c179e"
             ],
             [
              0.4444444444444444,
              "#bd3786"
             ],
             [
              0.5555555555555556,
              "#d8576b"
             ],
             [
              0.6666666666666666,
              "#ed7953"
             ],
             [
              0.7777777777777778,
              "#fb9f3a"
             ],
             [
              0.8888888888888888,
              "#fdca26"
             ],
             [
              1,
              "#f0f921"
             ]
            ],
            "type": "histogram2d"
           }
          ],
          "histogram2dcontour": [
           {
            "colorbar": {
             "outlinewidth": 0,
             "ticks": ""
            },
            "colorscale": [
             [
              0,
              "#0d0887"
             ],
             [
              0.1111111111111111,
              "#46039f"
             ],
             [
              0.2222222222222222,
              "#7201a8"
             ],
             [
              0.3333333333333333,
              "#9c179e"
             ],
             [
              0.4444444444444444,
              "#bd3786"
             ],
             [
              0.5555555555555556,
              "#d8576b"
             ],
             [
              0.6666666666666666,
              "#ed7953"
             ],
             [
              0.7777777777777778,
              "#fb9f3a"
             ],
             [
              0.8888888888888888,
              "#fdca26"
             ],
             [
              1,
              "#f0f921"
             ]
            ],
            "type": "histogram2dcontour"
           }
          ],
          "mesh3d": [
           {
            "colorbar": {
             "outlinewidth": 0,
             "ticks": ""
            },
            "type": "mesh3d"
           }
          ],
          "parcoords": [
           {
            "line": {
             "colorbar": {
              "outlinewidth": 0,
              "ticks": ""
             }
            },
            "type": "parcoords"
           }
          ],
          "pie": [
           {
            "automargin": true,
            "type": "pie"
           }
          ],
          "scatter": [
           {
            "fillpattern": {
             "fillmode": "overlay",
             "size": 10,
             "solidity": 0.2
            },
            "type": "scatter"
           }
          ],
          "scatter3d": [
           {
            "line": {
             "colorbar": {
              "outlinewidth": 0,
              "ticks": ""
             }
            },
            "marker": {
             "colorbar": {
              "outlinewidth": 0,
              "ticks": ""
             }
            },
            "type": "scatter3d"
           }
          ],
          "scattercarpet": [
           {
            "marker": {
             "colorbar": {
              "outlinewidth": 0,
              "ticks": ""
             }
            },
            "type": "scattercarpet"
           }
          ],
          "scattergeo": [
           {
            "marker": {
             "colorbar": {
              "outlinewidth": 0,
              "ticks": ""
             }
            },
            "type": "scattergeo"
           }
          ],
          "scattergl": [
           {
            "marker": {
             "colorbar": {
              "outlinewidth": 0,
              "ticks": ""
             }
            },
            "type": "scattergl"
           }
          ],
          "scattermapbox": [
           {
            "marker": {
             "colorbar": {
              "outlinewidth": 0,
              "ticks": ""
             }
            },
            "type": "scattermapbox"
           }
          ],
          "scatterpolar": [
           {
            "marker": {
             "colorbar": {
              "outlinewidth": 0,
              "ticks": ""
             }
            },
            "type": "scatterpolar"
           }
          ],
          "scatterpolargl": [
           {
            "marker": {
             "colorbar": {
              "outlinewidth": 0,
              "ticks": ""
             }
            },
            "type": "scatterpolargl"
           }
          ],
          "scatterternary": [
           {
            "marker": {
             "colorbar": {
              "outlinewidth": 0,
              "ticks": ""
             }
            },
            "type": "scatterternary"
           }
          ],
          "surface": [
           {
            "colorbar": {
             "outlinewidth": 0,
             "ticks": ""
            },
            "colorscale": [
             [
              0,
              "#0d0887"
             ],
             [
              0.1111111111111111,
              "#46039f"
             ],
             [
              0.2222222222222222,
              "#7201a8"
             ],
             [
              0.3333333333333333,
              "#9c179e"
             ],
             [
              0.4444444444444444,
              "#bd3786"
             ],
             [
              0.5555555555555556,
              "#d8576b"
             ],
             [
              0.6666666666666666,
              "#ed7953"
             ],
             [
              0.7777777777777778,
              "#fb9f3a"
             ],
             [
              0.8888888888888888,
              "#fdca26"
             ],
             [
              1,
              "#f0f921"
             ]
            ],
            "type": "surface"
           }
          ],
          "table": [
           {
            "cells": {
             "fill": {
              "color": "#EBF0F8"
             },
             "line": {
              "color": "white"
             }
            },
            "header": {
             "fill": {
              "color": "#C8D4E3"
             },
             "line": {
              "color": "white"
             }
            },
            "type": "table"
           }
          ]
         },
         "layout": {
          "annotationdefaults": {
           "arrowcolor": "#2a3f5f",
           "arrowhead": 0,
           "arrowwidth": 1
          },
          "autotypenumbers": "strict",
          "coloraxis": {
           "colorbar": {
            "outlinewidth": 0,
            "ticks": ""
           }
          },
          "colorscale": {
           "diverging": [
            [
             0,
             "#8e0152"
            ],
            [
             0.1,
             "#c51b7d"
            ],
            [
             0.2,
             "#de77ae"
            ],
            [
             0.3,
             "#f1b6da"
            ],
            [
             0.4,
             "#fde0ef"
            ],
            [
             0.5,
             "#f7f7f7"
            ],
            [
             0.6,
             "#e6f5d0"
            ],
            [
             0.7,
             "#b8e186"
            ],
            [
             0.8,
             "#7fbc41"
            ],
            [
             0.9,
             "#4d9221"
            ],
            [
             1,
             "#276419"
            ]
           ],
           "sequential": [
            [
             0,
             "#0d0887"
            ],
            [
             0.1111111111111111,
             "#46039f"
            ],
            [
             0.2222222222222222,
             "#7201a8"
            ],
            [
             0.3333333333333333,
             "#9c179e"
            ],
            [
             0.4444444444444444,
             "#bd3786"
            ],
            [
             0.5555555555555556,
             "#d8576b"
            ],
            [
             0.6666666666666666,
             "#ed7953"
            ],
            [
             0.7777777777777778,
             "#fb9f3a"
            ],
            [
             0.8888888888888888,
             "#fdca26"
            ],
            [
             1,
             "#f0f921"
            ]
           ],
           "sequentialminus": [
            [
             0,
             "#0d0887"
            ],
            [
             0.1111111111111111,
             "#46039f"
            ],
            [
             0.2222222222222222,
             "#7201a8"
            ],
            [
             0.3333333333333333,
             "#9c179e"
            ],
            [
             0.4444444444444444,
             "#bd3786"
            ],
            [
             0.5555555555555556,
             "#d8576b"
            ],
            [
             0.6666666666666666,
             "#ed7953"
            ],
            [
             0.7777777777777778,
             "#fb9f3a"
            ],
            [
             0.8888888888888888,
             "#fdca26"
            ],
            [
             1,
             "#f0f921"
            ]
           ]
          },
          "colorway": [
           "#636efa",
           "#EF553B",
           "#00cc96",
           "#ab63fa",
           "#FFA15A",
           "#19d3f3",
           "#FF6692",
           "#B6E880",
           "#FF97FF",
           "#FECB52"
          ],
          "font": {
           "color": "#2a3f5f"
          },
          "geo": {
           "bgcolor": "white",
           "lakecolor": "white",
           "landcolor": "#E5ECF6",
           "showlakes": true,
           "showland": true,
           "subunitcolor": "white"
          },
          "hoverlabel": {
           "align": "left"
          },
          "hovermode": "closest",
          "mapbox": {
           "style": "light"
          },
          "paper_bgcolor": "white",
          "plot_bgcolor": "#E5ECF6",
          "polar": {
           "angularaxis": {
            "gridcolor": "white",
            "linecolor": "white",
            "ticks": ""
           },
           "bgcolor": "#E5ECF6",
           "radialaxis": {
            "gridcolor": "white",
            "linecolor": "white",
            "ticks": ""
           }
          },
          "scene": {
           "xaxis": {
            "backgroundcolor": "#E5ECF6",
            "gridcolor": "white",
            "gridwidth": 2,
            "linecolor": "white",
            "showbackground": true,
            "ticks": "",
            "zerolinecolor": "white"
           },
           "yaxis": {
            "backgroundcolor": "#E5ECF6",
            "gridcolor": "white",
            "gridwidth": 2,
            "linecolor": "white",
            "showbackground": true,
            "ticks": "",
            "zerolinecolor": "white"
           },
           "zaxis": {
            "backgroundcolor": "#E5ECF6",
            "gridcolor": "white",
            "gridwidth": 2,
            "linecolor": "white",
            "showbackground": true,
            "ticks": "",
            "zerolinecolor": "white"
           }
          },
          "shapedefaults": {
           "line": {
            "color": "#2a3f5f"
           }
          },
          "ternary": {
           "aaxis": {
            "gridcolor": "white",
            "linecolor": "white",
            "ticks": ""
           },
           "baxis": {
            "gridcolor": "white",
            "linecolor": "white",
            "ticks": ""
           },
           "bgcolor": "#E5ECF6",
           "caxis": {
            "gridcolor": "white",
            "linecolor": "white",
            "ticks": ""
           }
          },
          "title": {
           "x": 0.05
          },
          "xaxis": {
           "automargin": true,
           "gridcolor": "white",
           "linecolor": "white",
           "ticks": "",
           "title": {
            "standoff": 15
           },
           "zerolinecolor": "white",
           "zerolinewidth": 2
          },
          "yaxis": {
           "automargin": true,
           "gridcolor": "white",
           "linecolor": "white",
           "ticks": "",
           "title": {
            "standoff": 15
           },
           "zerolinecolor": "white",
           "zerolinewidth": 2
          }
         }
        },
        "title": {
         "text": "top 20 des chiffres daffaire par produits"
        },
        "xaxis": {
         "anchor": "y",
         "domain": [
          0,
          1
         ],
         "title": {
          "text": "_index"
         }
        },
        "yaxis": {
         "anchor": "x",
         "domain": [
          0,
          1
         ],
         "title": {
          "text": "CA"
         }
        }
       }
      }
     },
     "metadata": {},
     "output_type": "display_data"
    }
   ],
   "source": [
    "###############################\n",
    "# Palmares des articles en CA #\n",
    "###############################\n",
    "\n",
    "#Effectuer le tri dans l'ordre décroissant du CA du dataset df_merge\n",
    "#Réinitialiser l'index du dataset par un reset_index\n",
    "df_merged=df_merged.sort_values(by='CA', ascending=False).reset_index()\n",
    "df_merged['CA']=df_merged['CA'].round(decimals = 2)\n",
    "#Afficher les 20 premier articles en CA\n",
    "top20_ca=df_merged['CA'].tolist()\n",
    "top20_ca=top20_ca[:20]\n",
    "print(\"Liste des 20 premiers chiffres d'affaire :\\n\",top20_ca)\n",
    "\n",
    "#Graphique en barre des 20 premiers articles avec plotly express\n",
    "top20=df_merged.head(20).reset_index(drop=True)\n",
    "df_merged.drop('index',axis=1,inplace=True)\n",
    "fig=px.bar(top20,y='CA',title=\"top 20 des chiffres daffaire par produits\")\n",
    "colors = px.colors.diverging.RdYlGn\n",
    "fig.update_traces(marker=dict(color=top20['CA'], colorscale=colors),text=top20['CA'], textposition='inside')\n",
    "fig.show()\n"
   ]
  },
  {
   "cell_type": "code",
   "execution_count": 139,
   "id": "d7e5e87b",
   "metadata": {},
   "outputs": [
    {
     "name": "stdout",
     "output_type": "stream",
     "text": [
      "   price  total_sales      CA  part_du_CA  somme_cumul_CA\n",
      "0  225.0         11.0  2475.0    0.017247        0.017247\n",
      "1  191.3          6.0  1147.8    0.007998        0.025245\n",
      "2   79.5         14.0  1113.0    0.007756        0.033001\n",
      "3   41.2         20.0   824.0    0.005742        0.038743\n",
      "4  115.0          7.0   805.0    0.005610        0.044352\n",
      "\n",
      "\n",
      "434 articles représentent 80% du chiffre d'affaire pour un total de 825 articles.\n",
      "Ce qui représent 52.61% des articles\n"
     ]
    }
   ],
   "source": [
    "#############################\n",
    "# Calculer le 20 / 80 en CA #\n",
    "#############################\n",
    "\n",
    "#Créer une colonne calculant la part du CA de la ligne dans le dataset\n",
    "somme_CA=df_merged['CA'].sum()\n",
    "df_merged['part_du_CA']= df_merged[\"CA\"]/somme_CA\n",
    "\n",
    "#Créer une colonne réalisant la somme cumulative de la colonne précedemment créée\n",
    "df_merged['somme_cumul_CA']=df_merged['part_du_CA'].cumsum()\n",
    "\n",
    "print(df_merged[['price','total_sales','CA','part_du_CA','somme_cumul_CA']].head())\n",
    "\n",
    "#Grâce au deux colonnes créées précedemment, calculer le nombre d'articles représentant 80% du CA\n",
    "seuil=0.80\n",
    "nb_articles=(df_merged['somme_cumul_CA']<=seuil).sum()+1#+1 pour compter l'article après le seuil.\n",
    "print(\"\\n\\n{} articles représentent 80% du chiffre d'affaire pour un total de {} articles.\".format(nb_articles,len(df_merged)))\n",
    "#Afficher la proportion que représentent ce groupe d'articles dans le catalogue entier du site web\n",
    "proportion_articles=round((nb_articles/len(df_merged))*100,2)\n",
    "print('Ce qui représent {}% des articles'.format(proportion_articles))"
   ]
  },
  {
   "cell_type": "markdown",
   "id": "8de7af87",
   "metadata": {},
   "source": [
    "<div style=\"border: 1px solid RGB(51,165,182);\" >\n",
    "<h3 style=\"margin: auto; padding: 20px; color: RGB(51,165,182); \">Etape 5.2 - Analyse des ventes en Quantités</h3>\n",
    "</div>"
   ]
  },
  {
   "cell_type": "code",
   "execution_count": 140,
   "id": "ab222e08",
   "metadata": {},
   "outputs": [
    {
     "name": "stdout",
     "output_type": "stream",
     "text": [
      "Liste des 20 plus grosses ventes :\n",
      " [36.0, 27.0, 24.0, 22.0, 22.0, 20.0, 20.0, 18.0, 17.0, 17.0, 17.0, 16.0, 16.0, 16.0, 16.0, 16.0, 16.0, 16.0, 15.0, 15.0]\n"
     ]
    },
    {
     "data": {
      "application/vnd.plotly.v1+json": {
       "config": {
        "plotlyServerURL": "https://plot.ly"
       },
       "data": [
        {
         "alignmentgroup": "True",
         "hovertemplate": "_index=%{x}<br>total_sales=%{y}<extra></extra>",
         "legendgroup": "",
         "marker": {
          "color": [
           36,
           27,
           24,
           22,
           22,
           20,
           20,
           18,
           17,
           17,
           17,
           16,
           16,
           16,
           16,
           16,
           16,
           16,
           15,
           15
          ],
          "colorscale": [
           [
            0,
            "rgb(165,0,38)"
           ],
           [
            0.1,
            "rgb(215,48,39)"
           ],
           [
            0.2,
            "rgb(244,109,67)"
           ],
           [
            0.3,
            "rgb(253,174,97)"
           ],
           [
            0.4,
            "rgb(254,224,139)"
           ],
           [
            0.5,
            "rgb(255,255,191)"
           ],
           [
            0.6,
            "rgb(217,239,139)"
           ],
           [
            0.7,
            "rgb(166,217,106)"
           ],
           [
            0.8,
            "rgb(102,189,99)"
           ],
           [
            0.9,
            "rgb(26,152,80)"
           ],
           [
            1,
            "rgb(0,104,55)"
           ]
          ],
          "pattern": {
           "shape": ""
          }
         },
         "name": "",
         "offsetgroup": "",
         "orientation": "v",
         "showlegend": false,
         "text": [
          36,
          27,
          24,
          22,
          22,
          20,
          20,
          18,
          17,
          17,
          17,
          16,
          16,
          16,
          16,
          16,
          16,
          16,
          15,
          15
         ],
         "textposition": "inside",
         "type": "bar",
         "x": [
          0,
          1,
          2,
          3,
          4,
          5,
          6,
          7,
          8,
          9,
          10,
          11,
          12,
          13,
          14,
          15,
          16,
          17,
          18,
          19
         ],
         "xaxis": "x",
         "y": [
          36,
          27,
          24,
          22,
          22,
          20,
          20,
          18,
          17,
          17,
          17,
          16,
          16,
          16,
          16,
          16,
          16,
          16,
          15,
          15
         ],
         "yaxis": "y"
        }
       ],
       "layout": {
        "barmode": "relative",
        "legend": {
         "tracegroupgap": 0
        },
        "template": {
         "data": {
          "bar": [
           {
            "error_x": {
             "color": "#2a3f5f"
            },
            "error_y": {
             "color": "#2a3f5f"
            },
            "marker": {
             "line": {
              "color": "#E5ECF6",
              "width": 0.5
             },
             "pattern": {
              "fillmode": "overlay",
              "size": 10,
              "solidity": 0.2
             }
            },
            "type": "bar"
           }
          ],
          "barpolar": [
           {
            "marker": {
             "line": {
              "color": "#E5ECF6",
              "width": 0.5
             },
             "pattern": {
              "fillmode": "overlay",
              "size": 10,
              "solidity": 0.2
             }
            },
            "type": "barpolar"
           }
          ],
          "carpet": [
           {
            "aaxis": {
             "endlinecolor": "#2a3f5f",
             "gridcolor": "white",
             "linecolor": "white",
             "minorgridcolor": "white",
             "startlinecolor": "#2a3f5f"
            },
            "baxis": {
             "endlinecolor": "#2a3f5f",
             "gridcolor": "white",
             "linecolor": "white",
             "minorgridcolor": "white",
             "startlinecolor": "#2a3f5f"
            },
            "type": "carpet"
           }
          ],
          "choropleth": [
           {
            "colorbar": {
             "outlinewidth": 0,
             "ticks": ""
            },
            "type": "choropleth"
           }
          ],
          "contour": [
           {
            "colorbar": {
             "outlinewidth": 0,
             "ticks": ""
            },
            "colorscale": [
             [
              0,
              "#0d0887"
             ],
             [
              0.1111111111111111,
              "#46039f"
             ],
             [
              0.2222222222222222,
              "#7201a8"
             ],
             [
              0.3333333333333333,
              "#9c179e"
             ],
             [
              0.4444444444444444,
              "#bd3786"
             ],
             [
              0.5555555555555556,
              "#d8576b"
             ],
             [
              0.6666666666666666,
              "#ed7953"
             ],
             [
              0.7777777777777778,
              "#fb9f3a"
             ],
             [
              0.8888888888888888,
              "#fdca26"
             ],
             [
              1,
              "#f0f921"
             ]
            ],
            "type": "contour"
           }
          ],
          "contourcarpet": [
           {
            "colorbar": {
             "outlinewidth": 0,
             "ticks": ""
            },
            "type": "contourcarpet"
           }
          ],
          "heatmap": [
           {
            "colorbar": {
             "outlinewidth": 0,
             "ticks": ""
            },
            "colorscale": [
             [
              0,
              "#0d0887"
             ],
             [
              0.1111111111111111,
              "#46039f"
             ],
             [
              0.2222222222222222,
              "#7201a8"
             ],
             [
              0.3333333333333333,
              "#9c179e"
             ],
             [
              0.4444444444444444,
              "#bd3786"
             ],
             [
              0.5555555555555556,
              "#d8576b"
             ],
             [
              0.6666666666666666,
              "#ed7953"
             ],
             [
              0.7777777777777778,
              "#fb9f3a"
             ],
             [
              0.8888888888888888,
              "#fdca26"
             ],
             [
              1,
              "#f0f921"
             ]
            ],
            "type": "heatmap"
           }
          ],
          "heatmapgl": [
           {
            "colorbar": {
             "outlinewidth": 0,
             "ticks": ""
            },
            "colorscale": [
             [
              0,
              "#0d0887"
             ],
             [
              0.1111111111111111,
              "#46039f"
             ],
             [
              0.2222222222222222,
              "#7201a8"
             ],
             [
              0.3333333333333333,
              "#9c179e"
             ],
             [
              0.4444444444444444,
              "#bd3786"
             ],
             [
              0.5555555555555556,
              "#d8576b"
             ],
             [
              0.6666666666666666,
              "#ed7953"
             ],
             [
              0.7777777777777778,
              "#fb9f3a"
             ],
             [
              0.8888888888888888,
              "#fdca26"
             ],
             [
              1,
              "#f0f921"
             ]
            ],
            "type": "heatmapgl"
           }
          ],
          "histogram": [
           {
            "marker": {
             "pattern": {
              "fillmode": "overlay",
              "size": 10,
              "solidity": 0.2
             }
            },
            "type": "histogram"
           }
          ],
          "histogram2d": [
           {
            "colorbar": {
             "outlinewidth": 0,
             "ticks": ""
            },
            "colorscale": [
             [
              0,
              "#0d0887"
             ],
             [
              0.1111111111111111,
              "#46039f"
             ],
             [
              0.2222222222222222,
              "#7201a8"
             ],
             [
              0.3333333333333333,
              "#9c179e"
             ],
             [
              0.4444444444444444,
              "#bd3786"
             ],
             [
              0.5555555555555556,
              "#d8576b"
             ],
             [
              0.6666666666666666,
              "#ed7953"
             ],
             [
              0.7777777777777778,
              "#fb9f3a"
             ],
             [
              0.8888888888888888,
              "#fdca26"
             ],
             [
              1,
              "#f0f921"
             ]
            ],
            "type": "histogram2d"
           }
          ],
          "histogram2dcontour": [
           {
            "colorbar": {
             "outlinewidth": 0,
             "ticks": ""
            },
            "colorscale": [
             [
              0,
              "#0d0887"
             ],
             [
              0.1111111111111111,
              "#46039f"
             ],
             [
              0.2222222222222222,
              "#7201a8"
             ],
             [
              0.3333333333333333,
              "#9c179e"
             ],
             [
              0.4444444444444444,
              "#bd3786"
             ],
             [
              0.5555555555555556,
              "#d8576b"
             ],
             [
              0.6666666666666666,
              "#ed7953"
             ],
             [
              0.7777777777777778,
              "#fb9f3a"
             ],
             [
              0.8888888888888888,
              "#fdca26"
             ],
             [
              1,
              "#f0f921"
             ]
            ],
            "type": "histogram2dcontour"
           }
          ],
          "mesh3d": [
           {
            "colorbar": {
             "outlinewidth": 0,
             "ticks": ""
            },
            "type": "mesh3d"
           }
          ],
          "parcoords": [
           {
            "line": {
             "colorbar": {
              "outlinewidth": 0,
              "ticks": ""
             }
            },
            "type": "parcoords"
           }
          ],
          "pie": [
           {
            "automargin": true,
            "type": "pie"
           }
          ],
          "scatter": [
           {
            "fillpattern": {
             "fillmode": "overlay",
             "size": 10,
             "solidity": 0.2
            },
            "type": "scatter"
           }
          ],
          "scatter3d": [
           {
            "line": {
             "colorbar": {
              "outlinewidth": 0,
              "ticks": ""
             }
            },
            "marker": {
             "colorbar": {
              "outlinewidth": 0,
              "ticks": ""
             }
            },
            "type": "scatter3d"
           }
          ],
          "scattercarpet": [
           {
            "marker": {
             "colorbar": {
              "outlinewidth": 0,
              "ticks": ""
             }
            },
            "type": "scattercarpet"
           }
          ],
          "scattergeo": [
           {
            "marker": {
             "colorbar": {
              "outlinewidth": 0,
              "ticks": ""
             }
            },
            "type": "scattergeo"
           }
          ],
          "scattergl": [
           {
            "marker": {
             "colorbar": {
              "outlinewidth": 0,
              "ticks": ""
             }
            },
            "type": "scattergl"
           }
          ],
          "scattermapbox": [
           {
            "marker": {
             "colorbar": {
              "outlinewidth": 0,
              "ticks": ""
             }
            },
            "type": "scattermapbox"
           }
          ],
          "scatterpolar": [
           {
            "marker": {
             "colorbar": {
              "outlinewidth": 0,
              "ticks": ""
             }
            },
            "type": "scatterpolar"
           }
          ],
          "scatterpolargl": [
           {
            "marker": {
             "colorbar": {
              "outlinewidth": 0,
              "ticks": ""
             }
            },
            "type": "scatterpolargl"
           }
          ],
          "scatterternary": [
           {
            "marker": {
             "colorbar": {
              "outlinewidth": 0,
              "ticks": ""
             }
            },
            "type": "scatterternary"
           }
          ],
          "surface": [
           {
            "colorbar": {
             "outlinewidth": 0,
             "ticks": ""
            },
            "colorscale": [
             [
              0,
              "#0d0887"
             ],
             [
              0.1111111111111111,
              "#46039f"
             ],
             [
              0.2222222222222222,
              "#7201a8"
             ],
             [
              0.3333333333333333,
              "#9c179e"
             ],
             [
              0.4444444444444444,
              "#bd3786"
             ],
             [
              0.5555555555555556,
              "#d8576b"
             ],
             [
              0.6666666666666666,
              "#ed7953"
             ],
             [
              0.7777777777777778,
              "#fb9f3a"
             ],
             [
              0.8888888888888888,
              "#fdca26"
             ],
             [
              1,
              "#f0f921"
             ]
            ],
            "type": "surface"
           }
          ],
          "table": [
           {
            "cells": {
             "fill": {
              "color": "#EBF0F8"
             },
             "line": {
              "color": "white"
             }
            },
            "header": {
             "fill": {
              "color": "#C8D4E3"
             },
             "line": {
              "color": "white"
             }
            },
            "type": "table"
           }
          ]
         },
         "layout": {
          "annotationdefaults": {
           "arrowcolor": "#2a3f5f",
           "arrowhead": 0,
           "arrowwidth": 1
          },
          "autotypenumbers": "strict",
          "coloraxis": {
           "colorbar": {
            "outlinewidth": 0,
            "ticks": ""
           }
          },
          "colorscale": {
           "diverging": [
            [
             0,
             "#8e0152"
            ],
            [
             0.1,
             "#c51b7d"
            ],
            [
             0.2,
             "#de77ae"
            ],
            [
             0.3,
             "#f1b6da"
            ],
            [
             0.4,
             "#fde0ef"
            ],
            [
             0.5,
             "#f7f7f7"
            ],
            [
             0.6,
             "#e6f5d0"
            ],
            [
             0.7,
             "#b8e186"
            ],
            [
             0.8,
             "#7fbc41"
            ],
            [
             0.9,
             "#4d9221"
            ],
            [
             1,
             "#276419"
            ]
           ],
           "sequential": [
            [
             0,
             "#0d0887"
            ],
            [
             0.1111111111111111,
             "#46039f"
            ],
            [
             0.2222222222222222,
             "#7201a8"
            ],
            [
             0.3333333333333333,
             "#9c179e"
            ],
            [
             0.4444444444444444,
             "#bd3786"
            ],
            [
             0.5555555555555556,
             "#d8576b"
            ],
            [
             0.6666666666666666,
             "#ed7953"
            ],
            [
             0.7777777777777778,
             "#fb9f3a"
            ],
            [
             0.8888888888888888,
             "#fdca26"
            ],
            [
             1,
             "#f0f921"
            ]
           ],
           "sequentialminus": [
            [
             0,
             "#0d0887"
            ],
            [
             0.1111111111111111,
             "#46039f"
            ],
            [
             0.2222222222222222,
             "#7201a8"
            ],
            [
             0.3333333333333333,
             "#9c179e"
            ],
            [
             0.4444444444444444,
             "#bd3786"
            ],
            [
             0.5555555555555556,
             "#d8576b"
            ],
            [
             0.6666666666666666,
             "#ed7953"
            ],
            [
             0.7777777777777778,
             "#fb9f3a"
            ],
            [
             0.8888888888888888,
             "#fdca26"
            ],
            [
             1,
             "#f0f921"
            ]
           ]
          },
          "colorway": [
           "#636efa",
           "#EF553B",
           "#00cc96",
           "#ab63fa",
           "#FFA15A",
           "#19d3f3",
           "#FF6692",
           "#B6E880",
           "#FF97FF",
           "#FECB52"
          ],
          "font": {
           "color": "#2a3f5f"
          },
          "geo": {
           "bgcolor": "white",
           "lakecolor": "white",
           "landcolor": "#E5ECF6",
           "showlakes": true,
           "showland": true,
           "subunitcolor": "white"
          },
          "hoverlabel": {
           "align": "left"
          },
          "hovermode": "closest",
          "mapbox": {
           "style": "light"
          },
          "paper_bgcolor": "white",
          "plot_bgcolor": "#E5ECF6",
          "polar": {
           "angularaxis": {
            "gridcolor": "white",
            "linecolor": "white",
            "ticks": ""
           },
           "bgcolor": "#E5ECF6",
           "radialaxis": {
            "gridcolor": "white",
            "linecolor": "white",
            "ticks": ""
           }
          },
          "scene": {
           "xaxis": {
            "backgroundcolor": "#E5ECF6",
            "gridcolor": "white",
            "gridwidth": 2,
            "linecolor": "white",
            "showbackground": true,
            "ticks": "",
            "zerolinecolor": "white"
           },
           "yaxis": {
            "backgroundcolor": "#E5ECF6",
            "gridcolor": "white",
            "gridwidth": 2,
            "linecolor": "white",
            "showbackground": true,
            "ticks": "",
            "zerolinecolor": "white"
           },
           "zaxis": {
            "backgroundcolor": "#E5ECF6",
            "gridcolor": "white",
            "gridwidth": 2,
            "linecolor": "white",
            "showbackground": true,
            "ticks": "",
            "zerolinecolor": "white"
           }
          },
          "shapedefaults": {
           "line": {
            "color": "#2a3f5f"
           }
          },
          "ternary": {
           "aaxis": {
            "gridcolor": "white",
            "linecolor": "white",
            "ticks": ""
           },
           "baxis": {
            "gridcolor": "white",
            "linecolor": "white",
            "ticks": ""
           },
           "bgcolor": "#E5ECF6",
           "caxis": {
            "gridcolor": "white",
            "linecolor": "white",
            "ticks": ""
           }
          },
          "title": {
           "x": 0.05
          },
          "xaxis": {
           "automargin": true,
           "gridcolor": "white",
           "linecolor": "white",
           "ticks": "",
           "title": {
            "standoff": 15
           },
           "zerolinecolor": "white",
           "zerolinewidth": 2
          },
          "yaxis": {
           "automargin": true,
           "gridcolor": "white",
           "linecolor": "white",
           "ticks": "",
           "title": {
            "standoff": 15
           },
           "zerolinecolor": "white",
           "zerolinewidth": 2
          }
         }
        },
        "title": {
         "text": "top 20 des ventes par produits"
        },
        "xaxis": {
         "anchor": "y",
         "domain": [
          0,
          1
         ],
         "title": {
          "text": "_index"
         }
        },
        "yaxis": {
         "anchor": "x",
         "domain": [
          0,
          1
         ],
         "title": {
          "text": "total_sales"
         }
        }
       }
      }
     },
     "metadata": {},
     "output_type": "display_data"
    }
   ],
   "source": [
    "#####################################\n",
    "# Palmares des articles en quantité #\n",
    "#####################################\n",
    "\n",
    "#Effectuer le tri dans l'ordre décroissant de quantités vendues du dataset df_merge\n",
    "#Réinitialiser l'index du dataset par un reset_index\n",
    "df_merged=df_merged.sort_values(by='total_sales', ascending=False).reset_index()\n",
    "\n",
    "#Afficher les 20 premier articles en quantité\n",
    "top20_sales=df_merged['total_sales'].tolist()\n",
    "top20_sales=top20_sales[:20]\n",
    "print(\"Liste des 20 plus grosses ventes :\\n\",top20_sales)\n",
    "\n",
    "#Graphique en barre des 20 premiers articles avec plotly express\n",
    "top20=df_merged.head(20).reset_index(drop=True)\n",
    "df_merged.drop('index',axis=1,inplace=True)\n",
    "fig=px.bar(top20,y='total_sales',title=\"top 20 des ventes par produits\")\n",
    "colors = px.colors.diverging.RdYlGn\n",
    "fig.update_traces(marker=dict(color=top20['total_sales'], colorscale=colors),text=top20['total_sales'], textposition='inside')\n",
    "fig.show()"
   ]
  },
  {
   "cell_type": "code",
   "execution_count": 141,
   "id": "2aad021e",
   "metadata": {},
   "outputs": [
    {
     "name": "stdout",
     "output_type": "stream",
     "text": [
      "   total_sales  part_ventes  somme_cumul_ventes\n",
      "0         36.0     0.006267            0.006267\n",
      "1         27.0     0.004701            0.010968\n",
      "2         24.0     0.004178            0.015146\n",
      "3         22.0     0.003830            0.018976\n",
      "4         22.0     0.003830            0.022806\n",
      "\n",
      "\n",
      "433 articles représentent 80% du nombre de ventes pour un total de 825 articles.\n",
      "Ce qui représent 52.48% des ventes\n"
     ]
    }
   ],
   "source": [
    "#############################\n",
    "# Calculer le 20 / 80 en CA #\n",
    "#############################\n",
    "\n",
    "#Créer une colonne calculant la part en quantité de la ligne dans le dataset\n",
    "somme_ventes=df_merged['total_sales'].sum()\n",
    "df_merged['part_ventes']=df_merged['total_sales']/somme_ventes\n",
    "\n",
    "#Créer une colonne réalisant la somme cumulative de la colonne précedemment créée\n",
    "df_merged['somme_cumul_ventes']=df_merged['part_ventes'].cumsum()\n",
    "\n",
    "print(df_merged[['total_sales','part_ventes','somme_cumul_ventes']].head())\n",
    "\n",
    "\n",
    "#Grâce au deux colonnes créées précedemment, calculer le nombre d'articles représentant 80% des ventes en quantité\n",
    "seuil=0.80\n",
    "nb_articles=(df_merged['somme_cumul_ventes']<=seuil).sum()+1#+1 pour compter l'article après le seuil.\n",
    "print(\"\\n\\n{} articles représentent 80% du nombre de ventes pour un total de {} articles.\".format(nb_articles,len(df_merged)))\n",
    "\n",
    "#Afficher la proportion que représentent ce groupe d'articles dans le catalogue entier du site web\n",
    "proportion_articles=round((nb_articles/len(df_merged))*100,2)\n",
    "print('Ce qui représent {}% des ventes'.format(proportion_articles))"
   ]
  },
  {
   "cell_type": "markdown",
   "id": "077789b1",
   "metadata": {},
   "source": [
    "<div style=\"border: 1px solid RGB(51,165,182);\" >\n",
    "<h3 style=\"margin: auto; padding: 20px; color: RGB(51,165,182); \">Etape 5.3 - Analyse des stocks</h3>\n",
    "</div>"
   ]
  },
  {
   "cell_type": "code",
   "execution_count": 142,
   "id": "14e45472",
   "metadata": {},
   "outputs": [
    {
     "name": "stdout",
     "output_type": "stream",
     "text": [
      "   total_sales  stock_quantity  stock_mois\n",
      "0          4.0             125       31.25\n",
      "1          5.0             138       27.60\n",
      "2          3.0              81       27.00\n",
      "3          5.0             125       25.00\n",
      "4          3.0              71       23.67\n"
     ]
    },
    {
     "data": {
      "application/vnd.plotly.v1+json": {
       "config": {
        "plotlyServerURL": "https://plot.ly"
       },
       "data": [
        {
         "alignmentgroup": "True",
         "hovertemplate": "index=%{x}<br>stock_mois=%{y}<extra></extra>",
         "legendgroup": "",
         "marker": {
          "color": [
           31.25,
           27.6,
           27,
           25,
           23.67,
           23,
           22.75,
           22.67,
           20.71,
           20.5,
           20.29,
           20.2,
           19,
           18,
           17.17,
           16.67,
           16.33,
           16,
           15.38,
           14.33
          ],
          "colorscale": [
           [
            0,
            "rgb(94,79,162)"
           ],
           [
            0.1,
            "rgb(50,136,189)"
           ],
           [
            0.2,
            "rgb(102,194,165)"
           ],
           [
            0.3,
            "rgb(171,221,164)"
           ],
           [
            0.4,
            "rgb(230,245,152)"
           ],
           [
            0.5,
            "rgb(255,255,191)"
           ],
           [
            0.6,
            "rgb(254,224,139)"
           ],
           [
            0.7,
            "rgb(253,174,97)"
           ],
           [
            0.8,
            "rgb(244,109,67)"
           ],
           [
            0.9,
            "rgb(213,62,79)"
           ],
           [
            1,
            "rgb(158,1,66)"
           ]
          ],
          "pattern": {
           "shape": ""
          }
         },
         "name": "",
         "offsetgroup": "",
         "orientation": "v",
         "showlegend": false,
         "text": [
          31.25,
          27.6,
          27,
          25,
          23.67,
          23,
          22.75,
          22.67,
          20.71,
          20.5,
          20.29,
          20.2,
          19,
          18,
          17.17,
          16.67,
          16.33,
          16,
          15.38,
          14.33
         ],
         "textposition": "inside",
         "type": "bar",
         "x": [
          0,
          1,
          2,
          3,
          4,
          5,
          6,
          7,
          8,
          9,
          10,
          11,
          12,
          13,
          14,
          15,
          16,
          17,
          18,
          19
         ],
         "xaxis": "x",
         "y": [
          31.25,
          27.6,
          27,
          25,
          23.67,
          23,
          22.75,
          22.67,
          20.71,
          20.5,
          20.29,
          20.2,
          19,
          18,
          17.17,
          16.67,
          16.33,
          16,
          15.38,
          14.33
         ],
         "yaxis": "y"
        }
       ],
       "layout": {
        "barmode": "relative",
        "legend": {
         "tracegroupgap": 0
        },
        "template": {
         "data": {
          "bar": [
           {
            "error_x": {
             "color": "#2a3f5f"
            },
            "error_y": {
             "color": "#2a3f5f"
            },
            "marker": {
             "line": {
              "color": "#E5ECF6",
              "width": 0.5
             },
             "pattern": {
              "fillmode": "overlay",
              "size": 10,
              "solidity": 0.2
             }
            },
            "type": "bar"
           }
          ],
          "barpolar": [
           {
            "marker": {
             "line": {
              "color": "#E5ECF6",
              "width": 0.5
             },
             "pattern": {
              "fillmode": "overlay",
              "size": 10,
              "solidity": 0.2
             }
            },
            "type": "barpolar"
           }
          ],
          "carpet": [
           {
            "aaxis": {
             "endlinecolor": "#2a3f5f",
             "gridcolor": "white",
             "linecolor": "white",
             "minorgridcolor": "white",
             "startlinecolor": "#2a3f5f"
            },
            "baxis": {
             "endlinecolor": "#2a3f5f",
             "gridcolor": "white",
             "linecolor": "white",
             "minorgridcolor": "white",
             "startlinecolor": "#2a3f5f"
            },
            "type": "carpet"
           }
          ],
          "choropleth": [
           {
            "colorbar": {
             "outlinewidth": 0,
             "ticks": ""
            },
            "type": "choropleth"
           }
          ],
          "contour": [
           {
            "colorbar": {
             "outlinewidth": 0,
             "ticks": ""
            },
            "colorscale": [
             [
              0,
              "#0d0887"
             ],
             [
              0.1111111111111111,
              "#46039f"
             ],
             [
              0.2222222222222222,
              "#7201a8"
             ],
             [
              0.3333333333333333,
              "#9c179e"
             ],
             [
              0.4444444444444444,
              "#bd3786"
             ],
             [
              0.5555555555555556,
              "#d8576b"
             ],
             [
              0.6666666666666666,
              "#ed7953"
             ],
             [
              0.7777777777777778,
              "#fb9f3a"
             ],
             [
              0.8888888888888888,
              "#fdca26"
             ],
             [
              1,
              "#f0f921"
             ]
            ],
            "type": "contour"
           }
          ],
          "contourcarpet": [
           {
            "colorbar": {
             "outlinewidth": 0,
             "ticks": ""
            },
            "type": "contourcarpet"
           }
          ],
          "heatmap": [
           {
            "colorbar": {
             "outlinewidth": 0,
             "ticks": ""
            },
            "colorscale": [
             [
              0,
              "#0d0887"
             ],
             [
              0.1111111111111111,
              "#46039f"
             ],
             [
              0.2222222222222222,
              "#7201a8"
             ],
             [
              0.3333333333333333,
              "#9c179e"
             ],
             [
              0.4444444444444444,
              "#bd3786"
             ],
             [
              0.5555555555555556,
              "#d8576b"
             ],
             [
              0.6666666666666666,
              "#ed7953"
             ],
             [
              0.7777777777777778,
              "#fb9f3a"
             ],
             [
              0.8888888888888888,
              "#fdca26"
             ],
             [
              1,
              "#f0f921"
             ]
            ],
            "type": "heatmap"
           }
          ],
          "heatmapgl": [
           {
            "colorbar": {
             "outlinewidth": 0,
             "ticks": ""
            },
            "colorscale": [
             [
              0,
              "#0d0887"
             ],
             [
              0.1111111111111111,
              "#46039f"
             ],
             [
              0.2222222222222222,
              "#7201a8"
             ],
             [
              0.3333333333333333,
              "#9c179e"
             ],
             [
              0.4444444444444444,
              "#bd3786"
             ],
             [
              0.5555555555555556,
              "#d8576b"
             ],
             [
              0.6666666666666666,
              "#ed7953"
             ],
             [
              0.7777777777777778,
              "#fb9f3a"
             ],
             [
              0.8888888888888888,
              "#fdca26"
             ],
             [
              1,
              "#f0f921"
             ]
            ],
            "type": "heatmapgl"
           }
          ],
          "histogram": [
           {
            "marker": {
             "pattern": {
              "fillmode": "overlay",
              "size": 10,
              "solidity": 0.2
             }
            },
            "type": "histogram"
           }
          ],
          "histogram2d": [
           {
            "colorbar": {
             "outlinewidth": 0,
             "ticks": ""
            },
            "colorscale": [
             [
              0,
              "#0d0887"
             ],
             [
              0.1111111111111111,
              "#46039f"
             ],
             [
              0.2222222222222222,
              "#7201a8"
             ],
             [
              0.3333333333333333,
              "#9c179e"
             ],
             [
              0.4444444444444444,
              "#bd3786"
             ],
             [
              0.5555555555555556,
              "#d8576b"
             ],
             [
              0.6666666666666666,
              "#ed7953"
             ],
             [
              0.7777777777777778,
              "#fb9f3a"
             ],
             [
              0.8888888888888888,
              "#fdca26"
             ],
             [
              1,
              "#f0f921"
             ]
            ],
            "type": "histogram2d"
           }
          ],
          "histogram2dcontour": [
           {
            "colorbar": {
             "outlinewidth": 0,
             "ticks": ""
            },
            "colorscale": [
             [
              0,
              "#0d0887"
             ],
             [
              0.1111111111111111,
              "#46039f"
             ],
             [
              0.2222222222222222,
              "#7201a8"
             ],
             [
              0.3333333333333333,
              "#9c179e"
             ],
             [
              0.4444444444444444,
              "#bd3786"
             ],
             [
              0.5555555555555556,
              "#d8576b"
             ],
             [
              0.6666666666666666,
              "#ed7953"
             ],
             [
              0.7777777777777778,
              "#fb9f3a"
             ],
             [
              0.8888888888888888,
              "#fdca26"
             ],
             [
              1,
              "#f0f921"
             ]
            ],
            "type": "histogram2dcontour"
           }
          ],
          "mesh3d": [
           {
            "colorbar": {
             "outlinewidth": 0,
             "ticks": ""
            },
            "type": "mesh3d"
           }
          ],
          "parcoords": [
           {
            "line": {
             "colorbar": {
              "outlinewidth": 0,
              "ticks": ""
             }
            },
            "type": "parcoords"
           }
          ],
          "pie": [
           {
            "automargin": true,
            "type": "pie"
           }
          ],
          "scatter": [
           {
            "fillpattern": {
             "fillmode": "overlay",
             "size": 10,
             "solidity": 0.2
            },
            "type": "scatter"
           }
          ],
          "scatter3d": [
           {
            "line": {
             "colorbar": {
              "outlinewidth": 0,
              "ticks": ""
             }
            },
            "marker": {
             "colorbar": {
              "outlinewidth": 0,
              "ticks": ""
             }
            },
            "type": "scatter3d"
           }
          ],
          "scattercarpet": [
           {
            "marker": {
             "colorbar": {
              "outlinewidth": 0,
              "ticks": ""
             }
            },
            "type": "scattercarpet"
           }
          ],
          "scattergeo": [
           {
            "marker": {
             "colorbar": {
              "outlinewidth": 0,
              "ticks": ""
             }
            },
            "type": "scattergeo"
           }
          ],
          "scattergl": [
           {
            "marker": {
             "colorbar": {
              "outlinewidth": 0,
              "ticks": ""
             }
            },
            "type": "scattergl"
           }
          ],
          "scattermapbox": [
           {
            "marker": {
             "colorbar": {
              "outlinewidth": 0,
              "ticks": ""
             }
            },
            "type": "scattermapbox"
           }
          ],
          "scatterpolar": [
           {
            "marker": {
             "colorbar": {
              "outlinewidth": 0,
              "ticks": ""
             }
            },
            "type": "scatterpolar"
           }
          ],
          "scatterpolargl": [
           {
            "marker": {
             "colorbar": {
              "outlinewidth": 0,
              "ticks": ""
             }
            },
            "type": "scatterpolargl"
           }
          ],
          "scatterternary": [
           {
            "marker": {
             "colorbar": {
              "outlinewidth": 0,
              "ticks": ""
             }
            },
            "type": "scatterternary"
           }
          ],
          "surface": [
           {
            "colorbar": {
             "outlinewidth": 0,
             "ticks": ""
            },
            "colorscale": [
             [
              0,
              "#0d0887"
             ],
             [
              0.1111111111111111,
              "#46039f"
             ],
             [
              0.2222222222222222,
              "#7201a8"
             ],
             [
              0.3333333333333333,
              "#9c179e"
             ],
             [
              0.4444444444444444,
              "#bd3786"
             ],
             [
              0.5555555555555556,
              "#d8576b"
             ],
             [
              0.6666666666666666,
              "#ed7953"
             ],
             [
              0.7777777777777778,
              "#fb9f3a"
             ],
             [
              0.8888888888888888,
              "#fdca26"
             ],
             [
              1,
              "#f0f921"
             ]
            ],
            "type": "surface"
           }
          ],
          "table": [
           {
            "cells": {
             "fill": {
              "color": "#EBF0F8"
             },
             "line": {
              "color": "white"
             }
            },
            "header": {
             "fill": {
              "color": "#C8D4E3"
             },
             "line": {
              "color": "white"
             }
            },
            "type": "table"
           }
          ]
         },
         "layout": {
          "annotationdefaults": {
           "arrowcolor": "#2a3f5f",
           "arrowhead": 0,
           "arrowwidth": 1
          },
          "autotypenumbers": "strict",
          "coloraxis": {
           "colorbar": {
            "outlinewidth": 0,
            "ticks": ""
           }
          },
          "colorscale": {
           "diverging": [
            [
             0,
             "#8e0152"
            ],
            [
             0.1,
             "#c51b7d"
            ],
            [
             0.2,
             "#de77ae"
            ],
            [
             0.3,
             "#f1b6da"
            ],
            [
             0.4,
             "#fde0ef"
            ],
            [
             0.5,
             "#f7f7f7"
            ],
            [
             0.6,
             "#e6f5d0"
            ],
            [
             0.7,
             "#b8e186"
            ],
            [
             0.8,
             "#7fbc41"
            ],
            [
             0.9,
             "#4d9221"
            ],
            [
             1,
             "#276419"
            ]
           ],
           "sequential": [
            [
             0,
             "#0d0887"
            ],
            [
             0.1111111111111111,
             "#46039f"
            ],
            [
             0.2222222222222222,
             "#7201a8"
            ],
            [
             0.3333333333333333,
             "#9c179e"
            ],
            [
             0.4444444444444444,
             "#bd3786"
            ],
            [
             0.5555555555555556,
             "#d8576b"
            ],
            [
             0.6666666666666666,
             "#ed7953"
            ],
            [
             0.7777777777777778,
             "#fb9f3a"
            ],
            [
             0.8888888888888888,
             "#fdca26"
            ],
            [
             1,
             "#f0f921"
            ]
           ],
           "sequentialminus": [
            [
             0,
             "#0d0887"
            ],
            [
             0.1111111111111111,
             "#46039f"
            ],
            [
             0.2222222222222222,
             "#7201a8"
            ],
            [
             0.3333333333333333,
             "#9c179e"
            ],
            [
             0.4444444444444444,
             "#bd3786"
            ],
            [
             0.5555555555555556,
             "#d8576b"
            ],
            [
             0.6666666666666666,
             "#ed7953"
            ],
            [
             0.7777777777777778,
             "#fb9f3a"
            ],
            [
             0.8888888888888888,
             "#fdca26"
            ],
            [
             1,
             "#f0f921"
            ]
           ]
          },
          "colorway": [
           "#636efa",
           "#EF553B",
           "#00cc96",
           "#ab63fa",
           "#FFA15A",
           "#19d3f3",
           "#FF6692",
           "#B6E880",
           "#FF97FF",
           "#FECB52"
          ],
          "font": {
           "color": "#2a3f5f"
          },
          "geo": {
           "bgcolor": "white",
           "lakecolor": "white",
           "landcolor": "#E5ECF6",
           "showlakes": true,
           "showland": true,
           "subunitcolor": "white"
          },
          "hoverlabel": {
           "align": "left"
          },
          "hovermode": "closest",
          "mapbox": {
           "style": "light"
          },
          "paper_bgcolor": "white",
          "plot_bgcolor": "#E5ECF6",
          "polar": {
           "angularaxis": {
            "gridcolor": "white",
            "linecolor": "white",
            "ticks": ""
           },
           "bgcolor": "#E5ECF6",
           "radialaxis": {
            "gridcolor": "white",
            "linecolor": "white",
            "ticks": ""
           }
          },
          "scene": {
           "xaxis": {
            "backgroundcolor": "#E5ECF6",
            "gridcolor": "white",
            "gridwidth": 2,
            "linecolor": "white",
            "showbackground": true,
            "ticks": "",
            "zerolinecolor": "white"
           },
           "yaxis": {
            "backgroundcolor": "#E5ECF6",
            "gridcolor": "white",
            "gridwidth": 2,
            "linecolor": "white",
            "showbackground": true,
            "ticks": "",
            "zerolinecolor": "white"
           },
           "zaxis": {
            "backgroundcolor": "#E5ECF6",
            "gridcolor": "white",
            "gridwidth": 2,
            "linecolor": "white",
            "showbackground": true,
            "ticks": "",
            "zerolinecolor": "white"
           }
          },
          "shapedefaults": {
           "line": {
            "color": "#2a3f5f"
           }
          },
          "ternary": {
           "aaxis": {
            "gridcolor": "white",
            "linecolor": "white",
            "ticks": ""
           },
           "baxis": {
            "gridcolor": "white",
            "linecolor": "white",
            "ticks": ""
           },
           "bgcolor": "#E5ECF6",
           "caxis": {
            "gridcolor": "white",
            "linecolor": "white",
            "ticks": ""
           }
          },
          "title": {
           "x": 0.05
          },
          "xaxis": {
           "automargin": true,
           "gridcolor": "white",
           "linecolor": "white",
           "ticks": "",
           "title": {
            "standoff": 15
           },
           "zerolinecolor": "white",
           "zerolinewidth": 2
          },
          "yaxis": {
           "automargin": true,
           "gridcolor": "white",
           "linecolor": "white",
           "ticks": "",
           "title": {
            "standoff": 15
           },
           "zerolinecolor": "white",
           "zerolinewidth": 2
          }
         }
        },
        "title": {
         "text": "top 20 des produits avec le plus de stock par mois :"
        },
        "xaxis": {
         "anchor": "y",
         "domain": [
          0,
          1
         ],
         "title": {
          "text": "index"
         }
        },
        "yaxis": {
         "anchor": "x",
         "domain": [
          0,
          1
         ],
         "title": {
          "text": "stock_mois"
         }
        }
       }
      }
     },
     "metadata": {},
     "output_type": "display_data"
    }
   ],
   "source": [
    "######################################\n",
    "# Calcule le nombre de mois de stock #\n",
    "######################################\n",
    "\n",
    "#Création de la colonne Rotation de stock\n",
    "df_merged['stock_mois']=round(df_merged['stock_quantity'] / df_merged['total_sales'],2)\n",
    "\n",
    "#Remplacement des \"inf\" par 0\n",
    "df_merged['stock_mois'].replace([np.inf, -np.inf], 0, inplace=True)\n",
    "#df_merged['stock_mois'].fillna(0, inplace=True)\n",
    "\n",
    "#Effectuer le tri dans l'ordre décroissant du nombre de mois de stock dans le dataset df_merge\n",
    "df_merged=df_merged.sort_values(by='stock_mois', ascending=False).reset_index()\n",
    "df_merged.drop(['index'],axis=1,inplace=True)\n",
    "\n",
    "print(df_merged[['total_sales','stock_quantity','stock_mois']].head())\n",
    "\n",
    "#Graphique en barre du flop 20 des produits qui ont le plus de mois de stock\n",
    "top20=df_merged.head(20).reset_index(drop=True)\n",
    "fig=px.bar(top20,y='stock_mois',title=\"top 20 des produits avec le plus de stock par mois :\")\n",
    "colors = px.colors.diverging.Spectral_r\n",
    "fig.update_traces(marker=dict(color=top20['stock_mois'], colorscale=colors),text=top20['stock_mois'], textposition='inside')\n",
    "fig.show()"
   ]
  },
  {
   "cell_type": "code",
   "execution_count": 143,
   "id": "0cd6696c",
   "metadata": {},
   "outputs": [
    {
     "name": "stdout",
     "output_type": "stream",
     "text": [
      "Il y a 531773.3 € de produits en stock.\n",
      "le coût moyen unitaire est de 644.57 €.\n"
     ]
    }
   ],
   "source": [
    "####################################\n",
    "# Valorisation des stocks en euros #\n",
    "####################################\n",
    "\n",
    "#Création de la colonne Valorisation des stocks en euros\n",
    "df_merged['valorisation_stock_€']=df_merged[\"price\"]*df_merged[\"stock_quantity\"]\n",
    "#Calculer la somme de la colonne \"Valorisation_stock_euros\"\n",
    "sum_valo=df_merged['valorisation_stock_€'].sum()\n",
    "print('Il y a {} € de produits en stock.'.format(sum_valo))\n",
    "print('le coût moyen unitaire est de {} €.'.format(round(sum_valo/len(df_merged),2)))"
   ]
  },
  {
   "cell_type": "code",
   "execution_count": 144,
   "id": "4a3dd99d",
   "metadata": {},
   "outputs": [
    {
     "name": "stdout",
     "output_type": "stream",
     "text": [
      "Il y a 17822 produits en stock.\n"
     ]
    }
   ],
   "source": [
    "##############################################\n",
    "# Valorisation du nombre de produit en stock #\n",
    "##############################################\n",
    "\n",
    "#Calculer la somme de la colonne stock quantity\n",
    "sum_stock=df_merged['stock_quantity'].sum()\n",
    "print('Il y a {} produits en stock.'.format(sum_stock))"
   ]
  },
  {
   "cell_type": "markdown",
   "id": "9e48f6dc",
   "metadata": {},
   "source": [
    "<div style=\"border: 1px solid RGB(51,165,182);\" >\n",
    "<h3 style=\"margin: auto; padding: 20px; color: RGB(51,165,182); \">Etape 5.4 - Analyse du taux de marge</h3>\n",
    "</div>"
   ]
  },
  {
   "cell_type": "code",
   "execution_count": 145,
   "id": "7de5ca46",
   "metadata": {},
   "outputs": [
    {
     "name": "stdout",
     "output_type": "stream",
     "text": [
      "   price  purchase_price     prix_HT  taux_marge\n",
      "0   53.0           32.15   44.166667        0.27\n",
      "1  135.0           80.33  112.500000        0.29\n",
      "2   51.6           31.00   43.000000        0.28\n",
      "3   59.0           34.76   49.166667        0.29\n",
      "4   37.5           21.88   31.250000        0.30\n",
      "\n",
      "taux de marge minimun :  -6.35\n",
      "taux de marge maximum :  1.65\n"
     ]
    }
   ],
   "source": [
    "############################\n",
    "# Analyse du taux de marge #\n",
    "############################\n",
    "\n",
    "#Création de la colonne prix HT\n",
    "df_merged['prix_HT']=df_merged['price']/1.2 \n",
    "\n",
    "#Création de la colonne Taux de marge\n",
    "df_merged['taux_marge']=round((df_merged['prix_HT']-df_merged['purchase_price'])/df_merged['prix_HT'],2)\n",
    "print(df_merged[['price','purchase_price','prix_HT','taux_marge']].head())\n",
    "\n",
    "#Afficher le prix minimum de la colonne \"taux_marge\"\n",
    "print('\\ntaux de marge minimun : ',df_merged['taux_marge'].min())\n",
    "#Afficher le prix maximum de la colonne \"taux_marge\"\n",
    "print('taux de marge maximum : ',df_merged['taux_marge'].max())\n",
    "\n",
    "#max : 1.65"
   ]
  },
  {
   "cell_type": "code",
   "execution_count": 146,
   "id": "6082d42b",
   "metadata": {},
   "outputs": [
    {
     "name": "stdout",
     "output_type": "stream",
     "text": [
      "lignes avec un taux de marge inférieur à 0 :\n",
      "     price  purchase_price    prix_HT  taux_marge\n",
      "674  12.65           77.48  10.541667       -6.35\n",
      "749  92.00           99.00  76.666667       -0.29\n",
      "799  31.00           31.20  25.833333       -0.21\n",
      "808   8.30            9.99   6.916667       -0.44\n"
     ]
    }
   ],
   "source": [
    "#affichage de la ligne avec un taux de marge inférieur à 0\n",
    "marge_negative=df_merged[df_merged['taux_marge']<0]\n",
    "print('lignes avec un taux de marge inférieur à 0 :')\n",
    "print(marge_negative[['price','purchase_price','prix_HT','taux_marge']])"
   ]
  },
  {
   "cell_type": "code",
   "execution_count": 147,
   "id": "d756037c",
   "metadata": {},
   "outputs": [
    {
     "name": "stdout",
     "output_type": "stream",
     "text": [
      "   price  purchase_price     prix_HT  taux_marge\n",
      "0   53.0           32.15   44.166667        0.27\n",
      "1  135.0           80.33  112.500000        0.29\n",
      "2   51.6           31.00   43.000000        0.28\n",
      "3   59.0           34.76   49.166667        0.29\n",
      "4   37.5           21.88   31.250000        0.30\n",
      "\n",
      "taux de marge minimun :  0.23\n",
      "taux de marge maximum :  1.65\n"
     ]
    }
   ],
   "source": [
    "#création d'un dataframe avec les taux positifs\n",
    "marge_positive=pd.DataFrame(df_merged[df_merged['taux_marge']>0])\n",
    "print(marge_positive[['price','purchase_price','prix_HT','taux_marge']].head())\n",
    "\n",
    "#Afficher le prix minimum de la colonne \"taux_marge\"\n",
    "print('\\ntaux de marge minimun : ',marge_positive['taux_marge'].min())\n",
    "\n",
    "#Afficher le prix maximum de la colonne \"taux_marge\"\n",
    "print('taux de marge maximum : ',marge_positive['taux_marge'].max())"
   ]
  },
  {
   "cell_type": "code",
   "execution_count": 148,
   "id": "63e09c88",
   "metadata": {},
   "outputs": [
    {
     "data": {
      "text/html": [
       "<div>\n",
       "<style scoped>\n",
       "    .dataframe tbody tr th:only-of-type {\n",
       "        vertical-align: middle;\n",
       "    }\n",
       "\n",
       "    .dataframe tbody tr th {\n",
       "        vertical-align: top;\n",
       "    }\n",
       "\n",
       "    .dataframe thead th {\n",
       "        text-align: right;\n",
       "    }\n",
       "</style>\n",
       "<table border=\"1\" class=\"dataframe\">\n",
       "  <thead>\n",
       "    <tr style=\"text-align: right;\">\n",
       "      <th></th>\n",
       "      <th>purchase_price</th>\n",
       "      <th>price</th>\n",
       "      <th>prix_HT</th>\n",
       "      <th>taux_marge</th>\n",
       "    </tr>\n",
       "  </thead>\n",
       "  <tbody>\n",
       "    <tr>\n",
       "      <th>0</th>\n",
       "      <td>32.15</td>\n",
       "      <td>53.0</td>\n",
       "      <td>44.166667</td>\n",
       "      <td>0.27</td>\n",
       "    </tr>\n",
       "    <tr>\n",
       "      <th>1</th>\n",
       "      <td>80.33</td>\n",
       "      <td>135.0</td>\n",
       "      <td>112.500000</td>\n",
       "      <td>0.29</td>\n",
       "    </tr>\n",
       "    <tr>\n",
       "      <th>2</th>\n",
       "      <td>31.00</td>\n",
       "      <td>51.6</td>\n",
       "      <td>43.000000</td>\n",
       "      <td>0.28</td>\n",
       "    </tr>\n",
       "    <tr>\n",
       "      <th>3</th>\n",
       "      <td>34.76</td>\n",
       "      <td>59.0</td>\n",
       "      <td>49.166667</td>\n",
       "      <td>0.29</td>\n",
       "    </tr>\n",
       "    <tr>\n",
       "      <th>4</th>\n",
       "      <td>21.88</td>\n",
       "      <td>37.5</td>\n",
       "      <td>31.250000</td>\n",
       "      <td>0.30</td>\n",
       "    </tr>\n",
       "    <tr>\n",
       "      <th>...</th>\n",
       "      <td>...</td>\n",
       "      <td>...</td>\n",
       "      <td>...</td>\n",
       "      <td>...</td>\n",
       "    </tr>\n",
       "    <tr>\n",
       "      <th>820</th>\n",
       "      <td>9.32</td>\n",
       "      <td>18.8</td>\n",
       "      <td>15.666667</td>\n",
       "      <td>0.41</td>\n",
       "    </tr>\n",
       "    <tr>\n",
       "      <th>821</th>\n",
       "      <td>13.68</td>\n",
       "      <td>27.3</td>\n",
       "      <td>22.750000</td>\n",
       "      <td>0.40</td>\n",
       "    </tr>\n",
       "    <tr>\n",
       "      <th>822</th>\n",
       "      <td>20.75</td>\n",
       "      <td>39.0</td>\n",
       "      <td>32.500000</td>\n",
       "      <td>0.36</td>\n",
       "    </tr>\n",
       "    <tr>\n",
       "      <th>823</th>\n",
       "      <td>6.47</td>\n",
       "      <td>12.9</td>\n",
       "      <td>10.750000</td>\n",
       "      <td>0.40</td>\n",
       "    </tr>\n",
       "    <tr>\n",
       "      <th>824</th>\n",
       "      <td>13.42</td>\n",
       "      <td>26.5</td>\n",
       "      <td>22.083333</td>\n",
       "      <td>0.39</td>\n",
       "    </tr>\n",
       "  </tbody>\n",
       "</table>\n",
       "<p>825 rows × 4 columns</p>\n",
       "</div>"
      ],
      "text/plain": [
       "     purchase_price  price     prix_HT  taux_marge\n",
       "0             32.15   53.0   44.166667        0.27\n",
       "1             80.33  135.0  112.500000        0.29\n",
       "2             31.00   51.6   43.000000        0.28\n",
       "3             34.76   59.0   49.166667        0.29\n",
       "4             21.88   37.5   31.250000        0.30\n",
       "..              ...    ...         ...         ...\n",
       "820            9.32   18.8   15.666667        0.41\n",
       "821           13.68   27.3   22.750000        0.40\n",
       "822           20.75   39.0   32.500000        0.36\n",
       "823            6.47   12.9   10.750000        0.40\n",
       "824           13.42   26.5   22.083333        0.39\n",
       "\n",
       "[825 rows x 4 columns]"
      ]
     },
     "execution_count": 148,
     "metadata": {},
     "output_type": "execute_result"
    }
   ],
   "source": [
    "df_search=df_merged[['purchase_price','price','prix_HT','taux_marge']]\n",
    "df_search"
   ]
  },
  {
   "cell_type": "code",
   "execution_count": 149,
   "id": "b24042f8",
   "metadata": {},
   "outputs": [
    {
     "name": "stdout",
     "output_type": "stream",
     "text": [
      "    product_type  taux_marge\n",
      "0         Cognac        0.45\n",
      "1         Whisky        0.45\n",
      "2            Gin        0.43\n",
      "3            Vin        0.38\n",
      "4  Huile d'olive        0.25\n",
      "5      Champagne        0.05\n"
     ]
    },
    {
     "data": {
      "application/vnd.plotly.v1+json": {
       "config": {
        "plotlyServerURL": "https://plot.ly"
       },
       "data": [
        {
         "alignmentgroup": "True",
         "hovertemplate": "taux_marge=%{x}<br>product_type=%{y}<extra></extra>",
         "legendgroup": "",
         "marker": {
          "color": [
           0.45,
           0.45,
           0.43,
           0.38,
           0.25,
           0.05
          ],
          "colorscale": [
           [
            0,
            "rgb(165,0,38)"
           ],
           [
            0.1,
            "rgb(215,48,39)"
           ],
           [
            0.2,
            "rgb(244,109,67)"
           ],
           [
            0.3,
            "rgb(253,174,97)"
           ],
           [
            0.4,
            "rgb(254,224,139)"
           ],
           [
            0.5,
            "rgb(255,255,191)"
           ],
           [
            0.6,
            "rgb(217,239,139)"
           ],
           [
            0.7,
            "rgb(166,217,106)"
           ],
           [
            0.8,
            "rgb(102,189,99)"
           ],
           [
            0.9,
            "rgb(26,152,80)"
           ],
           [
            1,
            "rgb(0,104,55)"
           ]
          ],
          "pattern": {
           "shape": ""
          }
         },
         "name": "",
         "offsetgroup": "",
         "orientation": "h",
         "showlegend": false,
         "text": [
          0.45,
          0.45,
          0.43,
          0.38,
          0.25,
          0.05
         ],
         "textposition": "inside",
         "type": "bar",
         "x": [
          0.45,
          0.45,
          0.43,
          0.38,
          0.25,
          0.05
         ],
         "xaxis": "x",
         "y": [
          "Cognac",
          "Whisky",
          "Gin",
          "Vin",
          "Huile d'olive",
          "Champagne"
         ],
         "yaxis": "y"
        }
       ],
       "layout": {
        "barmode": "relative",
        "legend": {
         "tracegroupgap": 0
        },
        "template": {
         "data": {
          "bar": [
           {
            "error_x": {
             "color": "#2a3f5f"
            },
            "error_y": {
             "color": "#2a3f5f"
            },
            "marker": {
             "line": {
              "color": "#E5ECF6",
              "width": 0.5
             },
             "pattern": {
              "fillmode": "overlay",
              "size": 10,
              "solidity": 0.2
             }
            },
            "type": "bar"
           }
          ],
          "barpolar": [
           {
            "marker": {
             "line": {
              "color": "#E5ECF6",
              "width": 0.5
             },
             "pattern": {
              "fillmode": "overlay",
              "size": 10,
              "solidity": 0.2
             }
            },
            "type": "barpolar"
           }
          ],
          "carpet": [
           {
            "aaxis": {
             "endlinecolor": "#2a3f5f",
             "gridcolor": "white",
             "linecolor": "white",
             "minorgridcolor": "white",
             "startlinecolor": "#2a3f5f"
            },
            "baxis": {
             "endlinecolor": "#2a3f5f",
             "gridcolor": "white",
             "linecolor": "white",
             "minorgridcolor": "white",
             "startlinecolor": "#2a3f5f"
            },
            "type": "carpet"
           }
          ],
          "choropleth": [
           {
            "colorbar": {
             "outlinewidth": 0,
             "ticks": ""
            },
            "type": "choropleth"
           }
          ],
          "contour": [
           {
            "colorbar": {
             "outlinewidth": 0,
             "ticks": ""
            },
            "colorscale": [
             [
              0,
              "#0d0887"
             ],
             [
              0.1111111111111111,
              "#46039f"
             ],
             [
              0.2222222222222222,
              "#7201a8"
             ],
             [
              0.3333333333333333,
              "#9c179e"
             ],
             [
              0.4444444444444444,
              "#bd3786"
             ],
             [
              0.5555555555555556,
              "#d8576b"
             ],
             [
              0.6666666666666666,
              "#ed7953"
             ],
             [
              0.7777777777777778,
              "#fb9f3a"
             ],
             [
              0.8888888888888888,
              "#fdca26"
             ],
             [
              1,
              "#f0f921"
             ]
            ],
            "type": "contour"
           }
          ],
          "contourcarpet": [
           {
            "colorbar": {
             "outlinewidth": 0,
             "ticks": ""
            },
            "type": "contourcarpet"
           }
          ],
          "heatmap": [
           {
            "colorbar": {
             "outlinewidth": 0,
             "ticks": ""
            },
            "colorscale": [
             [
              0,
              "#0d0887"
             ],
             [
              0.1111111111111111,
              "#46039f"
             ],
             [
              0.2222222222222222,
              "#7201a8"
             ],
             [
              0.3333333333333333,
              "#9c179e"
             ],
             [
              0.4444444444444444,
              "#bd3786"
             ],
             [
              0.5555555555555556,
              "#d8576b"
             ],
             [
              0.6666666666666666,
              "#ed7953"
             ],
             [
              0.7777777777777778,
              "#fb9f3a"
             ],
             [
              0.8888888888888888,
              "#fdca26"
             ],
             [
              1,
              "#f0f921"
             ]
            ],
            "type": "heatmap"
           }
          ],
          "heatmapgl": [
           {
            "colorbar": {
             "outlinewidth": 0,
             "ticks": ""
            },
            "colorscale": [
             [
              0,
              "#0d0887"
             ],
             [
              0.1111111111111111,
              "#46039f"
             ],
             [
              0.2222222222222222,
              "#7201a8"
             ],
             [
              0.3333333333333333,
              "#9c179e"
             ],
             [
              0.4444444444444444,
              "#bd3786"
             ],
             [
              0.5555555555555556,
              "#d8576b"
             ],
             [
              0.6666666666666666,
              "#ed7953"
             ],
             [
              0.7777777777777778,
              "#fb9f3a"
             ],
             [
              0.8888888888888888,
              "#fdca26"
             ],
             [
              1,
              "#f0f921"
             ]
            ],
            "type": "heatmapgl"
           }
          ],
          "histogram": [
           {
            "marker": {
             "pattern": {
              "fillmode": "overlay",
              "size": 10,
              "solidity": 0.2
             }
            },
            "type": "histogram"
           }
          ],
          "histogram2d": [
           {
            "colorbar": {
             "outlinewidth": 0,
             "ticks": ""
            },
            "colorscale": [
             [
              0,
              "#0d0887"
             ],
             [
              0.1111111111111111,
              "#46039f"
             ],
             [
              0.2222222222222222,
              "#7201a8"
             ],
             [
              0.3333333333333333,
              "#9c179e"
             ],
             [
              0.4444444444444444,
              "#bd3786"
             ],
             [
              0.5555555555555556,
              "#d8576b"
             ],
             [
              0.6666666666666666,
              "#ed7953"
             ],
             [
              0.7777777777777778,
              "#fb9f3a"
             ],
             [
              0.8888888888888888,
              "#fdca26"
             ],
             [
              1,
              "#f0f921"
             ]
            ],
            "type": "histogram2d"
           }
          ],
          "histogram2dcontour": [
           {
            "colorbar": {
             "outlinewidth": 0,
             "ticks": ""
            },
            "colorscale": [
             [
              0,
              "#0d0887"
             ],
             [
              0.1111111111111111,
              "#46039f"
             ],
             [
              0.2222222222222222,
              "#7201a8"
             ],
             [
              0.3333333333333333,
              "#9c179e"
             ],
             [
              0.4444444444444444,
              "#bd3786"
             ],
             [
              0.5555555555555556,
              "#d8576b"
             ],
             [
              0.6666666666666666,
              "#ed7953"
             ],
             [
              0.7777777777777778,
              "#fb9f3a"
             ],
             [
              0.8888888888888888,
              "#fdca26"
             ],
             [
              1,
              "#f0f921"
             ]
            ],
            "type": "histogram2dcontour"
           }
          ],
          "mesh3d": [
           {
            "colorbar": {
             "outlinewidth": 0,
             "ticks": ""
            },
            "type": "mesh3d"
           }
          ],
          "parcoords": [
           {
            "line": {
             "colorbar": {
              "outlinewidth": 0,
              "ticks": ""
             }
            },
            "type": "parcoords"
           }
          ],
          "pie": [
           {
            "automargin": true,
            "type": "pie"
           }
          ],
          "scatter": [
           {
            "fillpattern": {
             "fillmode": "overlay",
             "size": 10,
             "solidity": 0.2
            },
            "type": "scatter"
           }
          ],
          "scatter3d": [
           {
            "line": {
             "colorbar": {
              "outlinewidth": 0,
              "ticks": ""
             }
            },
            "marker": {
             "colorbar": {
              "outlinewidth": 0,
              "ticks": ""
             }
            },
            "type": "scatter3d"
           }
          ],
          "scattercarpet": [
           {
            "marker": {
             "colorbar": {
              "outlinewidth": 0,
              "ticks": ""
             }
            },
            "type": "scattercarpet"
           }
          ],
          "scattergeo": [
           {
            "marker": {
             "colorbar": {
              "outlinewidth": 0,
              "ticks": ""
             }
            },
            "type": "scattergeo"
           }
          ],
          "scattergl": [
           {
            "marker": {
             "colorbar": {
              "outlinewidth": 0,
              "ticks": ""
             }
            },
            "type": "scattergl"
           }
          ],
          "scattermapbox": [
           {
            "marker": {
             "colorbar": {
              "outlinewidth": 0,
              "ticks": ""
             }
            },
            "type": "scattermapbox"
           }
          ],
          "scatterpolar": [
           {
            "marker": {
             "colorbar": {
              "outlinewidth": 0,
              "ticks": ""
             }
            },
            "type": "scatterpolar"
           }
          ],
          "scatterpolargl": [
           {
            "marker": {
             "colorbar": {
              "outlinewidth": 0,
              "ticks": ""
             }
            },
            "type": "scatterpolargl"
           }
          ],
          "scatterternary": [
           {
            "marker": {
             "colorbar": {
              "outlinewidth": 0,
              "ticks": ""
             }
            },
            "type": "scatterternary"
           }
          ],
          "surface": [
           {
            "colorbar": {
             "outlinewidth": 0,
             "ticks": ""
            },
            "colorscale": [
             [
              0,
              "#0d0887"
             ],
             [
              0.1111111111111111,
              "#46039f"
             ],
             [
              0.2222222222222222,
              "#7201a8"
             ],
             [
              0.3333333333333333,
              "#9c179e"
             ],
             [
              0.4444444444444444,
              "#bd3786"
             ],
             [
              0.5555555555555556,
              "#d8576b"
             ],
             [
              0.6666666666666666,
              "#ed7953"
             ],
             [
              0.7777777777777778,
              "#fb9f3a"
             ],
             [
              0.8888888888888888,
              "#fdca26"
             ],
             [
              1,
              "#f0f921"
             ]
            ],
            "type": "surface"
           }
          ],
          "table": [
           {
            "cells": {
             "fill": {
              "color": "#EBF0F8"
             },
             "line": {
              "color": "white"
             }
            },
            "header": {
             "fill": {
              "color": "#C8D4E3"
             },
             "line": {
              "color": "white"
             }
            },
            "type": "table"
           }
          ]
         },
         "layout": {
          "annotationdefaults": {
           "arrowcolor": "#2a3f5f",
           "arrowhead": 0,
           "arrowwidth": 1
          },
          "autotypenumbers": "strict",
          "coloraxis": {
           "colorbar": {
            "outlinewidth": 0,
            "ticks": ""
           }
          },
          "colorscale": {
           "diverging": [
            [
             0,
             "#8e0152"
            ],
            [
             0.1,
             "#c51b7d"
            ],
            [
             0.2,
             "#de77ae"
            ],
            [
             0.3,
             "#f1b6da"
            ],
            [
             0.4,
             "#fde0ef"
            ],
            [
             0.5,
             "#f7f7f7"
            ],
            [
             0.6,
             "#e6f5d0"
            ],
            [
             0.7,
             "#b8e186"
            ],
            [
             0.8,
             "#7fbc41"
            ],
            [
             0.9,
             "#4d9221"
            ],
            [
             1,
             "#276419"
            ]
           ],
           "sequential": [
            [
             0,
             "#0d0887"
            ],
            [
             0.1111111111111111,
             "#46039f"
            ],
            [
             0.2222222222222222,
             "#7201a8"
            ],
            [
             0.3333333333333333,
             "#9c179e"
            ],
            [
             0.4444444444444444,
             "#bd3786"
            ],
            [
             0.5555555555555556,
             "#d8576b"
            ],
            [
             0.6666666666666666,
             "#ed7953"
            ],
            [
             0.7777777777777778,
             "#fb9f3a"
            ],
            [
             0.8888888888888888,
             "#fdca26"
            ],
            [
             1,
             "#f0f921"
            ]
           ],
           "sequentialminus": [
            [
             0,
             "#0d0887"
            ],
            [
             0.1111111111111111,
             "#46039f"
            ],
            [
             0.2222222222222222,
             "#7201a8"
            ],
            [
             0.3333333333333333,
             "#9c179e"
            ],
            [
             0.4444444444444444,
             "#bd3786"
            ],
            [
             0.5555555555555556,
             "#d8576b"
            ],
            [
             0.6666666666666666,
             "#ed7953"
            ],
            [
             0.7777777777777778,
             "#fb9f3a"
            ],
            [
             0.8888888888888888,
             "#fdca26"
            ],
            [
             1,
             "#f0f921"
            ]
           ]
          },
          "colorway": [
           "#636efa",
           "#EF553B",
           "#00cc96",
           "#ab63fa",
           "#FFA15A",
           "#19d3f3",
           "#FF6692",
           "#B6E880",
           "#FF97FF",
           "#FECB52"
          ],
          "font": {
           "color": "#2a3f5f"
          },
          "geo": {
           "bgcolor": "white",
           "lakecolor": "white",
           "landcolor": "#E5ECF6",
           "showlakes": true,
           "showland": true,
           "subunitcolor": "white"
          },
          "hoverlabel": {
           "align": "left"
          },
          "hovermode": "closest",
          "mapbox": {
           "style": "light"
          },
          "paper_bgcolor": "white",
          "plot_bgcolor": "#E5ECF6",
          "polar": {
           "angularaxis": {
            "gridcolor": "white",
            "linecolor": "white",
            "ticks": ""
           },
           "bgcolor": "#E5ECF6",
           "radialaxis": {
            "gridcolor": "white",
            "linecolor": "white",
            "ticks": ""
           }
          },
          "scene": {
           "xaxis": {
            "backgroundcolor": "#E5ECF6",
            "gridcolor": "white",
            "gridwidth": 2,
            "linecolor": "white",
            "showbackground": true,
            "ticks": "",
            "zerolinecolor": "white"
           },
           "yaxis": {
            "backgroundcolor": "#E5ECF6",
            "gridcolor": "white",
            "gridwidth": 2,
            "linecolor": "white",
            "showbackground": true,
            "ticks": "",
            "zerolinecolor": "white"
           },
           "zaxis": {
            "backgroundcolor": "#E5ECF6",
            "gridcolor": "white",
            "gridwidth": 2,
            "linecolor": "white",
            "showbackground": true,
            "ticks": "",
            "zerolinecolor": "white"
           }
          },
          "shapedefaults": {
           "line": {
            "color": "#2a3f5f"
           }
          },
          "ternary": {
           "aaxis": {
            "gridcolor": "white",
            "linecolor": "white",
            "ticks": ""
           },
           "baxis": {
            "gridcolor": "white",
            "linecolor": "white",
            "ticks": ""
           },
           "bgcolor": "#E5ECF6",
           "caxis": {
            "gridcolor": "white",
            "linecolor": "white",
            "ticks": ""
           }
          },
          "title": {
           "x": 0.05
          },
          "xaxis": {
           "automargin": true,
           "gridcolor": "white",
           "linecolor": "white",
           "ticks": "",
           "title": {
            "standoff": 15
           },
           "zerolinecolor": "white",
           "zerolinewidth": 2
          },
          "yaxis": {
           "automargin": true,
           "gridcolor": "white",
           "linecolor": "white",
           "ticks": "",
           "title": {
            "standoff": 15
           },
           "zerolinecolor": "white",
           "zerolinewidth": 2
          }
         }
        },
        "title": {
         "text": "taux de marge moyen par type de produit"
        },
        "xaxis": {
         "anchor": "y",
         "domain": [
          0,
          1
         ],
         "title": {
          "text": "taux_marge"
         }
        },
        "yaxis": {
         "anchor": "x",
         "domain": [
          0,
          1
         ],
         "title": {
          "text": "product_type"
         }
        }
       }
      }
     },
     "metadata": {},
     "output_type": "display_data"
    }
   ],
   "source": [
    "#création d'un dataframe avec le taux de marge moyen par type de produit\n",
    "moy_taux_marge=pd.DataFrame(round(df_merged.groupby('product_type')['taux_marge'].mean(),2))\n",
    "moy_taux_marge=moy_taux_marge.sort_values(by='taux_marge', ascending=False).reset_index()\n",
    "print(moy_taux_marge)\n",
    "\n",
    "#Affichage dans un graphique du taux de marge par type de produit\n",
    "fig=px.bar(moy_taux_marge,y='product_type',x='taux_marge',title=\"taux de marge moyen par type de produit\")\n",
    "colors = px.colors.diverging.RdYlGn\n",
    "fig.update_traces(marker=dict(color=moy_taux_marge['taux_marge'], colorscale=colors),text=moy_taux_marge['taux_marge'], textposition='inside',orientation='h')\n",
    "fig.show()"
   ]
  },
  {
   "cell_type": "markdown",
   "id": "ce216060",
   "metadata": {},
   "source": [
    "<div style=\"border: 1px solid RGB(51,165,182);\" >\n",
    "<h3 style=\"margin: auto; padding: 20px; color: RGB(51,165,182); \">Etape 5.5 - Analyse des correlations entre les variables stock, sales et price</h3>\n",
    "</div>"
   ]
  },
  {
   "cell_type": "code",
   "execution_count": 150,
   "id": "12e4a540",
   "metadata": {},
   "outputs": [
    {
     "data": {
      "text/plain": [
       "<Axes: >"
      ]
     },
     "execution_count": 150,
     "metadata": {},
     "output_type": "execute_result"
    },
    {
     "data": {
      "image/png": "[encoded data removed]",
      "text/plain": [
       "<Figure size 640x480 with 2 Axes>"
      ]
     },
     "metadata": {},
     "output_type": "display_data"
    }
   ],
   "source": [
    "############################\n",
    "# Analyse des correlations #\n",
    "############################\n",
    "\n",
    "#Création d'un heatmap seaborn de correlation avec les variables stock, sales et price\n",
    "df_heatmap=df_merged[['stock_quantity','total_sales','price']]\n",
    "sns.heatmap(df_heatmap.corr(), vmin=-1, vmax=+1, annot=True, cmap=\"coolwarm\")"
   ]
  },
  {
   "cell_type": "code",
   "execution_count": 151,
   "id": "a902b9e9",
   "metadata": {},
   "outputs": [
    {
     "data": {
      "text/plain": [
       "<Axes: >"
      ]
     },
     "execution_count": 151,
     "metadata": {},
     "output_type": "execute_result"
    },
    {
     "data": {
      "image/png": "[encoded data removed]",
      "text/plain": [
       "<Figure size 640x480 with 2 Axes>"
      ]
     },
     "metadata": {},
     "output_type": "display_data"
    }
   ],
   "source": [
    "#on peut également créer un mask pour n'afficher qu'une demi heatmap\n",
    "upp_mat = np.triu(df_heatmap.corr())\n",
    "sns.heatmap(df_heatmap.corr(), vmin=-1, vmax=+1, annot=True,mask=upp_mat, cmap=\"coolwarm\")"
   ]
  },
  {
   "cell_type": "code",
   "execution_count": 152,
   "id": "c49d1459",
   "metadata": {},
   "outputs": [
    {
     "name": "stdout",
     "output_type": "stream",
     "text": [
      "Stock_quantity et price on une correlation de -0.87.\n",
      "Total_sales et price -0.52.\n",
      "Total_sales et stock quantity de 0.44. \n",
      "\n",
      "Sur une échelle de correlation de 1 à -1.\n",
      "Il semble évident que les ventes influe sur les stocks mais que les prix et les ventes se soient pas en corrélation. le résultat des prix corrélés avec les stocks est la différence \n",
      "entre les deux valeurs précédentes.\n"
     ]
    }
   ],
   "source": [
    "#Que peut-on conclure des correlations ?\n",
    "print('Stock_quantity et price on une correlation de -0.87.\\nTotal_sales et price -0.52.\\nTotal_sales et stock quantity de 0.44.',\n",
    "      \"\\n\\nSur une échelle de correlation de 1 à -1.\\nIl semble évident que les ventes influe sur les stocks mais que les prix et les ventes se soient pas en corrélation.\",\n",
    "      \"le résultat des prix corrélés avec les stocks est la différence \\nentre les deux valeurs précédentes.\")"
   ]
  },
  {
   "cell_type": "markdown",
   "id": "f1d22f1d",
   "metadata": {},
   "source": [
    "<div style=\"border: 1px solid RGB(51,165,182);\" >\n",
    "<h3 style=\"margin: auto; padding: 20px; color: RGB(51,165,182); \">Etape 5.6 - Mettre à disposition la nouvelle table sur un fichier Excel</h3>\n",
    "</div>"
   ]
  },
  {
   "cell_type": "code",
   "execution_count": 153,
   "id": "09bfe632",
   "metadata": {},
   "outputs": [],
   "source": [
    "#Mettre le dataset df_merge sur un fichier Excel\n",
    "df_merged.to_excel(\"df_merged.xlsx\",\n",
    "             sheet_name='bottleneck')  \n",
    "\n",
    "#Cette étape peut-être utile pour partager le résultat du dataset obtenu pour le partager avec les équipes.  \n"
   ]
  }
 ],
 "metadata": {
  "kernelspec": {
   "display_name": "Python 3",
   "language": "python",
   "name": "python3"
  },
  "language_info": {
   "codemirror_mode": {
    "name": "ipython",
    "version": 3
   },
   "file_extension": ".py",
   "mimetype": "text/x-python",
   "name": "python",
   "nbconvert_exporter": "python",
   "pygments_lexer": "ipython3",
   "version": "3.11.4"
  }
 },
 "nbformat": 4,
 "nbformat_minor": 5
}
